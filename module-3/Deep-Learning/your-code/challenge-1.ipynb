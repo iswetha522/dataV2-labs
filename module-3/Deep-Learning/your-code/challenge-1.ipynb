{
 "cells": [
  {
   "cell_type": "markdown",
   "metadata": {},
   "source": [
    "# Challenge 1 - Tic Tac Toe\n",
    "\n",
    "In this lab you will perform deep learning analysis on a dataset of playing [Tic Tac Toe](https://en.wikipedia.org/wiki/Tic-tac-toe).\n",
    "\n",
    "There are 9 grids in Tic Tac Toe that are coded as the following picture shows:\n",
    "\n",
    "![Tic Tac Toe Grids](tttboard.jpg)\n",
    "\n",
    "In the first 9 columns of the dataset you can find which marks (`x` or `o`) exist in the grids. If there is no mark in a certain grid, it is labeled as `b`. The last column is `class` which tells you whether Player X (who always moves first in Tic Tac Toe) wins in this configuration. Note that when `class` has the value `False`, it means either Player O wins the game or it ends up as a draw."
   ]
  },
  {
   "cell_type": "markdown",
   "metadata": {},
   "source": [
    "Follow the steps suggested below to conduct a neural network analysis using Tensorflow and Keras. You will build a deep learning model to predict whether Player X wins the game or not.\n",
    "\n",
    "## Step 1: Data Engineering\n",
    "\n",
    "This dataset is almost in the ready-to-use state so you do not need to worry about missing values and so on. Still, some simple data engineering is needed.\n",
    "\n",
    "1. Read `tic-tac-toe.csv` into a dataframe.\n",
    "1. Inspect the dataset. Determine if the dataset is reliable by eyeballing the data.\n",
    "1. Convert the categorical values to numeric in all columns.\n",
    "1. Separate the inputs and output.\n",
    "1. Normalize the input data."
   ]
  },
  {
   "cell_type": "code",
   "execution_count": 1,
   "metadata": {},
   "outputs": [],
   "source": [
    "# your code here\n",
    "import pandas as pd\n",
    "import numpy as np"
   ]
  },
  {
   "cell_type": "code",
   "execution_count": 2,
   "metadata": {},
   "outputs": [],
   "source": [
    "# Read tic-tac-toe.csv into a dataframe.\n",
    "tic_tac_toe = pd.read_csv('/Users/iswetha/ironhack/dataV2-labs/module-3/Deep-Learning/your-code/tic-tac-toe.csv')"
   ]
  },
  {
   "cell_type": "code",
   "execution_count": 3,
   "metadata": {},
   "outputs": [
    {
     "data": {
      "text/html": [
       "<div>\n",
       "<style scoped>\n",
       "    .dataframe tbody tr th:only-of-type {\n",
       "        vertical-align: middle;\n",
       "    }\n",
       "\n",
       "    .dataframe tbody tr th {\n",
       "        vertical-align: top;\n",
       "    }\n",
       "\n",
       "    .dataframe thead th {\n",
       "        text-align: right;\n",
       "    }\n",
       "</style>\n",
       "<table border=\"1\" class=\"dataframe\">\n",
       "  <thead>\n",
       "    <tr style=\"text-align: right;\">\n",
       "      <th></th>\n",
       "      <th>TL</th>\n",
       "      <th>TM</th>\n",
       "      <th>TR</th>\n",
       "      <th>ML</th>\n",
       "      <th>MM</th>\n",
       "      <th>MR</th>\n",
       "      <th>BL</th>\n",
       "      <th>BM</th>\n",
       "      <th>BR</th>\n",
       "      <th>class</th>\n",
       "    </tr>\n",
       "  </thead>\n",
       "  <tbody>\n",
       "    <tr>\n",
       "      <th>0</th>\n",
       "      <td>x</td>\n",
       "      <td>x</td>\n",
       "      <td>x</td>\n",
       "      <td>x</td>\n",
       "      <td>o</td>\n",
       "      <td>o</td>\n",
       "      <td>x</td>\n",
       "      <td>o</td>\n",
       "      <td>o</td>\n",
       "      <td>True</td>\n",
       "    </tr>\n",
       "    <tr>\n",
       "      <th>1</th>\n",
       "      <td>x</td>\n",
       "      <td>x</td>\n",
       "      <td>x</td>\n",
       "      <td>x</td>\n",
       "      <td>o</td>\n",
       "      <td>o</td>\n",
       "      <td>o</td>\n",
       "      <td>x</td>\n",
       "      <td>o</td>\n",
       "      <td>True</td>\n",
       "    </tr>\n",
       "    <tr>\n",
       "      <th>2</th>\n",
       "      <td>x</td>\n",
       "      <td>x</td>\n",
       "      <td>x</td>\n",
       "      <td>x</td>\n",
       "      <td>o</td>\n",
       "      <td>o</td>\n",
       "      <td>o</td>\n",
       "      <td>o</td>\n",
       "      <td>x</td>\n",
       "      <td>True</td>\n",
       "    </tr>\n",
       "    <tr>\n",
       "      <th>3</th>\n",
       "      <td>x</td>\n",
       "      <td>x</td>\n",
       "      <td>x</td>\n",
       "      <td>x</td>\n",
       "      <td>o</td>\n",
       "      <td>o</td>\n",
       "      <td>o</td>\n",
       "      <td>b</td>\n",
       "      <td>b</td>\n",
       "      <td>True</td>\n",
       "    </tr>\n",
       "    <tr>\n",
       "      <th>4</th>\n",
       "      <td>x</td>\n",
       "      <td>x</td>\n",
       "      <td>x</td>\n",
       "      <td>x</td>\n",
       "      <td>o</td>\n",
       "      <td>o</td>\n",
       "      <td>b</td>\n",
       "      <td>o</td>\n",
       "      <td>b</td>\n",
       "      <td>True</td>\n",
       "    </tr>\n",
       "  </tbody>\n",
       "</table>\n",
       "</div>"
      ],
      "text/plain": [
       "  TL TM TR ML MM MR BL BM BR  class\n",
       "0  x  x  x  x  o  o  x  o  o   True\n",
       "1  x  x  x  x  o  o  o  x  o   True\n",
       "2  x  x  x  x  o  o  o  o  x   True\n",
       "3  x  x  x  x  o  o  o  b  b   True\n",
       "4  x  x  x  x  o  o  b  o  b   True"
      ]
     },
     "execution_count": 3,
     "metadata": {},
     "output_type": "execute_result"
    }
   ],
   "source": [
    "tic_tac_toe.head()"
   ]
  },
  {
   "cell_type": "code",
   "execution_count": 4,
   "metadata": {},
   "outputs": [
    {
     "data": {
      "text/html": [
       "<div>\n",
       "<style scoped>\n",
       "    .dataframe tbody tr th:only-of-type {\n",
       "        vertical-align: middle;\n",
       "    }\n",
       "\n",
       "    .dataframe tbody tr th {\n",
       "        vertical-align: top;\n",
       "    }\n",
       "\n",
       "    .dataframe thead th {\n",
       "        text-align: right;\n",
       "    }\n",
       "</style>\n",
       "<table border=\"1\" class=\"dataframe\">\n",
       "  <thead>\n",
       "    <tr style=\"text-align: right;\">\n",
       "      <th></th>\n",
       "      <th>TL</th>\n",
       "      <th>TM</th>\n",
       "      <th>TR</th>\n",
       "      <th>ML</th>\n",
       "      <th>MM</th>\n",
       "      <th>MR</th>\n",
       "      <th>BL</th>\n",
       "      <th>BM</th>\n",
       "      <th>BR</th>\n",
       "      <th>class</th>\n",
       "    </tr>\n",
       "  </thead>\n",
       "  <tbody>\n",
       "    <tr>\n",
       "      <th>count</th>\n",
       "      <td>958</td>\n",
       "      <td>958</td>\n",
       "      <td>958</td>\n",
       "      <td>958</td>\n",
       "      <td>958</td>\n",
       "      <td>958</td>\n",
       "      <td>958</td>\n",
       "      <td>958</td>\n",
       "      <td>958</td>\n",
       "      <td>958</td>\n",
       "    </tr>\n",
       "    <tr>\n",
       "      <th>unique</th>\n",
       "      <td>3</td>\n",
       "      <td>3</td>\n",
       "      <td>3</td>\n",
       "      <td>3</td>\n",
       "      <td>3</td>\n",
       "      <td>3</td>\n",
       "      <td>3</td>\n",
       "      <td>3</td>\n",
       "      <td>3</td>\n",
       "      <td>2</td>\n",
       "    </tr>\n",
       "    <tr>\n",
       "      <th>top</th>\n",
       "      <td>x</td>\n",
       "      <td>x</td>\n",
       "      <td>x</td>\n",
       "      <td>x</td>\n",
       "      <td>x</td>\n",
       "      <td>x</td>\n",
       "      <td>x</td>\n",
       "      <td>x</td>\n",
       "      <td>x</td>\n",
       "      <td>True</td>\n",
       "    </tr>\n",
       "    <tr>\n",
       "      <th>freq</th>\n",
       "      <td>418</td>\n",
       "      <td>378</td>\n",
       "      <td>418</td>\n",
       "      <td>378</td>\n",
       "      <td>458</td>\n",
       "      <td>378</td>\n",
       "      <td>418</td>\n",
       "      <td>378</td>\n",
       "      <td>418</td>\n",
       "      <td>626</td>\n",
       "    </tr>\n",
       "  </tbody>\n",
       "</table>\n",
       "</div>"
      ],
      "text/plain": [
       "         TL   TM   TR   ML   MM   MR   BL   BM   BR class\n",
       "count   958  958  958  958  958  958  958  958  958   958\n",
       "unique    3    3    3    3    3    3    3    3    3     2\n",
       "top       x    x    x    x    x    x    x    x    x  True\n",
       "freq    418  378  418  378  458  378  418  378  418   626"
      ]
     },
     "execution_count": 4,
     "metadata": {},
     "output_type": "execute_result"
    }
   ],
   "source": [
    "# Inspect the dataset. Determine if the dataset is reliable by eyeballing the data.\n",
    "tic_tac_toe.describe()"
   ]
  },
  {
   "cell_type": "code",
   "execution_count": 5,
   "metadata": {},
   "outputs": [
    {
     "data": {
      "text/plain": [
       "TL       object\n",
       "TM       object\n",
       "TR       object\n",
       "ML       object\n",
       "MM       object\n",
       "MR       object\n",
       "BL       object\n",
       "BM       object\n",
       "BR       object\n",
       "class      bool\n",
       "dtype: object"
      ]
     },
     "execution_count": 5,
     "metadata": {},
     "output_type": "execute_result"
    }
   ],
   "source": [
    "tic_tac_toe.dtypes"
   ]
  },
  {
   "cell_type": "code",
   "execution_count": 6,
   "metadata": {},
   "outputs": [
    {
     "data": {
      "text/plain": [
       "Index(['TL', 'TM', 'TR', 'ML', 'MM', 'MR', 'BL', 'BM', 'BR', 'class'], dtype='object')"
      ]
     },
     "execution_count": 6,
     "metadata": {},
     "output_type": "execute_result"
    }
   ],
   "source": [
    "tic_tac_toe.columns"
   ]
  },
  {
   "cell_type": "code",
   "execution_count": 7,
   "metadata": {},
   "outputs": [
    {
     "name": "stdout",
     "output_type": "stream",
     "text": [
      "['x', 'b', 'o']\n",
      "['x', 'b', 'o']\n",
      "['x', 'b', 'o']\n",
      "['x', 'b', 'o']\n",
      "['x', 'b', 'o']\n",
      "['x', 'b', 'o']\n",
      "['x', 'b', 'o']\n",
      "['x', 'b', 'o']\n",
      "['x', 'b', 'o']\n",
      "[False, True]\n"
     ]
    }
   ],
   "source": [
    "for col in tic_tac_toe.columns:\n",
    "    col = list(set(tic_tac_toe[col]))\n",
    "    print(col)"
   ]
  },
  {
   "cell_type": "code",
   "execution_count": 8,
   "metadata": {},
   "outputs": [],
   "source": [
    "#Convert the categorical values to numeric in all columns.\n",
    "tic_tac_toe = tic_tac_toe.apply(lambda col:pd.Categorical(col).codes)"
   ]
  },
  {
   "cell_type": "code",
   "execution_count": 9,
   "metadata": {},
   "outputs": [
    {
     "data": {
      "text/html": [
       "<div>\n",
       "<style scoped>\n",
       "    .dataframe tbody tr th:only-of-type {\n",
       "        vertical-align: middle;\n",
       "    }\n",
       "\n",
       "    .dataframe tbody tr th {\n",
       "        vertical-align: top;\n",
       "    }\n",
       "\n",
       "    .dataframe thead th {\n",
       "        text-align: right;\n",
       "    }\n",
       "</style>\n",
       "<table border=\"1\" class=\"dataframe\">\n",
       "  <thead>\n",
       "    <tr style=\"text-align: right;\">\n",
       "      <th></th>\n",
       "      <th>TL</th>\n",
       "      <th>TM</th>\n",
       "      <th>TR</th>\n",
       "      <th>ML</th>\n",
       "      <th>MM</th>\n",
       "      <th>MR</th>\n",
       "      <th>BL</th>\n",
       "      <th>BM</th>\n",
       "      <th>BR</th>\n",
       "      <th>class</th>\n",
       "    </tr>\n",
       "  </thead>\n",
       "  <tbody>\n",
       "    <tr>\n",
       "      <th>0</th>\n",
       "      <td>2</td>\n",
       "      <td>2</td>\n",
       "      <td>2</td>\n",
       "      <td>2</td>\n",
       "      <td>1</td>\n",
       "      <td>1</td>\n",
       "      <td>2</td>\n",
       "      <td>1</td>\n",
       "      <td>1</td>\n",
       "      <td>1</td>\n",
       "    </tr>\n",
       "    <tr>\n",
       "      <th>1</th>\n",
       "      <td>2</td>\n",
       "      <td>2</td>\n",
       "      <td>2</td>\n",
       "      <td>2</td>\n",
       "      <td>1</td>\n",
       "      <td>1</td>\n",
       "      <td>1</td>\n",
       "      <td>2</td>\n",
       "      <td>1</td>\n",
       "      <td>1</td>\n",
       "    </tr>\n",
       "    <tr>\n",
       "      <th>2</th>\n",
       "      <td>2</td>\n",
       "      <td>2</td>\n",
       "      <td>2</td>\n",
       "      <td>2</td>\n",
       "      <td>1</td>\n",
       "      <td>1</td>\n",
       "      <td>1</td>\n",
       "      <td>1</td>\n",
       "      <td>2</td>\n",
       "      <td>1</td>\n",
       "    </tr>\n",
       "    <tr>\n",
       "      <th>3</th>\n",
       "      <td>2</td>\n",
       "      <td>2</td>\n",
       "      <td>2</td>\n",
       "      <td>2</td>\n",
       "      <td>1</td>\n",
       "      <td>1</td>\n",
       "      <td>1</td>\n",
       "      <td>0</td>\n",
       "      <td>0</td>\n",
       "      <td>1</td>\n",
       "    </tr>\n",
       "    <tr>\n",
       "      <th>4</th>\n",
       "      <td>2</td>\n",
       "      <td>2</td>\n",
       "      <td>2</td>\n",
       "      <td>2</td>\n",
       "      <td>1</td>\n",
       "      <td>1</td>\n",
       "      <td>0</td>\n",
       "      <td>1</td>\n",
       "      <td>0</td>\n",
       "      <td>1</td>\n",
       "    </tr>\n",
       "  </tbody>\n",
       "</table>\n",
       "</div>"
      ],
      "text/plain": [
       "   TL  TM  TR  ML  MM  MR  BL  BM  BR  class\n",
       "0   2   2   2   2   1   1   2   1   1      1\n",
       "1   2   2   2   2   1   1   1   2   1      1\n",
       "2   2   2   2   2   1   1   1   1   2      1\n",
       "3   2   2   2   2   1   1   1   0   0      1\n",
       "4   2   2   2   2   1   1   0   1   0      1"
      ]
     },
     "execution_count": 9,
     "metadata": {},
     "output_type": "execute_result"
    }
   ],
   "source": [
    "tic_tac_toe.head()"
   ]
  },
  {
   "cell_type": "code",
   "execution_count": 10,
   "metadata": {},
   "outputs": [
    {
     "data": {
      "text/plain": [
       "2    418\n",
       "1    335\n",
       "0    205\n",
       "Name: TL, dtype: int64"
      ]
     },
     "execution_count": 10,
     "metadata": {},
     "output_type": "execute_result"
    }
   ],
   "source": [
    "tic_tac_toe['TL'].value_counts()"
   ]
  },
  {
   "cell_type": "code",
   "execution_count": 11,
   "metadata": {},
   "outputs": [
    {
     "data": {
      "text/plain": [
       "2    378\n",
       "1    330\n",
       "0    250\n",
       "Name: TM, dtype: int64"
      ]
     },
     "execution_count": 11,
     "metadata": {},
     "output_type": "execute_result"
    }
   ],
   "source": [
    "tic_tac_toe['TM'].value_counts()"
   ]
  },
  {
   "cell_type": "code",
   "execution_count": 12,
   "metadata": {},
   "outputs": [
    {
     "data": {
      "text/plain": [
       "2    418\n",
       "1    335\n",
       "0    205\n",
       "Name: TR, dtype: int64"
      ]
     },
     "execution_count": 12,
     "metadata": {},
     "output_type": "execute_result"
    }
   ],
   "source": [
    "tic_tac_toe['TR'].value_counts()"
   ]
  },
  {
   "cell_type": "code",
   "execution_count": 13,
   "metadata": {},
   "outputs": [
    {
     "data": {
      "text/plain": [
       "2    378\n",
       "1    330\n",
       "0    250\n",
       "Name: ML, dtype: int64"
      ]
     },
     "execution_count": 13,
     "metadata": {},
     "output_type": "execute_result"
    }
   ],
   "source": [
    "tic_tac_toe['ML'].value_counts()"
   ]
  },
  {
   "cell_type": "code",
   "execution_count": 14,
   "metadata": {},
   "outputs": [
    {
     "data": {
      "text/plain": [
       "2    458\n",
       "1    340\n",
       "0    160\n",
       "Name: MM, dtype: int64"
      ]
     },
     "execution_count": 14,
     "metadata": {},
     "output_type": "execute_result"
    }
   ],
   "source": [
    "tic_tac_toe['MM'].value_counts()"
   ]
  },
  {
   "cell_type": "code",
   "execution_count": 15,
   "metadata": {},
   "outputs": [
    {
     "data": {
      "text/plain": [
       "2    378\n",
       "1    330\n",
       "0    250\n",
       "Name: MR, dtype: int64"
      ]
     },
     "execution_count": 15,
     "metadata": {},
     "output_type": "execute_result"
    }
   ],
   "source": [
    "tic_tac_toe['MR'].value_counts()"
   ]
  },
  {
   "cell_type": "code",
   "execution_count": 16,
   "metadata": {},
   "outputs": [
    {
     "data": {
      "text/plain": [
       "2    418\n",
       "1    335\n",
       "0    205\n",
       "Name: BL, dtype: int64"
      ]
     },
     "execution_count": 16,
     "metadata": {},
     "output_type": "execute_result"
    }
   ],
   "source": [
    "tic_tac_toe['BL'].value_counts()"
   ]
  },
  {
   "cell_type": "code",
   "execution_count": 17,
   "metadata": {},
   "outputs": [
    {
     "data": {
      "text/plain": [
       "2    378\n",
       "1    330\n",
       "0    250\n",
       "Name: BM, dtype: int64"
      ]
     },
     "execution_count": 17,
     "metadata": {},
     "output_type": "execute_result"
    }
   ],
   "source": [
    "tic_tac_toe['BM'].value_counts()"
   ]
  },
  {
   "cell_type": "code",
   "execution_count": 18,
   "metadata": {},
   "outputs": [
    {
     "data": {
      "text/plain": [
       "2    418\n",
       "1    335\n",
       "0    205\n",
       "Name: BR, dtype: int64"
      ]
     },
     "execution_count": 18,
     "metadata": {},
     "output_type": "execute_result"
    }
   ],
   "source": [
    "tic_tac_toe['BR'].value_counts()"
   ]
  },
  {
   "cell_type": "code",
   "execution_count": 19,
   "metadata": {},
   "outputs": [
    {
     "data": {
      "text/plain": [
       "1    626\n",
       "0    332\n",
       "Name: class, dtype: int64"
      ]
     },
     "execution_count": 19,
     "metadata": {},
     "output_type": "execute_result"
    }
   ],
   "source": [
    "tic_tac_toe['class'].value_counts()"
   ]
  },
  {
   "cell_type": "code",
   "execution_count": 20,
   "metadata": {},
   "outputs": [],
   "source": [
    "# Separate the inputs and output.\n",
    "input_df = tic_tac_toe[tic_tac_toe.columns.difference(['class'])]\n",
    "output_df = tic_tac_toe['class']\n"
   ]
  },
  {
   "cell_type": "code",
   "execution_count": 21,
   "metadata": {},
   "outputs": [
    {
     "data": {
      "text/html": [
       "<div>\n",
       "<style scoped>\n",
       "    .dataframe tbody tr th:only-of-type {\n",
       "        vertical-align: middle;\n",
       "    }\n",
       "\n",
       "    .dataframe tbody tr th {\n",
       "        vertical-align: top;\n",
       "    }\n",
       "\n",
       "    .dataframe thead th {\n",
       "        text-align: right;\n",
       "    }\n",
       "</style>\n",
       "<table border=\"1\" class=\"dataframe\">\n",
       "  <thead>\n",
       "    <tr style=\"text-align: right;\">\n",
       "      <th></th>\n",
       "      <th>BL</th>\n",
       "      <th>BM</th>\n",
       "      <th>BR</th>\n",
       "      <th>ML</th>\n",
       "      <th>MM</th>\n",
       "      <th>MR</th>\n",
       "      <th>TL</th>\n",
       "      <th>TM</th>\n",
       "      <th>TR</th>\n",
       "    </tr>\n",
       "  </thead>\n",
       "  <tbody>\n",
       "    <tr>\n",
       "      <th>0</th>\n",
       "      <td>2</td>\n",
       "      <td>1</td>\n",
       "      <td>1</td>\n",
       "      <td>2</td>\n",
       "      <td>1</td>\n",
       "      <td>1</td>\n",
       "      <td>2</td>\n",
       "      <td>2</td>\n",
       "      <td>2</td>\n",
       "    </tr>\n",
       "    <tr>\n",
       "      <th>1</th>\n",
       "      <td>1</td>\n",
       "      <td>2</td>\n",
       "      <td>1</td>\n",
       "      <td>2</td>\n",
       "      <td>1</td>\n",
       "      <td>1</td>\n",
       "      <td>2</td>\n",
       "      <td>2</td>\n",
       "      <td>2</td>\n",
       "    </tr>\n",
       "    <tr>\n",
       "      <th>2</th>\n",
       "      <td>1</td>\n",
       "      <td>1</td>\n",
       "      <td>2</td>\n",
       "      <td>2</td>\n",
       "      <td>1</td>\n",
       "      <td>1</td>\n",
       "      <td>2</td>\n",
       "      <td>2</td>\n",
       "      <td>2</td>\n",
       "    </tr>\n",
       "    <tr>\n",
       "      <th>3</th>\n",
       "      <td>1</td>\n",
       "      <td>0</td>\n",
       "      <td>0</td>\n",
       "      <td>2</td>\n",
       "      <td>1</td>\n",
       "      <td>1</td>\n",
       "      <td>2</td>\n",
       "      <td>2</td>\n",
       "      <td>2</td>\n",
       "    </tr>\n",
       "    <tr>\n",
       "      <th>4</th>\n",
       "      <td>0</td>\n",
       "      <td>1</td>\n",
       "      <td>0</td>\n",
       "      <td>2</td>\n",
       "      <td>1</td>\n",
       "      <td>1</td>\n",
       "      <td>2</td>\n",
       "      <td>2</td>\n",
       "      <td>2</td>\n",
       "    </tr>\n",
       "  </tbody>\n",
       "</table>\n",
       "</div>"
      ],
      "text/plain": [
       "   BL  BM  BR  ML  MM  MR  TL  TM  TR\n",
       "0   2   1   1   2   1   1   2   2   2\n",
       "1   1   2   1   2   1   1   2   2   2\n",
       "2   1   1   2   2   1   1   2   2   2\n",
       "3   1   0   0   2   1   1   2   2   2\n",
       "4   0   1   0   2   1   1   2   2   2"
      ]
     },
     "execution_count": 21,
     "metadata": {},
     "output_type": "execute_result"
    }
   ],
   "source": [
    "input_df.head()"
   ]
  },
  {
   "cell_type": "code",
   "execution_count": 22,
   "metadata": {},
   "outputs": [
    {
     "data": {
      "text/plain": [
       "0    1\n",
       "1    1\n",
       "2    1\n",
       "3    1\n",
       "4    1\n",
       "Name: class, dtype: int8"
      ]
     },
     "execution_count": 22,
     "metadata": {},
     "output_type": "execute_result"
    }
   ],
   "source": [
    "output_df.head()"
   ]
  },
  {
   "cell_type": "code",
   "execution_count": 23,
   "metadata": {},
   "outputs": [
    {
     "data": {
      "text/html": [
       "<div>\n",
       "<style scoped>\n",
       "    .dataframe tbody tr th:only-of-type {\n",
       "        vertical-align: middle;\n",
       "    }\n",
       "\n",
       "    .dataframe tbody tr th {\n",
       "        vertical-align: top;\n",
       "    }\n",
       "\n",
       "    .dataframe thead th {\n",
       "        text-align: right;\n",
       "    }\n",
       "</style>\n",
       "<table border=\"1\" class=\"dataframe\">\n",
       "  <thead>\n",
       "    <tr style=\"text-align: right;\">\n",
       "      <th></th>\n",
       "      <th>BL</th>\n",
       "      <th>BM</th>\n",
       "      <th>BR</th>\n",
       "      <th>ML</th>\n",
       "      <th>MM</th>\n",
       "      <th>MR</th>\n",
       "      <th>TL</th>\n",
       "      <th>TM</th>\n",
       "      <th>TR</th>\n",
       "    </tr>\n",
       "  </thead>\n",
       "  <tbody>\n",
       "    <tr>\n",
       "      <th>0</th>\n",
       "      <td>0.408248</td>\n",
       "      <td>0.204124</td>\n",
       "      <td>0.204124</td>\n",
       "      <td>0.408248</td>\n",
       "      <td>0.204124</td>\n",
       "      <td>0.204124</td>\n",
       "      <td>0.408248</td>\n",
       "      <td>0.408248</td>\n",
       "      <td>0.408248</td>\n",
       "    </tr>\n",
       "    <tr>\n",
       "      <th>1</th>\n",
       "      <td>0.204124</td>\n",
       "      <td>0.408248</td>\n",
       "      <td>0.204124</td>\n",
       "      <td>0.408248</td>\n",
       "      <td>0.204124</td>\n",
       "      <td>0.204124</td>\n",
       "      <td>0.408248</td>\n",
       "      <td>0.408248</td>\n",
       "      <td>0.408248</td>\n",
       "    </tr>\n",
       "    <tr>\n",
       "      <th>2</th>\n",
       "      <td>0.204124</td>\n",
       "      <td>0.204124</td>\n",
       "      <td>0.408248</td>\n",
       "      <td>0.408248</td>\n",
       "      <td>0.204124</td>\n",
       "      <td>0.204124</td>\n",
       "      <td>0.408248</td>\n",
       "      <td>0.408248</td>\n",
       "      <td>0.408248</td>\n",
       "    </tr>\n",
       "    <tr>\n",
       "      <th>3</th>\n",
       "      <td>0.229416</td>\n",
       "      <td>0.000000</td>\n",
       "      <td>0.000000</td>\n",
       "      <td>0.458831</td>\n",
       "      <td>0.229416</td>\n",
       "      <td>0.229416</td>\n",
       "      <td>0.458831</td>\n",
       "      <td>0.458831</td>\n",
       "      <td>0.458831</td>\n",
       "    </tr>\n",
       "    <tr>\n",
       "      <th>4</th>\n",
       "      <td>0.000000</td>\n",
       "      <td>0.229416</td>\n",
       "      <td>0.000000</td>\n",
       "      <td>0.458831</td>\n",
       "      <td>0.229416</td>\n",
       "      <td>0.229416</td>\n",
       "      <td>0.458831</td>\n",
       "      <td>0.458831</td>\n",
       "      <td>0.458831</td>\n",
       "    </tr>\n",
       "  </tbody>\n",
       "</table>\n",
       "</div>"
      ],
      "text/plain": [
       "         BL        BM        BR        ML        MM        MR        TL  \\\n",
       "0  0.408248  0.204124  0.204124  0.408248  0.204124  0.204124  0.408248   \n",
       "1  0.204124  0.408248  0.204124  0.408248  0.204124  0.204124  0.408248   \n",
       "2  0.204124  0.204124  0.408248  0.408248  0.204124  0.204124  0.408248   \n",
       "3  0.229416  0.000000  0.000000  0.458831  0.229416  0.229416  0.458831   \n",
       "4  0.000000  0.229416  0.000000  0.458831  0.229416  0.229416  0.458831   \n",
       "\n",
       "         TM        TR  \n",
       "0  0.408248  0.408248  \n",
       "1  0.408248  0.408248  \n",
       "2  0.408248  0.408248  \n",
       "3  0.458831  0.458831  \n",
       "4  0.458831  0.458831  "
      ]
     },
     "execution_count": 23,
     "metadata": {},
     "output_type": "execute_result"
    }
   ],
   "source": [
    "# Normalize the input data.\n",
    "import tensorflow as tf\n",
    "normalized_df = tf.keras.utils.normalize(input_df, axis= 1)\n",
    "\n",
    "# normalized_df=(input_df-input_df.mean())/input_df.std() # without using tensor flow normalizing the input dataframe.\n",
    "normalized_df.head()"
   ]
  },
  {
   "cell_type": "markdown",
   "metadata": {},
   "source": [
    "## Step 2: Build Neural Network\n",
    "\n",
    "To build the neural network, you can refer to your own codes you wrote while following the [Deep Learning with Python, TensorFlow, and Keras tutorial](https://www.youtube.com/watch?v=wQ8BIBpya2k) in the lesson. It's pretty similar to what you will be doing in this lab.\n",
    "\n",
    "1. Split the training and test data.\n",
    "1. Create a `Sequential` model.\n",
    "1. Add several layers to your model. Make sure you use ReLU as the activation function for the middle layers. Use Softmax for the output layer because each output has a single lable and all the label probabilities add up to 1.\n",
    "1. Compile the model using `adam` as the optimizer and `sparse_categorical_crossentropy` as the loss function. For metrics, use `accuracy` for now.\n",
    "1. Fit the training data.\n",
    "1. Evaluate your neural network model with the test data.\n",
    "1. Save your model as `tic-tac-toe.model`."
   ]
  },
  {
   "cell_type": "code",
   "execution_count": 24,
   "metadata": {},
   "outputs": [],
   "source": [
    "# your code here\n",
    "#Split the training and test data.\n",
    "from sklearn.model_selection import train_test_split\n",
    "X_train, X_test, y_train, y_test = train_test_split(normalized_df, output_df, test_size=0.2, random_state=42)"
   ]
  },
  {
   "cell_type": "code",
   "execution_count": 25,
   "metadata": {},
   "outputs": [
    {
     "data": {
      "text/plain": [
       "(766, 9)"
      ]
     },
     "execution_count": 25,
     "metadata": {},
     "output_type": "execute_result"
    }
   ],
   "source": [
    "X_train.shape"
   ]
  },
  {
   "cell_type": "code",
   "execution_count": 26,
   "metadata": {},
   "outputs": [
    {
     "data": {
      "text/plain": [
       "(192, 9)"
      ]
     },
     "execution_count": 26,
     "metadata": {},
     "output_type": "execute_result"
    }
   ],
   "source": [
    "X_test.shape"
   ]
  },
  {
   "cell_type": "code",
   "execution_count": 27,
   "metadata": {},
   "outputs": [
    {
     "data": {
      "text/html": [
       "<div>\n",
       "<style scoped>\n",
       "    .dataframe tbody tr th:only-of-type {\n",
       "        vertical-align: middle;\n",
       "    }\n",
       "\n",
       "    .dataframe tbody tr th {\n",
       "        vertical-align: top;\n",
       "    }\n",
       "\n",
       "    .dataframe thead th {\n",
       "        text-align: right;\n",
       "    }\n",
       "</style>\n",
       "<table border=\"1\" class=\"dataframe\">\n",
       "  <thead>\n",
       "    <tr style=\"text-align: right;\">\n",
       "      <th></th>\n",
       "      <th>BL</th>\n",
       "      <th>BM</th>\n",
       "      <th>BR</th>\n",
       "      <th>ML</th>\n",
       "      <th>MM</th>\n",
       "      <th>MR</th>\n",
       "      <th>TL</th>\n",
       "      <th>TM</th>\n",
       "      <th>TR</th>\n",
       "    </tr>\n",
       "  </thead>\n",
       "  <tbody>\n",
       "    <tr>\n",
       "      <th>836</th>\n",
       "      <td>0.447214</td>\n",
       "      <td>0.223607</td>\n",
       "      <td>0.447214</td>\n",
       "      <td>0.000000</td>\n",
       "      <td>0.447214</td>\n",
       "      <td>0.447214</td>\n",
       "      <td>0.223607</td>\n",
       "      <td>0.223607</td>\n",
       "      <td>0.223607</td>\n",
       "    </tr>\n",
       "    <tr>\n",
       "      <th>477</th>\n",
       "      <td>0.000000</td>\n",
       "      <td>0.000000</td>\n",
       "      <td>0.267261</td>\n",
       "      <td>0.534522</td>\n",
       "      <td>0.534522</td>\n",
       "      <td>0.534522</td>\n",
       "      <td>0.267261</td>\n",
       "      <td>0.000000</td>\n",
       "      <td>0.000000</td>\n",
       "    </tr>\n",
       "    <tr>\n",
       "      <th>350</th>\n",
       "      <td>0.229416</td>\n",
       "      <td>0.458831</td>\n",
       "      <td>0.229416</td>\n",
       "      <td>0.458831</td>\n",
       "      <td>0.458831</td>\n",
       "      <td>0.000000</td>\n",
       "      <td>0.229416</td>\n",
       "      <td>0.458831</td>\n",
       "      <td>0.000000</td>\n",
       "    </tr>\n",
       "    <tr>\n",
       "      <th>891</th>\n",
       "      <td>0.447214</td>\n",
       "      <td>0.223607</td>\n",
       "      <td>0.223607</td>\n",
       "      <td>0.447214</td>\n",
       "      <td>0.447214</td>\n",
       "      <td>0.223607</td>\n",
       "      <td>0.000000</td>\n",
       "      <td>0.447214</td>\n",
       "      <td>0.223607</td>\n",
       "    </tr>\n",
       "    <tr>\n",
       "      <th>855</th>\n",
       "      <td>0.000000</td>\n",
       "      <td>0.516398</td>\n",
       "      <td>0.258199</td>\n",
       "      <td>0.516398</td>\n",
       "      <td>0.258199</td>\n",
       "      <td>0.000000</td>\n",
       "      <td>0.258199</td>\n",
       "      <td>0.000000</td>\n",
       "      <td>0.516398</td>\n",
       "    </tr>\n",
       "    <tr>\n",
       "      <th>...</th>\n",
       "      <td>...</td>\n",
       "      <td>...</td>\n",
       "      <td>...</td>\n",
       "      <td>...</td>\n",
       "      <td>...</td>\n",
       "      <td>...</td>\n",
       "      <td>...</td>\n",
       "      <td>...</td>\n",
       "      <td>...</td>\n",
       "    </tr>\n",
       "    <tr>\n",
       "      <th>462</th>\n",
       "      <td>0.000000</td>\n",
       "      <td>0.458831</td>\n",
       "      <td>0.229416</td>\n",
       "      <td>0.458831</td>\n",
       "      <td>0.458831</td>\n",
       "      <td>0.458831</td>\n",
       "      <td>0.229416</td>\n",
       "      <td>0.000000</td>\n",
       "      <td>0.229416</td>\n",
       "    </tr>\n",
       "    <tr>\n",
       "      <th>673</th>\n",
       "      <td>0.223607</td>\n",
       "      <td>0.223607</td>\n",
       "      <td>0.000000</td>\n",
       "      <td>0.447214</td>\n",
       "      <td>0.223607</td>\n",
       "      <td>0.447214</td>\n",
       "      <td>0.447214</td>\n",
       "      <td>0.223607</td>\n",
       "      <td>0.447214</td>\n",
       "    </tr>\n",
       "    <tr>\n",
       "      <th>33</th>\n",
       "      <td>0.000000</td>\n",
       "      <td>0.000000</td>\n",
       "      <td>0.000000</td>\n",
       "      <td>0.267261</td>\n",
       "      <td>0.267261</td>\n",
       "      <td>0.000000</td>\n",
       "      <td>0.534522</td>\n",
       "      <td>0.534522</td>\n",
       "      <td>0.534522</td>\n",
       "    </tr>\n",
       "    <tr>\n",
       "      <th>31</th>\n",
       "      <td>0.000000</td>\n",
       "      <td>0.458831</td>\n",
       "      <td>0.229416</td>\n",
       "      <td>0.229416</td>\n",
       "      <td>0.229416</td>\n",
       "      <td>0.000000</td>\n",
       "      <td>0.458831</td>\n",
       "      <td>0.458831</td>\n",
       "      <td>0.458831</td>\n",
       "    </tr>\n",
       "    <tr>\n",
       "      <th>714</th>\n",
       "      <td>0.000000</td>\n",
       "      <td>0.000000</td>\n",
       "      <td>0.516398</td>\n",
       "      <td>0.258199</td>\n",
       "      <td>0.258199</td>\n",
       "      <td>0.258199</td>\n",
       "      <td>0.516398</td>\n",
       "      <td>0.000000</td>\n",
       "      <td>0.516398</td>\n",
       "    </tr>\n",
       "  </tbody>\n",
       "</table>\n",
       "<p>192 rows × 9 columns</p>\n",
       "</div>"
      ],
      "text/plain": [
       "           BL        BM        BR        ML        MM        MR        TL  \\\n",
       "836  0.447214  0.223607  0.447214  0.000000  0.447214  0.447214  0.223607   \n",
       "477  0.000000  0.000000  0.267261  0.534522  0.534522  0.534522  0.267261   \n",
       "350  0.229416  0.458831  0.229416  0.458831  0.458831  0.000000  0.229416   \n",
       "891  0.447214  0.223607  0.223607  0.447214  0.447214  0.223607  0.000000   \n",
       "855  0.000000  0.516398  0.258199  0.516398  0.258199  0.000000  0.258199   \n",
       "..        ...       ...       ...       ...       ...       ...       ...   \n",
       "462  0.000000  0.458831  0.229416  0.458831  0.458831  0.458831  0.229416   \n",
       "673  0.223607  0.223607  0.000000  0.447214  0.223607  0.447214  0.447214   \n",
       "33   0.000000  0.000000  0.000000  0.267261  0.267261  0.000000  0.534522   \n",
       "31   0.000000  0.458831  0.229416  0.229416  0.229416  0.000000  0.458831   \n",
       "714  0.000000  0.000000  0.516398  0.258199  0.258199  0.258199  0.516398   \n",
       "\n",
       "           TM        TR  \n",
       "836  0.223607  0.223607  \n",
       "477  0.000000  0.000000  \n",
       "350  0.458831  0.000000  \n",
       "891  0.447214  0.223607  \n",
       "855  0.000000  0.516398  \n",
       "..        ...       ...  \n",
       "462  0.000000  0.229416  \n",
       "673  0.223607  0.447214  \n",
       "33   0.534522  0.534522  \n",
       "31   0.458831  0.458831  \n",
       "714  0.000000  0.516398  \n",
       "\n",
       "[192 rows x 9 columns]"
      ]
     },
     "execution_count": 27,
     "metadata": {},
     "output_type": "execute_result"
    }
   ],
   "source": [
    "X_test"
   ]
  },
  {
   "cell_type": "code",
   "execution_count": 28,
   "metadata": {},
   "outputs": [
    {
     "data": {
      "text/plain": [
       "(766,)"
      ]
     },
     "execution_count": 28,
     "metadata": {},
     "output_type": "execute_result"
    }
   ],
   "source": [
    "y_train.shape"
   ]
  },
  {
   "cell_type": "code",
   "execution_count": 29,
   "metadata": {},
   "outputs": [
    {
     "data": {
      "text/plain": [
       "(192,)"
      ]
     },
     "execution_count": 29,
     "metadata": {},
     "output_type": "execute_result"
    }
   ],
   "source": [
    "y_test.shape"
   ]
  },
  {
   "cell_type": "code",
   "execution_count": 30,
   "metadata": {},
   "outputs": [],
   "source": [
    "#Create a Sequential model\n",
    "model = tf.keras.models.Sequential()\n"
   ]
  },
  {
   "cell_type": "code",
   "execution_count": 31,
   "metadata": {},
   "outputs": [],
   "source": [
    "#Add several layers to your model. Make sure you use ReLU as the activation function for the middle layers. Use Softmax for the output layer because each output has a single lable and all the label probabilities add up to 1.\n",
    "model.add(tf.keras.layers.Flatten())\n",
    "model.add(tf.keras.layers.Dense(128, activation = tf.nn.relu))\n",
    "model.add(tf.keras.layers.Dense(128, activation = tf.nn.relu))\n",
    "model.add(tf.keras.layers.Dense(2, activation = tf.nn.softmax))\n"
   ]
  },
  {
   "cell_type": "code",
   "execution_count": 32,
   "metadata": {},
   "outputs": [],
   "source": [
    "# model.add(tf.keras.layers.Flatten())\n",
    "# model.add(tf.keras.layers.Dense(128, activation = tf.nn.relu))\n",
    "# model.add(tf.keras.layers.Dense(128, activation = tf.nn.relu))\n",
    "# model.add(tf.keras.layers.Dense(128, activation = tf.nn.relu))\n",
    "# model.add(tf.keras.layers.Dense(128, activation = tf.nn.relu))\n",
    "# model.add(tf.keras.layers.Dense(2, activation = tf.nn.softmax))\n",
    "# \"\"\"accuracy: 0.7023 0s - loss: 0.6044 - accu\n",
    "#     loss - 0.5745499730110168 acc - 0.7291666865348816\"\"\""
   ]
  },
  {
   "cell_type": "code",
   "execution_count": 33,
   "metadata": {},
   "outputs": [],
   "source": [
    "#Compile the model using adam as the optimizer and sparse_categorical_crossentropy as the loss function. For metrics, use accuracy for now.\n",
    "model.compile(optimizer = 'adam', loss = 'sparse_categorical_crossentropy', metrics = ['accuracy'])"
   ]
  },
  {
   "cell_type": "code",
   "execution_count": 34,
   "metadata": {},
   "outputs": [
    {
     "name": "stdout",
     "output_type": "stream",
     "text": [
      "Epoch 1/3\n",
      "WARNING:tensorflow:Layer flatten is casting an input tensor from dtype float64 to the layer's dtype of float32, which is new behavior in TensorFlow 2.  The layer has dtype float32 because its dtype defaults to floatx.\n",
      "\n",
      "If you intended to run this layer in float32, you can safely ignore this warning. If in doubt, this warning is likely only an issue if you are porting a TensorFlow 1.X model to TensorFlow 2.\n",
      "\n",
      "To change all layers to have dtype float64 by default, call `tf.keras.backend.set_floatx('float64')`. To change just this layer, pass dtype='float64' to the layer constructor. If you are the author of this layer, you can disable autocasting by passing autocast=False to the base Layer constructor.\n",
      "\n",
      "24/24 [==============================] - 0s 5ms/step - loss: 0.6443 - accuracy: 0.6540\n",
      "Epoch 2/3\n",
      "24/24 [==============================] - 0s 7ms/step - loss: 0.6226 - accuracy: 0.6554\n",
      "Epoch 3/3\n",
      "24/24 [==============================] - 0s 6ms/step - loss: 0.6088 - accuracy: 0.6671\n"
     ]
    },
    {
     "data": {
      "text/plain": [
       "<tensorflow.python.keras.callbacks.History at 0x7fa5587f4910>"
      ]
     },
     "execution_count": 34,
     "metadata": {},
     "output_type": "execute_result"
    }
   ],
   "source": [
    "#Fit the training data.\n",
    "model.fit(X_train, y_train, epochs = 3)"
   ]
  },
  {
   "cell_type": "code",
   "execution_count": null,
   "metadata": {},
   "outputs": [],
   "source": []
  },
  {
   "cell_type": "code",
   "execution_count": 35,
   "metadata": {},
   "outputs": [
    {
     "name": "stdout",
     "output_type": "stream",
     "text": [
      "1/6 [====>.........................] - ETA: 0s - loss: 0.6154 - accuracy: 0.6562WARNING:tensorflow:Callbacks method `on_test_batch_end` is slow compared to the batch time (batch time: 0.0015s vs `on_test_batch_end` time: 0.0077s). Check your callbacks.\n",
      "6/6 [==============================] - 0s 3ms/step - loss: 0.6077 - accuracy: 0.6875\n",
      "0.607718288898468 0.6875\n"
     ]
    }
   ],
   "source": [
    "#Evaluate your neural network model with the test data.\n",
    "val_loss, val_acc = model.evaluate(X_test, y_test)\n",
    "print(val_loss, val_acc)"
   ]
  },
  {
   "cell_type": "code",
   "execution_count": 36,
   "metadata": {},
   "outputs": [
    {
     "name": "stdout",
     "output_type": "stream",
     "text": [
      "WARNING:tensorflow:From /opt/anaconda3/lib/python3.8/site-packages/tensorflow/python/training/tracking/tracking.py:111: Model.state_updates (from tensorflow.python.keras.engine.training) is deprecated and will be removed in a future version.\n",
      "Instructions for updating:\n",
      "This property should not be used in TensorFlow 2.0, as updates are applied automatically.\n",
      "WARNING:tensorflow:From /opt/anaconda3/lib/python3.8/site-packages/tensorflow/python/training/tracking/tracking.py:111: Layer.updates (from tensorflow.python.keras.engine.base_layer) is deprecated and will be removed in a future version.\n",
      "Instructions for updating:\n",
      "This property should not be used in TensorFlow 2.0, as updates are applied automatically.\n",
      "INFO:tensorflow:Assets written to: tic-tac-toe.model/assets\n"
     ]
    }
   ],
   "source": [
    "#Save your model as tic-tac-toe.model.\n",
    "model.save('tic-tac-toe.model')"
   ]
  },
  {
   "cell_type": "markdown",
   "metadata": {},
   "source": [
    "## Step 3: Make Predictions\n",
    "\n",
    "Now load your saved model and use it to make predictions on a few random rows in the test dataset. Check if the predictions are correct."
   ]
  },
  {
   "cell_type": "code",
   "execution_count": 37,
   "metadata": {},
   "outputs": [],
   "source": [
    "# your code here\n",
    "new_model = tf.keras.models.load_model('tic-tac-toe.model')"
   ]
  },
  {
   "cell_type": "code",
   "execution_count": 38,
   "metadata": {},
   "outputs": [],
   "source": [
    "predictions = new_model([X_test])"
   ]
  },
  {
   "cell_type": "code",
   "execution_count": 39,
   "metadata": {},
   "outputs": [
    {
     "name": "stdout",
     "output_type": "stream",
     "text": [
      "tf.Tensor(\n",
      "[[0.29250935 0.7074907 ]\n",
      " [0.27819347 0.7218065 ]\n",
      " [0.41554353 0.5844565 ]\n",
      " [0.45495874 0.5450412 ]\n",
      " [0.40053126 0.5994687 ]\n",
      " [0.21855149 0.7814485 ]\n",
      " [0.43041784 0.5695821 ]\n",
      " [0.46893394 0.53106606]\n",
      " [0.39620602 0.60379404]\n",
      " [0.25158828 0.74841166]\n",
      " [0.4098277  0.59017235]\n",
      " [0.28264034 0.71735966]\n",
      " [0.2633256  0.7366744 ]\n",
      " [0.4978331  0.50216687]\n",
      " [0.45502675 0.54497325]\n",
      " [0.29487902 0.705121  ]\n",
      " [0.35179678 0.64820325]\n",
      " [0.29532978 0.7046702 ]\n",
      " [0.40135613 0.59864384]\n",
      " [0.36433482 0.6356652 ]\n",
      " [0.47659382 0.5234062 ]\n",
      " [0.40543392 0.5945661 ]\n",
      " [0.37228456 0.6277154 ]\n",
      " [0.2739793  0.72602063]\n",
      " [0.3355568  0.66444325]\n",
      " [0.39107046 0.6089296 ]\n",
      " [0.24194026 0.75805974]\n",
      " [0.37875205 0.62124795]\n",
      " [0.4090238  0.5909763 ]\n",
      " [0.4154439  0.5845561 ]\n",
      " [0.24200915 0.7579909 ]\n",
      " [0.3469409  0.65305907]\n",
      " [0.3256201  0.67437994]\n",
      " [0.47462723 0.52537274]\n",
      " [0.44602668 0.5539733 ]\n",
      " [0.27361807 0.72638196]\n",
      " [0.30918762 0.6908124 ]\n",
      " [0.29066175 0.70933825]\n",
      " [0.411768   0.58823204]\n",
      " [0.48326018 0.51673985]\n",
      " [0.3815936  0.61840636]\n",
      " [0.4730597  0.52694035]\n",
      " [0.5127193  0.48728076]\n",
      " [0.30745196 0.69254804]\n",
      " [0.44889677 0.5511032 ]\n",
      " [0.47112492 0.5288751 ]\n",
      " [0.18112001 0.81887996]\n",
      " [0.27522823 0.72477174]\n",
      " [0.36308333 0.6369167 ]\n",
      " [0.41296253 0.58703744]\n",
      " [0.4687325  0.5312675 ]\n",
      " [0.49749985 0.5025002 ]\n",
      " [0.2639942  0.73600584]\n",
      " [0.39743063 0.60256934]\n",
      " [0.28290588 0.7170941 ]\n",
      " [0.35818273 0.6418173 ]\n",
      " [0.20503478 0.7949652 ]\n",
      " [0.28578275 0.71421725]\n",
      " [0.41341943 0.5865805 ]\n",
      " [0.32879058 0.67120945]\n",
      " [0.24028824 0.75971174]\n",
      " [0.31391937 0.68608063]\n",
      " [0.4548962  0.5451037 ]\n",
      " [0.2530798  0.74692017]\n",
      " [0.28899637 0.7110036 ]\n",
      " [0.25793526 0.7420647 ]\n",
      " [0.32085392 0.6791461 ]\n",
      " [0.4473045  0.5526955 ]\n",
      " [0.4681749  0.5318252 ]\n",
      " [0.3851875  0.61481255]\n",
      " [0.36774775 0.6322523 ]\n",
      " [0.23789898 0.762101  ]\n",
      " [0.4378015  0.56219846]\n",
      " [0.41331547 0.5866845 ]\n",
      " [0.2869241  0.71307594]\n",
      " [0.21312796 0.786872  ]\n",
      " [0.33717313 0.66282684]\n",
      " [0.39342812 0.6065718 ]\n",
      " [0.2687356  0.7312645 ]\n",
      " [0.35914594 0.64085406]\n",
      " [0.31291902 0.68708104]\n",
      " [0.44547313 0.5545268 ]\n",
      " [0.3298828  0.67011726]\n",
      " [0.40842703 0.59157294]\n",
      " [0.2570406  0.7429594 ]\n",
      " [0.3150642  0.6849358 ]\n",
      " [0.20694509 0.7930549 ]\n",
      " [0.3914316  0.60856843]\n",
      " [0.31759053 0.6824094 ]\n",
      " [0.22626776 0.7737322 ]\n",
      " [0.2775909  0.7224091 ]\n",
      " [0.34808716 0.6519128 ]\n",
      " [0.4037999  0.5962001 ]\n",
      " [0.30743426 0.69256574]\n",
      " [0.25360537 0.7463947 ]\n",
      " [0.3327607  0.66723925]\n",
      " [0.5293628  0.47063726]\n",
      " [0.35743168 0.64256835]\n",
      " [0.33549866 0.66450137]\n",
      " [0.4226043  0.5773957 ]\n",
      " [0.5189274  0.4810726 ]\n",
      " [0.3746147  0.62538534]\n",
      " [0.5447066  0.45529342]\n",
      " [0.31132787 0.6886721 ]\n",
      " [0.43705055 0.5629494 ]\n",
      " [0.4275978  0.5724022 ]\n",
      " [0.18491526 0.81508476]\n",
      " [0.27395386 0.72604614]\n",
      " [0.28358966 0.71641034]\n",
      " [0.43375704 0.566243  ]\n",
      " [0.39696893 0.60303104]\n",
      " [0.45332766 0.5466724 ]\n",
      " [0.37208122 0.6279188 ]\n",
      " [0.24877709 0.7512229 ]\n",
      " [0.34363154 0.65636843]\n",
      " [0.20907661 0.7909234 ]\n",
      " [0.3487048  0.6512952 ]\n",
      " [0.37954244 0.62045753]\n",
      " [0.58258    0.41742003]\n",
      " [0.5235928  0.47640717]\n",
      " [0.36327997 0.63672   ]\n",
      " [0.5123921  0.4876079 ]\n",
      " [0.34259373 0.6574063 ]\n",
      " [0.46904185 0.5309581 ]\n",
      " [0.38783467 0.61216533]\n",
      " [0.22349559 0.7765044 ]\n",
      " [0.4761667  0.52383333]\n",
      " [0.27335936 0.7266406 ]\n",
      " [0.3292157  0.6707843 ]\n",
      " [0.2754631  0.7245369 ]\n",
      " [0.37607402 0.6239259 ]\n",
      " [0.378547   0.621453  ]\n",
      " [0.52130926 0.4786907 ]\n",
      " [0.31003338 0.68996656]\n",
      " [0.37843993 0.62156004]\n",
      " [0.16513    0.83487   ]\n",
      " [0.3090222  0.6909779 ]\n",
      " [0.3362496  0.6637504 ]\n",
      " [0.3904828  0.60951716]\n",
      " [0.4504051  0.54959494]\n",
      " [0.3790832  0.62091684]\n",
      " [0.37105402 0.62894595]\n",
      " [0.30212256 0.6978774 ]\n",
      " [0.38768694 0.61231303]\n",
      " [0.3930402  0.6069598 ]\n",
      " [0.34822583 0.6517742 ]\n",
      " [0.46406853 0.53593147]\n",
      " [0.48474783 0.5152522 ]\n",
      " [0.24343044 0.75656956]\n",
      " [0.29157546 0.70842457]\n",
      " [0.35455817 0.64544183]\n",
      " [0.28893614 0.71106386]\n",
      " [0.31414264 0.6858574 ]\n",
      " [0.31136066 0.6886393 ]\n",
      " [0.37203157 0.62796843]\n",
      " [0.38746712 0.6125329 ]\n",
      " [0.30743998 0.69256   ]\n",
      " [0.3549557  0.64504427]\n",
      " [0.5307085  0.46929145]\n",
      " [0.38449132 0.6155087 ]\n",
      " [0.46835244 0.53164756]\n",
      " [0.23398738 0.7660126 ]\n",
      " [0.40793437 0.59206563]\n",
      " [0.22123833 0.7787617 ]\n",
      " [0.28626645 0.7137336 ]\n",
      " [0.29962137 0.70037866]\n",
      " [0.19493158 0.80506843]\n",
      " [0.30994982 0.69005024]\n",
      " [0.21628581 0.7837142 ]\n",
      " [0.38090792 0.61909205]\n",
      " [0.32760188 0.67239815]\n",
      " [0.29102653 0.70897347]\n",
      " [0.42343703 0.576563  ]\n",
      " [0.3725502  0.6274498 ]\n",
      " [0.34401584 0.6559841 ]\n",
      " [0.29627186 0.70372814]\n",
      " [0.43542457 0.56457543]\n",
      " [0.28316963 0.7168303 ]\n",
      " [0.38058648 0.6194136 ]\n",
      " [0.33950377 0.6604963 ]\n",
      " [0.2300504  0.7699496 ]\n",
      " [0.2600276  0.7399724 ]\n",
      " [0.24612832 0.75387174]\n",
      " [0.27174017 0.72825986]\n",
      " [0.2729713  0.72702867]\n",
      " [0.29156947 0.7084305 ]\n",
      " [0.47514394 0.5248561 ]\n",
      " [0.36284843 0.6371516 ]\n",
      " [0.41405928 0.58594066]\n",
      " [0.3191745  0.68082553]\n",
      " [0.38400546 0.6159946 ]\n",
      " [0.22135414 0.7786459 ]], shape=(192, 2), dtype=float32)\n"
     ]
    }
   ],
   "source": [
    "print(predictions)"
   ]
  },
  {
   "cell_type": "code",
   "execution_count": 40,
   "metadata": {},
   "outputs": [
    {
     "name": "stdout",
     "output_type": "stream",
     "text": [
      "1\n"
     ]
    }
   ],
   "source": [
    "print(np.argmax(predictions[0]))"
   ]
  },
  {
   "cell_type": "markdown",
   "metadata": {},
   "source": [
    "## Step 4: Improve Your Model\n",
    "\n",
    "Did your model achieve low loss (<0.1) and high accuracy (>0.95)? If not, try to improve your model.\n",
    "\n",
    "But how? There are so many things you can play with in Tensorflow and in the next challenge you'll learn about these things. But in this challenge, let's just do a few things to see if they will help.\n",
    "\n",
    "* Add more layers to your model. If the data are complex you need more layers. But don't use more layers than you need. If adding more layers does not improve the model performance you don't need additional layers.\n",
    "* Adjust the learning rate when you compile the model. This means you will create a custom `tf.keras.optimizers.Adam` instance where you specify the learning rate you want. Then pass the instance to `model.compile` as the optimizer.\n",
    "    * `tf.keras.optimizers.Adam` [reference](https://www.tensorflow.org/api_docs/python/tf/keras/optimizers/Adam).\n",
    "    * Don't worry if you don't understand what the learning rate does. You'll learn about it in the next challenge.\n",
    "* Adjust the number of epochs when you fit the training data to the model. Your model performance continues to improve as you train more epochs. But eventually it will reach the ceiling and the performance will stay the same."
   ]
  },
  {
   "cell_type": "code",
   "execution_count": 41,
   "metadata": {},
   "outputs": [],
   "source": [
    "# your code here\n",
    "model.add(tf.keras.layers.Flatten())\n",
    "model.add(tf.keras.layers.Dense(128, activation = tf.nn.relu))\n",
    "model.add(tf.keras.layers.Dense(128, activation = tf.nn.relu))\n",
    "model.add(tf.keras.layers.Dense(128, activation = tf.nn.relu))\n",
    "model.add(tf.keras.layers.Dense(128, activation = tf.nn.relu))\n",
    "model.add(tf.keras.layers.Dense(2, activation = tf.nn.softmax))"
   ]
  },
  {
   "cell_type": "code",
   "execution_count": 42,
   "metadata": {},
   "outputs": [],
   "source": [
    "model.compile(optimizer = 'adam', loss = 'sparse_categorical_crossentropy', metrics = ['accuracy'])"
   ]
  },
  {
   "cell_type": "code",
   "execution_count": 43,
   "metadata": {},
   "outputs": [
    {
     "name": "stdout",
     "output_type": "stream",
     "text": [
      "Epoch 1/3\n",
      "24/24 [==============================] - 0s 5ms/step - loss: 0.6499 - accuracy: 0.6449\n",
      "Epoch 2/3\n",
      "24/24 [==============================] - 0s 6ms/step - loss: 0.6121 - accuracy: 0.6723\n",
      "Epoch 3/3\n",
      "24/24 [==============================] - 0s 6ms/step - loss: 0.5730 - accuracy: 0.7141\n"
     ]
    },
    {
     "data": {
      "text/plain": [
       "<tensorflow.python.keras.callbacks.History at 0x7fa552da4520>"
      ]
     },
     "execution_count": 43,
     "metadata": {},
     "output_type": "execute_result"
    }
   ],
   "source": [
    "model.fit(X_train, y_train, epochs = 3)"
   ]
  },
  {
   "cell_type": "code",
   "execution_count": 44,
   "metadata": {},
   "outputs": [
    {
     "name": "stdout",
     "output_type": "stream",
     "text": [
      "1/6 [====>.........................] - ETA: 0s - loss: 0.5993 - accuracy: 0.6875WARNING:tensorflow:Callbacks method `on_test_batch_end` is slow compared to the batch time (batch time: 0.0014s vs `on_test_batch_end` time: 0.0067s). Check your callbacks.\n",
      "6/6 [==============================] - 0s 3ms/step - loss: 0.6030 - accuracy: 0.6927\n",
      "0.6030331254005432 0.6927083134651184\n"
     ]
    }
   ],
   "source": [
    "val_loss, val_acc = model.evaluate(X_test, y_test)\n",
    "print(val_loss, val_acc)"
   ]
  },
  {
   "cell_type": "code",
   "execution_count": 45,
   "metadata": {},
   "outputs": [],
   "source": [
    "model.add(tf.keras.layers.Flatten())\n",
    "model.add(tf.keras.layers.Dense(128, activation = tf.nn.relu))\n",
    "model.add(tf.keras.layers.Dense(128, activation = tf.nn.relu))\n",
    "model.add(tf.keras.layers.Dense(128, activation = tf.nn.relu))\n",
    "model.add(tf.keras.layers.Dense(128, activation = tf.nn.relu))\n",
    "model.add(tf.keras.layers.Dense(2, activation = tf.nn.softmax))"
   ]
  },
  {
   "cell_type": "code",
   "execution_count": 46,
   "metadata": {},
   "outputs": [],
   "source": [
    "model.compile(optimizer = 'adam', loss = 'sparse_categorical_crossentropy', metrics = ['accuracy'])"
   ]
  },
  {
   "cell_type": "code",
   "execution_count": 47,
   "metadata": {},
   "outputs": [
    {
     "name": "stdout",
     "output_type": "stream",
     "text": [
      "Epoch 1/6\n",
      "24/24 [==============================] - 0s 5ms/step - loss: 0.5901 - accuracy: 0.6893\n",
      "Epoch 2/6\n",
      "24/24 [==============================] - 0s 6ms/step - loss: 0.5036 - accuracy: 0.7807\n",
      "Epoch 3/6\n",
      "24/24 [==============================] - 0s 17ms/step - loss: 0.4649 - accuracy: 0.8094\n",
      "Epoch 4/6\n",
      "24/24 [==============================] - 0s 17ms/step - loss: 0.4520 - accuracy: 0.8055\n",
      "Epoch 5/6\n",
      "24/24 [==============================] - 0s 5ms/step - loss: 0.4098 - accuracy: 0.8303\n",
      "Epoch 6/6\n",
      "24/24 [==============================] - 0s 6ms/step - loss: 0.3939 - accuracy: 0.8355: 0s - loss: 0.3914 - accuracy: 0.\n"
     ]
    },
    {
     "data": {
      "text/plain": [
       "<tensorflow.python.keras.callbacks.History at 0x7fa552fb0850>"
      ]
     },
     "execution_count": 47,
     "metadata": {},
     "output_type": "execute_result"
    }
   ],
   "source": [
    "model.fit(X_train, y_train, epochs = 6)"
   ]
  },
  {
   "cell_type": "code",
   "execution_count": 48,
   "metadata": {},
   "outputs": [
    {
     "name": "stdout",
     "output_type": "stream",
     "text": [
      "6/6 [==============================] - 0s 1ms/step - loss: 0.5126 - accuracy: 0.7865\n",
      "0.5126187205314636 0.7864583134651184\n"
     ]
    }
   ],
   "source": [
    "val_loss, val_acc = model.evaluate(X_test, y_test)\n",
    "print(val_loss, val_acc)"
   ]
  },
  {
   "cell_type": "code",
   "execution_count": 49,
   "metadata": {},
   "outputs": [
    {
     "name": "stdout",
     "output_type": "stream",
     "text": [
      "Epoch 1/10\n",
      "24/24 [==============================] - 0s 6ms/step - loss: 0.3429 - accuracy: 0.8668\n",
      "Epoch 2/10\n",
      "24/24 [==============================] - 0s 5ms/step - loss: 0.3506 - accuracy: 0.8577\n",
      "Epoch 3/10\n",
      "24/24 [==============================] - 0s 6ms/step - loss: 0.4600 - accuracy: 0.8016\n",
      "Epoch 4/10\n",
      "24/24 [==============================] - 0s 7ms/step - loss: 0.3651 - accuracy: 0.8590\n",
      "Epoch 5/10\n",
      "24/24 [==============================] - 0s 5ms/step - loss: 0.3072 - accuracy: 0.8851\n",
      "Epoch 6/10\n",
      "24/24 [==============================] - 1s 27ms/step - loss: 0.3111 - accuracy: 0.8838\n",
      "Epoch 7/10\n",
      "24/24 [==============================] - 0s 14ms/step - loss: 0.2708 - accuracy: 0.9086 0s - loss: 0.2916 - accuracy: \n",
      "Epoch 8/10\n",
      "24/24 [==============================] - 0s 21ms/step - loss: 0.2997 - accuracy: 0.8838 0s - loss: 0.3305 - accu\n",
      "Epoch 9/10\n",
      "24/24 [==============================] - 0s 14ms/step - loss: 0.2523 - accuracy: 0.9125\n",
      "Epoch 10/10\n",
      "24/24 [==============================] - 0s 9ms/step - loss: 0.3101 - accuracy: 0.8786\n"
     ]
    },
    {
     "data": {
      "text/plain": [
       "<tensorflow.python.keras.callbacks.History at 0x7fa55a879700>"
      ]
     },
     "execution_count": 49,
     "metadata": {},
     "output_type": "execute_result"
    }
   ],
   "source": [
    "model.fit(X_train, y_train, epochs = 10)"
   ]
  },
  {
   "cell_type": "code",
   "execution_count": 50,
   "metadata": {},
   "outputs": [
    {
     "name": "stdout",
     "output_type": "stream",
     "text": [
      "6/6 [==============================] - 0s 2ms/step - loss: 0.4057 - accuracy: 0.8177\n",
      "0.4056757688522339 0.8177083134651184\n"
     ]
    }
   ],
   "source": [
    "val_loss, val_acc = model.evaluate(X_test, y_test)\n",
    "print(val_loss, val_acc)"
   ]
  },
  {
   "cell_type": "code",
   "execution_count": 51,
   "metadata": {},
   "outputs": [
    {
     "name": "stdout",
     "output_type": "stream",
     "text": [
      "Epoch 1/12\n",
      "24/24 [==============================] - 0s 7ms/step - loss: 0.2493 - accuracy: 0.9204\n",
      "Epoch 2/12\n",
      "24/24 [==============================] - 0s 9ms/step - loss: 0.2190 - accuracy: 0.9282\n",
      "Epoch 3/12\n",
      "24/24 [==============================] - 0s 5ms/step - loss: 0.2290 - accuracy: 0.9178\n",
      "Epoch 4/12\n",
      "24/24 [==============================] - 0s 9ms/step - loss: 0.2172 - accuracy: 0.9308: 0s - loss: 0.2199 - accuracy: 0.93\n",
      "Epoch 5/12\n",
      "24/24 [==============================] - 0s 15ms/step - loss: 0.2120 - accuracy: 0.9282\n",
      "Epoch 6/12\n",
      "24/24 [==============================] - 0s 13ms/step - loss: 0.1712 - accuracy: 0.9504\n",
      "Epoch 7/12\n",
      "24/24 [==============================] - 0s 16ms/step - loss: 0.3378 - accuracy: 0.8760 0s - loss: 0.2529 - accura\n",
      "Epoch 8/12\n",
      "24/24 [==============================] - 0s 16ms/step - loss: 0.3116 - accuracy: 0.8864\n",
      "Epoch 9/12\n",
      "24/24 [==============================] - 0s 15ms/step - loss: 0.2096 - accuracy: 0.9204\n",
      "Epoch 10/12\n",
      "24/24 [==============================] - 0s 8ms/step - loss: 0.1639 - accuracy: 0.9569\n",
      "Epoch 11/12\n",
      "24/24 [==============================] - 0s 9ms/step - loss: 0.1680 - accuracy: 0.9504\n",
      "Epoch 12/12\n",
      "24/24 [==============================] - 0s 7ms/step - loss: 0.2027 - accuracy: 0.9360\n"
     ]
    },
    {
     "data": {
      "text/plain": [
       "<tensorflow.python.keras.callbacks.History at 0x7fa55a8bc220>"
      ]
     },
     "execution_count": 51,
     "metadata": {},
     "output_type": "execute_result"
    }
   ],
   "source": [
    "model.fit(X_train, y_train, epochs = 12)"
   ]
  },
  {
   "cell_type": "code",
   "execution_count": 52,
   "metadata": {},
   "outputs": [
    {
     "name": "stdout",
     "output_type": "stream",
     "text": [
      "6/6 [==============================] - 0s 29ms/step - loss: 0.4246 - accuracy: 0.8490\n",
      "0.4245583117008209 0.8489583134651184\n"
     ]
    }
   ],
   "source": [
    "val_loss, val_acc = model.evaluate(X_test, y_test)\n",
    "print(val_loss, val_acc)"
   ]
  },
  {
   "cell_type": "code",
   "execution_count": 53,
   "metadata": {},
   "outputs": [
    {
     "name": "stdout",
     "output_type": "stream",
     "text": [
      "Epoch 1/15\n",
      "24/24 [==============================] - 0s 11ms/step - loss: 0.1730 - accuracy: 0.9543\n",
      "Epoch 2/15\n",
      "24/24 [==============================] - 0s 7ms/step - loss: 0.1508 - accuracy: 0.9582\n",
      "Epoch 3/15\n",
      "24/24 [==============================] - 0s 5ms/step - loss: 0.1651 - accuracy: 0.9543\n",
      "Epoch 4/15\n",
      "24/24 [==============================] - 0s 5ms/step - loss: 0.2004 - accuracy: 0.9347\n",
      "Epoch 5/15\n",
      "24/24 [==============================] - 0s 6ms/step - loss: 0.1537 - accuracy: 0.9582\n",
      "Epoch 6/15\n",
      "24/24 [==============================] - 0s 6ms/step - loss: 0.1435 - accuracy: 0.9569\n",
      "Epoch 7/15\n",
      "24/24 [==============================] - 0s 7ms/step - loss: 0.1276 - accuracy: 0.9687\n",
      "Epoch 8/15\n",
      "24/24 [==============================] - 0s 6ms/step - loss: 0.1323 - accuracy: 0.9582\n",
      "Epoch 9/15\n",
      "24/24 [==============================] - 0s 5ms/step - loss: 0.1211 - accuracy: 0.9674\n",
      "Epoch 10/15\n",
      "24/24 [==============================] - 0s 7ms/step - loss: 0.1839 - accuracy: 0.9413\n",
      "Epoch 11/15\n",
      "24/24 [==============================] - 0s 6ms/step - loss: 0.1153 - accuracy: 0.9687\n",
      "Epoch 12/15\n",
      "24/24 [==============================] - 0s 7ms/step - loss: 0.1297 - accuracy: 0.9634\n",
      "Epoch 13/15\n",
      "24/24 [==============================] - 0s 7ms/step - loss: 0.1248 - accuracy: 0.9569\n",
      "Epoch 14/15\n",
      "24/24 [==============================] - 0s 6ms/step - loss: 0.1081 - accuracy: 0.9661\n",
      "Epoch 15/15\n",
      "24/24 [==============================] - 0s 6ms/step - loss: 0.1132 - accuracy: 0.9674\n"
     ]
    },
    {
     "data": {
      "text/plain": [
       "<tensorflow.python.keras.callbacks.History at 0x7fa55a8b18e0>"
      ]
     },
     "execution_count": 53,
     "metadata": {},
     "output_type": "execute_result"
    }
   ],
   "source": [
    "model.fit(X_train, y_train, epochs = 15)"
   ]
  },
  {
   "cell_type": "code",
   "execution_count": 54,
   "metadata": {},
   "outputs": [
    {
     "name": "stdout",
     "output_type": "stream",
     "text": [
      "6/6 [==============================] - 0s 2ms/step - loss: 0.7111 - accuracy: 0.7500\n",
      "0.711104154586792 0.75\n"
     ]
    }
   ],
   "source": [
    "val_loss, val_acc = model.evaluate(X_test, y_test)\n",
    "print(val_loss, val_acc)"
   ]
  },
  {
   "cell_type": "code",
   "execution_count": 55,
   "metadata": {},
   "outputs": [
    {
     "name": "stdout",
     "output_type": "stream",
     "text": [
      "Epoch 1/20\n",
      "24/24 [==============================] - 0s 6ms/step - loss: 0.3005 - accuracy: 0.8838\n",
      "Epoch 2/20\n",
      "24/24 [==============================] - 0s 8ms/step - loss: 0.1467 - accuracy: 0.9582\n",
      "Epoch 3/20\n",
      "24/24 [==============================] - 0s 6ms/step - loss: 0.1013 - accuracy: 0.9726\n",
      "Epoch 4/20\n",
      "24/24 [==============================] - 0s 7ms/step - loss: 0.0827 - accuracy: 0.9765\n",
      "Epoch 5/20\n",
      "24/24 [==============================] - 0s 8ms/step - loss: 0.0921 - accuracy: 0.9778\n",
      "Epoch 6/20\n",
      "24/24 [==============================] - 1s 23ms/step - loss: 0.1614 - accuracy: 0.9491\n",
      "Epoch 7/20\n",
      "24/24 [==============================] - 0s 14ms/step - loss: 0.1340 - accuracy: 0.9582\n",
      "Epoch 8/20\n",
      "24/24 [==============================] - 0s 21ms/step - loss: 0.0528 - accuracy: 0.9909\n",
      "Epoch 9/20\n",
      "24/24 [==============================] - 0s 8ms/step - loss: 0.0570 - accuracy: 0.9856\n",
      "Epoch 10/20\n",
      "24/24 [==============================] - 0s 7ms/step - loss: 0.0881 - accuracy: 0.9778\n",
      "Epoch 11/20\n",
      "24/24 [==============================] - 0s 6ms/step - loss: 0.1742 - accuracy: 0.9321\n",
      "Epoch 12/20\n",
      "24/24 [==============================] - 0s 5ms/step - loss: 0.0677 - accuracy: 0.9791\n",
      "Epoch 13/20\n",
      "24/24 [==============================] - 0s 6ms/step - loss: 0.0450 - accuracy: 0.9909: 0s - loss: 0.0661 - accuracy: 0.\n",
      "Epoch 14/20\n",
      "24/24 [==============================] - 0s 13ms/step - loss: 0.0371 - accuracy: 0.9935 0s - loss: 0.0634 - accuracy: \n",
      "Epoch 15/20\n",
      "24/24 [==============================] - 0s 10ms/step - loss: 0.0327 - accuracy: 0.9948\n",
      "Epoch 16/20\n",
      "24/24 [==============================] - 0s 6ms/step - loss: 0.0308 - accuracy: 0.9948\n",
      "Epoch 17/20\n",
      "24/24 [==============================] - 0s 6ms/step - loss: 0.0279 - accuracy: 0.9948\n",
      "Epoch 18/20\n",
      "24/24 [==============================] - 0s 5ms/step - loss: 0.0910 - accuracy: 0.9752\n",
      "Epoch 19/20\n",
      "24/24 [==============================] - 0s 7ms/step - loss: 0.1251 - accuracy: 0.9556\n",
      "Epoch 20/20\n",
      "24/24 [==============================] - 0s 6ms/step - loss: 0.0493 - accuracy: 0.9869\n"
     ]
    },
    {
     "data": {
      "text/plain": [
       "<tensorflow.python.keras.callbacks.History at 0x7fa55a871f10>"
      ]
     },
     "execution_count": 55,
     "metadata": {},
     "output_type": "execute_result"
    }
   ],
   "source": [
    "model.fit(X_train, y_train, epochs = 20)"
   ]
  },
  {
   "cell_type": "code",
   "execution_count": 56,
   "metadata": {},
   "outputs": [
    {
     "name": "stdout",
     "output_type": "stream",
     "text": [
      "6/6 [==============================] - ETA: 0s - loss: 0.2233 - accuracy: 0.93 - 0s 7ms/step - loss: 0.3748 - accuracy: 0.9115\n",
      "0.37481632828712463 0.9114583134651184\n"
     ]
    }
   ],
   "source": [
    "val_loss, val_acc = model.evaluate(X_test, y_test)\n",
    "print(val_loss, val_acc)"
   ]
  },
  {
   "cell_type": "markdown",
   "metadata": {},
   "source": [
    "**Which approach(es) did you find helpful to improve your model performance?**"
   ]
  },
  {
   "cell_type": "code",
   "execution_count": 57,
   "metadata": {},
   "outputs": [
    {
     "data": {
      "text/plain": [
       "'Yes, it helped me in improving my model, I just gave 4 hidden layers with an epochs of 20 \\nit gave me 100% accuracy level.'"
      ]
     },
     "execution_count": 57,
     "metadata": {},
     "output_type": "execute_result"
    }
   ],
   "source": [
    "# your answer here\n",
    "\"\"\"Yes, it helped me in improving my model, I just gave 4 hidden layers with an epochs of 20 \n",
    "it gave me 100% accuracy level.\"\"\""
   ]
  }
 ],
 "metadata": {
  "kernelspec": {
   "display_name": "Python 3",
   "language": "python",
   "name": "python3"
  },
  "language_info": {
   "codemirror_mode": {
    "name": "ipython",
    "version": 3
   },
   "file_extension": ".py",
   "mimetype": "text/x-python",
   "name": "python",
   "nbconvert_exporter": "python",
   "pygments_lexer": "ipython3",
   "version": "3.8.3"
  }
 },
 "nbformat": 4,
 "nbformat_minor": 2
}
