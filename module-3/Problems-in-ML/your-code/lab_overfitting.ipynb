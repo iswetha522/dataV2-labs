{
 "cells": [
  {
   "cell_type": "markdown",
   "metadata": {},
   "source": [
    "# Overfitting\n",
    "## In this lab, we are going to explore how thoughtfully choosing a model and using test set are important parts of avoiding overfitting. \n",
    "\n",
    "We are going to apply these concepts to a classification model. We want to develop a decision boundary, on one side of which we have class A and on the other we have class B.\n",
    "\n",
    "Like we disussed in class, when we have noisy data, if we are not careful, we can end up fitting our model to the noise in the data and not the 'signal'-- the factors that actually determine the outcome. This is called overfitting, and results in good results in training, and in bad results when the model is applied to real data. Similarly, we could have a model that is too simplistic to accurately model the signal. This produces a model that doesnt work well (ever), and sucks only slightly less than overfitting. At least your model performs consistently bad :)\n"
   ]
  },
  {
   "cell_type": "markdown",
   "metadata": {},
   "source": [
    "### First, we are going to generate some synthetic data. To make these concepts visual, we are going to generate this data to be concentric circles. Run the code below to do so. "
   ]
  },
  {
   "cell_type": "code",
   "execution_count": 1,
   "metadata": {},
   "outputs": [],
   "source": [
    "import os\n",
    "import pandas as pd\n",
    "import matplotlib.pyplot as plt\n",
    "import numpy as np\n",
    "from IPython.display import display\n",
    "\n",
    "# Makin' some data\n",
    "from sklearn.datasets import make_circles\n",
    "X, y = make_circles(noise=0.2, factor=0.5, random_state=1)"
   ]
  },
  {
   "cell_type": "code",
   "execution_count": 2,
   "metadata": {},
   "outputs": [
    {
     "data": {
      "text/plain": [
       "(100, 2)"
      ]
     },
     "execution_count": 2,
     "metadata": {},
     "output_type": "execute_result"
    }
   ],
   "source": [
    "X.shape"
   ]
  },
  {
   "cell_type": "code",
   "execution_count": 3,
   "metadata": {},
   "outputs": [
    {
     "data": {
      "text/plain": [
       "(100,)"
      ]
     },
     "execution_count": 3,
     "metadata": {},
     "output_type": "execute_result"
    }
   ],
   "source": [
    "y.shape"
   ]
  },
  {
   "cell_type": "code",
   "execution_count": 15,
   "metadata": {},
   "outputs": [
    {
     "data": {
      "text/plain": [
       "array([[-0.38289117, -0.09084004],\n",
       "       [-0.02096229, -0.47787416],\n",
       "       [-0.39611596, -1.28942694],\n",
       "       [-0.61813018, -0.06383715],\n",
       "       [ 0.70347838, -0.18703837],\n",
       "       [-0.45970463,  0.69477465],\n",
       "       [-0.45091682, -0.71570524],\n",
       "       [-0.45562004, -0.13406016],\n",
       "       [-0.26513904,  0.40812871],\n",
       "       [-0.15474648,  0.41406973],\n",
       "       [ 0.231206  , -0.53275899],\n",
       "       [ 0.15623875, -0.8678088 ],\n",
       "       [ 0.51647541,  0.48940995],\n",
       "       [ 0.68707007, -0.02334129],\n",
       "       [ 0.54759869, -0.16482373],\n",
       "       [-0.32179572, -0.80553536],\n",
       "       [-1.07478639, -0.733362  ],\n",
       "       [ 0.76758455, -0.43498783],\n",
       "       [-0.47475234, -0.33813186],\n",
       "       [ 0.15420656,  1.07306032],\n",
       "       [ 0.65916696,  0.20773634],\n",
       "       [-0.77795003,  0.1326555 ],\n",
       "       [ 0.47025454, -0.31228748],\n",
       "       [-0.04246799,  0.26555446],\n",
       "       [-0.72405954,  0.48807185],\n",
       "       [-0.36960005, -1.06514028],\n",
       "       [ 0.17833327, -0.49718972],\n",
       "       [-0.93927864, -0.41951638],\n",
       "       [ 0.50914152, -0.70977467],\n",
       "       [-0.05569852, -0.82162607],\n",
       "       [-0.11214579,  0.72197044],\n",
       "       [ 0.80463921, -0.15221296],\n",
       "       [ 0.08261487, -0.11749021],\n",
       "       [ 0.20349541, -0.37396789],\n",
       "       [ 0.13864693, -0.23905642],\n",
       "       [ 0.32785307, -1.00769037],\n",
       "       [ 0.88944061, -0.39117628],\n",
       "       [-0.05837947,  0.28487039],\n",
       "       [-1.0673653 ,  0.2204006 ],\n",
       "       [-0.60071345, -0.69545189],\n",
       "       [-0.03972324, -0.40936056],\n",
       "       [ 0.39742085,  0.20621162],\n",
       "       [-0.36941154,  0.0129811 ],\n",
       "       [ 0.03573703,  0.46666229],\n",
       "       [-0.56814999, -0.41288419],\n",
       "       [ 0.41047299, -0.73640868],\n",
       "       [ 0.88249707, -0.69004404],\n",
       "       [ 0.06579822, -0.50458395],\n",
       "       [-0.75737223, -0.0724028 ],\n",
       "       [ 0.18316966,  0.08722007],\n",
       "       [ 0.67248314, -0.41892665],\n",
       "       [ 0.25898723,  0.39688645],\n",
       "       [-1.1312983 ,  0.4810614 ],\n",
       "       [ 1.0592844 ,  0.64490287],\n",
       "       [ 0.41019663,  0.38790198],\n",
       "       [ 0.95142029, -0.04089983],\n",
       "       [-0.60492988,  0.43950906],\n",
       "       [ 0.23314762, -0.81785711],\n",
       "       [ 0.91067331,  0.30702075],\n",
       "       [-0.45026472, -0.03724104],\n",
       "       [-0.81396121, -0.64733959],\n",
       "       [-0.23191338,  0.50533992],\n",
       "       [-0.59760983,  0.28023168],\n",
       "       [ 0.73960166, -0.84270281],\n",
       "       [ 0.57294659, -0.31198928],\n",
       "       [ 0.24821133, -0.54784509],\n",
       "       [ 0.52127802,  0.94108005],\n",
       "       [ 0.33973198,  0.10609978],\n",
       "       [ 1.05339036, -0.02197593],\n",
       "       [ 0.01327466, -0.63379502],\n",
       "       [ 0.2422589 ,  0.49032064],\n",
       "       [-0.89266612,  0.6345076 ],\n",
       "       [ 0.1672566 ,  0.23548462],\n",
       "       [-0.05611705,  0.38834099],\n",
       "       [ 0.84695486,  0.81435811],\n",
       "       [ 0.29976195, -0.07943031],\n",
       "       [-0.1404762 ,  0.72486032],\n",
       "       [-0.05482024,  0.18417328],\n",
       "       [-0.24643884, -0.43283337],\n",
       "       [-0.23460645,  0.6409442 ],\n",
       "       [-1.13184893, -0.61964942],\n",
       "       [-0.92413821, -0.45302089],\n",
       "       [ 0.2225745 ,  0.77052597],\n",
       "       [-0.69453765,  0.53014147],\n",
       "       [-1.0362509 ,  0.77339965],\n",
       "       [ 0.51880585,  0.30152232],\n",
       "       [-0.77429541,  0.02553767],\n",
       "       [ 0.71468326,  0.56869015],\n",
       "       [-0.33875274,  0.46826063],\n",
       "       [-0.34749244,  0.13441418],\n",
       "       [ 1.12980796,  0.04281936],\n",
       "       [-0.38308979,  0.79116812],\n",
       "       [-0.07425141,  0.2184625 ],\n",
       "       [-0.44945202, -0.05722266],\n",
       "       [ 0.85783288,  0.63778888],\n",
       "       [-0.47486203, -0.22498112],\n",
       "       [ 0.12627243,  0.86978412],\n",
       "       [-0.64736458, -0.36342437],\n",
       "       [ 0.47440459,  1.01101585],\n",
       "       [-0.38565772, -0.81031183]])"
      ]
     },
     "execution_count": 15,
     "metadata": {},
     "output_type": "execute_result"
    }
   ],
   "source": [
    "X"
   ]
  },
  {
   "cell_type": "code",
   "execution_count": 16,
   "metadata": {},
   "outputs": [
    {
     "data": {
      "text/plain": [
       "array([1, 1, 0, 1, 1, 0, 0, 1, 1, 1, 1, 0, 1, 1, 1, 0, 0, 0, 1, 0, 0, 1,\n",
       "       1, 1, 0, 0, 1, 0, 0, 0, 1, 1, 1, 1, 1, 0, 0, 1, 0, 0, 1, 1, 1, 0,\n",
       "       1, 0, 0, 1, 0, 1, 0, 1, 0, 0, 1, 0, 0, 1, 0, 1, 0, 1, 1, 0, 0, 1,\n",
       "       0, 1, 0, 1, 1, 0, 1, 1, 0, 1, 0, 1, 1, 0, 0, 0, 0, 0, 0, 1, 0, 0,\n",
       "       1, 1, 0, 0, 1, 1, 0, 1, 0, 1, 0, 0])"
      ]
     },
     "execution_count": 16,
     "metadata": {},
     "output_type": "execute_result"
    }
   ],
   "source": [
    "y"
   ]
  },
  {
   "cell_type": "markdown",
   "metadata": {},
   "source": [
    "### As our classification algorithm, we are going to use a type of SVM with a radial basis function. This basically works by mapping each point into a higher dimensional space that can be split by the SVM (gross oversimplificaiton). That looks something like this:\n",
    "![RBFSVM.png](../images/RBFSVM.png)"
   ]
  },
  {
   "cell_type": "markdown",
   "metadata": {},
   "source": [
    "### We can change thecomplexity of the decision boundaries applied by the SVM by changignt the size of the radial basis function, through the parameter 'gamma'.\n",
    "\n",
    "Instantiate a list of three SVM classifiers with three different gamma parameters, (.001, 1, and 20)."
   ]
  },
  {
   "cell_type": "code",
   "execution_count": 4,
   "metadata": {},
   "outputs": [],
   "source": [
    "# Your code here\n",
    "from sklearn.svm import SVC \n",
    "clf1 = SVC(kernel='rbf', C=10, gamma=.001) \n",
    "clf2 = SVC(kernel='rbf', C=10, gamma=1) \n",
    "clf3 = SVC(kernel='rbf', C=10, gamma=20) \n",
    "classifiers = [clf1, clf2, clf3]"
   ]
  },
  {
   "cell_type": "markdown",
   "metadata": {},
   "source": [
    "### Now, we are going to plot the boundaries created by each of these classifiers with the points we generated. Run the following code to make three graphs of each SVM classifier."
   ]
  },
  {
   "cell_type": "code",
   "execution_count": 5,
   "metadata": {},
   "outputs": [
    {
     "data": {
      "image/png": "[encoded data removed]",
      "text/plain": [
       "<Figure size 864x432 with 3 Axes>"
      ]
     },
     "metadata": {},
     "output_type": "display_data"
    }
   ],
   "source": [
    "from matplotlib.colors import ListedColormap\n",
    "\n",
    "figure = plt.figure(figsize=(12, 6))\n",
    "i = 1\n",
    "h = .02  # step size in the mesh\n",
    "x_min, x_max = X[:, 0].min() - .5, X[:, 0].max() + .5\n",
    "y_min, y_max = X[:, 1].min() - .5, X[:, 1].max() + .5\n",
    "xx, yy = np.meshgrid(np.arange(x_min, x_max, h),\n",
    "                     np.arange(y_min, y_max, h))\n",
    "cm = plt.cm.RdBu\n",
    "cm_bright = ListedColormap(['#FF0000', '#0000FF'])\n",
    "names = ['gamma = 0.001', 'gamma = 1', 'gamma = 20']\n",
    "\n",
    "# iterate over classifiers\n",
    "for name, clf in zip(names, classifiers):\n",
    "    ax = plt.subplot(1, len(classifiers), i)\n",
    "    clf.fit(X, y)\n",
    "\n",
    "    # Plot the decision boundary. For that, we will assign a color to each\n",
    "    # point in the mesh [x_min, x_max]x[y_min, y_max].\n",
    "    if hasattr(clf, \"decision_function\"):\n",
    "        Z = clf.decision_function(np.c_[xx.ravel(), yy.ravel()])\n",
    "    else:\n",
    "        Z = clf.predict_proba(np.c_[xx.ravel(), yy.ravel()])[:, 1]\n",
    "\n",
    "    # Put the result into a color plot\n",
    "    Z = Z.reshape(xx.shape)\n",
    "    ax.contourf(xx, yy, Z, cmap=cm, alpha=.8)\n",
    "\n",
    "    ax.scatter(X[:, 0], X[:, 1], c=y, cmap=cm_bright)\n",
    "\n",
    "    ax.set_xlim(xx.min(), xx.max())\n",
    "    ax.set_ylim(yy.min(), yy.max())\n",
    "    ax.set_xticks(())\n",
    "    ax.set_yticks(())\n",
    "    ax.set_title(name)\n",
    "    i += 1\n",
    "plt.show()"
   ]
  },
  {
   "cell_type": "markdown",
   "metadata": {},
   "source": [
    "### Where the contour is red, we will predict red, and same for blue; white means there is a 50/50 chance of either class\n",
    "Explain what you see in the plots above.\n",
    "\n",
    "Which gamma do you think fits the data best? \n",
    "\n",
    "What would you select as the opitmal gamma?"
   ]
  },
  {
   "cell_type": "code",
   "execution_count": 6,
   "metadata": {},
   "outputs": [
    {
     "data": {
      "text/plain": [
       "'From the plots I can say gamma = 20 is overfitted, gamma = 0.001 is having high bias with low variance,\\ngamma = 1 is having low variance and low bias.'"
      ]
     },
     "execution_count": 6,
     "metadata": {},
     "output_type": "execute_result"
    }
   ],
   "source": [
    "# Your response here\n",
    "# Explain what you see in the plots above.\n",
    "\"\"\"From the plots I can say gamma = 20 is overfitted, gamma = 0.001 is having high bias with low variance,\n",
    "gamma = 1 is having low variance and low bias.\"\"\""
   ]
  },
  {
   "cell_type": "code",
   "execution_count": 7,
   "metadata": {},
   "outputs": [
    {
     "data": {
      "text/plain": [
       "'gamma = 1 fits the data best with low variance and low bias'"
      ]
     },
     "execution_count": 7,
     "metadata": {},
     "output_type": "execute_result"
    }
   ],
   "source": [
    "# Which gamma do you think fits the data best? \n",
    "\"\"\"gamma = 1 fits the data best with low variance and low bias\"\"\""
   ]
  },
  {
   "cell_type": "code",
   "execution_count": 8,
   "metadata": {},
   "outputs": [
    {
     "data": {
      "text/plain": [
       "'gamma = 1 is the optimal gamma.'"
      ]
     },
     "execution_count": 8,
     "metadata": {},
     "output_type": "execute_result"
    }
   ],
   "source": [
    "# What would you select as the opitmal gamma?\n",
    "\"\"\"gamma = 1 is the optimal gamma.\"\"\""
   ]
  },
  {
   "cell_type": "markdown",
   "metadata": {},
   "source": [
    "### Without having used a training and testing set, lets see what our accuracy score would be for, for example, a gamma of .7. Use the .score() method."
   ]
  },
  {
   "cell_type": "code",
   "execution_count": 9,
   "metadata": {},
   "outputs": [
    {
     "data": {
      "text/plain": [
       "0.92"
      ]
     },
     "execution_count": 9,
     "metadata": {},
     "output_type": "execute_result"
    }
   ],
   "source": [
    "# Your code here\n",
    "clf4 = SVC(kernel='rbf', C=10, gamma=0.7)\n",
    "clf4.fit(X, y)\n",
    "clf4.score(X, y)"
   ]
  },
  {
   "cell_type": "markdown",
   "metadata": {},
   "source": [
    "### Wow thats good accuracy! But is it generalizable? Make a test/train split and see how the model performs on the SVM with the gamma of 20. "
   ]
  },
  {
   "cell_type": "code",
   "execution_count": 10,
   "metadata": {},
   "outputs": [],
   "source": [
    "# Your code here\n",
    "# Import train_test_split function\n",
    "from sklearn.model_selection import train_test_split\n",
    "# Split dataset into training set and test set\n",
    "X_train, X_test, y_train, y_test = train_test_split(X, y, test_size=0.2) # 80% training and 20% test\n"
   ]
  },
  {
   "cell_type": "code",
   "execution_count": 11,
   "metadata": {},
   "outputs": [
    {
     "data": {
      "text/plain": [
       "0.9"
      ]
     },
     "execution_count": 11,
     "metadata": {},
     "output_type": "execute_result"
    }
   ],
   "source": [
    "#Import svm model\n",
    "from sklearn import svm\n",
    "#Create a svm Classifier\n",
    "clf5 = SVC(kernel='rbf', gamma = 20)\n",
    "#Train the model using the training sets\n",
    "clf5.fit(X_train, y_train)\n",
    "#Predict the response for test dataset\n",
    "y_pred = clf5.predict(X_test)\n",
    "# Score for the model\n",
    "clf5.score(X_test, y_test)"
   ]
  },
  {
   "cell_type": "markdown",
   "metadata": {},
   "source": [
    "### Try with some of the other gammas to see how the accuracy score changes after implementing a test/train split. "
   ]
  },
  {
   "cell_type": "code",
   "execution_count": 12,
   "metadata": {},
   "outputs": [
    {
     "data": {
      "text/plain": [
       "0.85"
      ]
     },
     "execution_count": 12,
     "metadata": {},
     "output_type": "execute_result"
    }
   ],
   "source": [
    "# Your code here\n",
    "# Gamma = 1\n",
    "clf6 = SVC(kernel='rbf', gamma = 1) \n",
    "#Train the model using the training sets\n",
    "clf6.fit(X_train, y_train)\n",
    "#Predict the response for test dataset\n",
    "y_pred = clf6.predict(X_test)\n",
    "# Score for the model\n",
    "clf6.score(X_test, y_test)"
   ]
  },
  {
   "cell_type": "code",
   "execution_count": 13,
   "metadata": {},
   "outputs": [
    {
     "data": {
      "text/plain": [
       "0.4"
      ]
     },
     "execution_count": 13,
     "metadata": {},
     "output_type": "execute_result"
    }
   ],
   "source": [
    "# Your code here\n",
    "# Gamma = 1\n",
    "clf7 = SVC(kernel='rbf', gamma = 0.001)\n",
    "#Train the model using the training sets\n",
    "clf7.fit(X_train, y_train)\n",
    "#Predict the response for test dataset\n",
    "y_pred = clf7.predict(X_test)\n",
    "# Score for the model\n",
    "clf7.score(X_test, y_test)"
   ]
  },
  {
   "cell_type": "markdown",
   "metadata": {},
   "source": [
    "### Was your previous model overfitting? If so, how would you try to improve this model to prevent this?"
   ]
  },
  {
   "cell_type": "code",
   "execution_count": 14,
   "metadata": {},
   "outputs": [],
   "source": [
    "# Your response here\n",
    "\"\"\"Yes, the model is overfitting with a score of 0.92, \n",
    "\n",
    "This is one of the factor why our model is overfitted, If the dataset contains a large number of features, and \n",
    "few rows of data the algorithm will not have enough data about each of the features to be able to sort the \n",
    "signal from the noise.\n",
    "\n",
    "But in our data the features are only 2 which is good but the number of rows are few thats the reason. We can improve\n",
    "by adding new data to it.\"\"\""
   ]
  }
 ],
 "metadata": {
  "kernelspec": {
   "display_name": "Python 3",
   "language": "python",
   "name": "python3"
  },
  "language_info": {
   "codemirror_mode": {
    "name": "ipython",
    "version": 3
   },
   "file_extension": ".py",
   "mimetype": "text/x-python",
   "name": "python",
   "nbconvert_exporter": "python",
   "pygments_lexer": "ipython3",
   "version": "3.8.3"
  }
 },
 "nbformat": 4,
 "nbformat_minor": 2
}
