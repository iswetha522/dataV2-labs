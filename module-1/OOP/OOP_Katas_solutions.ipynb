{
 "cells": [
  {
   "cell_type": "code",
   "execution_count": 29,
   "metadata": {},
   "outputs": [],
   "source": [
    "import numpy as np\n",
    "import re\n",
    "class IntegerList:\n",
    "    def __init__(self, integer_list, values_list):\n",
    "        self.integer_list = integer_list\n",
    "        self.values_list = values_list\n",
    "    \n",
    "    def remove_(self):\n",
    "        l = list()\n",
    "        for item in self.integer_list:\n",
    "            if item not in self.values_list:\n",
    "                l.append(item)\n",
    "        return l\n",
    "        \n",
    "    def countSpecDigits(self):\n",
    "        dict = {}\n",
    "        \n",
    "        for key in self.values_list:\n",
    "            dict[key] = 0\n",
    "        \n",
    "        for item in self.integer_list:\n",
    "            snum = str(item)\n",
    "            for c in snum:\n",
    "                if c != '-' and int(c) in self.values_list:\n",
    "                    dict[int(c)] = dict[int(c)] + 1\n",
    "                    \n",
    "        return [(int(key), value) for key, value in dict.items()]\n",
    "    \n"
   ]
  },
  {
   "cell_type": "code",
   "execution_count": 30,
   "metadata": {},
   "outputs": [
    {
     "data": {
      "text/plain": [
       "[2, 2, 4]"
      ]
     },
     "execution_count": 30,
     "metadata": {},
     "output_type": "execute_result"
    }
   ],
   "source": [
    "rl = IntegerList([1, 1, 2 ,3 ,1 ,2 ,3 ,4], [1, 3])\n",
    "rl.remove_()"
   ]
  },
  {
   "cell_type": "code",
   "execution_count": 31,
   "metadata": {},
   "outputs": [
    {
     "data": {
      "text/plain": [
       "[5, 6, 7, 8]"
      ]
     },
     "execution_count": 31,
     "metadata": {},
     "output_type": "execute_result"
    }
   ],
   "source": [
    "rl2 = IntegerList([1, 1, 2 ,3 ,1 ,2 ,3 ,4, 4, 3 ,5, 6, 7, 2, 8], [1, 3, 4, 2])\n",
    "rl2.remove_()"
   ]
  },
  {
   "cell_type": "code",
   "execution_count": 32,
   "metadata": {},
   "outputs": [
    {
     "data": {
      "text/plain": [
       "[8, 7, 6, 5, 1]"
      ]
     },
     "execution_count": 32,
     "metadata": {},
     "output_type": "execute_result"
    }
   ],
   "source": [
    "rl3 = IntegerList([8, 2, 7, 2, 3, 4, 6, 5, 4, 4, 1, 2 , 3], [2, 4, 3])\n",
    "rl3.remove_()"
   ]
  },
  {
   "cell_type": "code",
   "execution_count": 33,
   "metadata": {},
   "outputs": [
    {
     "data": {
      "text/plain": [
       "[(1, 3), (3, 2)]"
      ]
     },
     "execution_count": 33,
     "metadata": {},
     "output_type": "execute_result"
    }
   ],
   "source": [
    "csp = IntegerList([1, 1, 2 ,3 ,1 ,2 ,3 ,4], [1, 3])\n",
    "csp.countSpecDigits()"
   ]
  },
  {
   "cell_type": "code",
   "execution_count": 34,
   "metadata": {},
   "outputs": [
    {
     "data": {
      "text/plain": [
       "[(1, 7), (8, 5), (4, 0)]"
      ]
     },
     "execution_count": 34,
     "metadata": {},
     "output_type": "execute_result"
    }
   ],
   "source": [
    "csp2 = IntegerList([-18, -31, 81, -19, 111, -888], [1, 8, 4])\n",
    "csp2.countSpecDigits()"
   ]
  },
  {
   "cell_type": "code",
   "execution_count": 35,
   "metadata": {},
   "outputs": [
    {
     "data": {
      "text/plain": [
       "[(1, 0), (8, 0), (4, 0)]"
      ]
     },
     "execution_count": 35,
     "metadata": {},
     "output_type": "execute_result"
    }
   ],
   "source": [
    "csp3 = IntegerList([-77, -65, 56, -79, 6666, 222], [1, 8, 4])\n",
    "csp3.countSpecDigits()"
   ]
  },
  {
   "cell_type": "code",
   "execution_count": 7,
   "metadata": {},
   "outputs": [],
   "source": [
    "class Occurences:\n",
    "    def __init__(self, str = ''):\n",
    "        self.str = str\n",
    "        \n",
    "    def ordered_count(self):\n",
    "        occurences = {}\n",
    "        for char in self.str:\n",
    "            occurences[char] = self.str.count(char)\n",
    "\n",
    "        return [(key, value) for key, value in occurences.items()]\n",
    "    \n"
   ]
  },
  {
   "cell_type": "code",
   "execution_count": 8,
   "metadata": {},
   "outputs": [
    {
     "data": {
      "text/plain": [
       "[('a', 5), ('b', 2), ('r', 2), ('c', 1), ('d', 1)]"
      ]
     },
     "execution_count": 8,
     "metadata": {},
     "output_type": "execute_result"
    }
   ],
   "source": [
    "occur = Occurences(\"abracadabra\")\n",
    "occur.ordered_count()"
   ]
  },
  {
   "cell_type": "code",
   "execution_count": 10,
   "metadata": {},
   "outputs": [
    {
     "data": {
      "text/plain": [
       "[]"
      ]
     },
     "execution_count": 10,
     "metadata": {},
     "output_type": "execute_result"
    }
   ],
   "source": [
    "occur2 = Occurences()\n",
    "occur2.ordered_count()"
   ]
  },
  {
   "cell_type": "code",
   "execution_count": null,
   "metadata": {},
   "outputs": [],
   "source": []
  }
 ],
 "metadata": {
  "kernelspec": {
   "display_name": "Python 3",
   "language": "python",
   "name": "python3"
  },
  "language_info": {
   "codemirror_mode": {
    "name": "ipython",
    "version": 3
   },
   "file_extension": ".py",
   "mimetype": "text/x-python",
   "name": "python",
   "nbconvert_exporter": "python",
   "pygments_lexer": "ipython3",
   "version": "3.8.3"
  }
 },
 "nbformat": 4,
 "nbformat_minor": 4
}
