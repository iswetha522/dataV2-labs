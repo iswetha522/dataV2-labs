{
 "cells": [
  {
   "cell_type": "markdown",
   "metadata": {},
   "source": [
    "# Introduction to NumPy\n",
    "\n",
    "\n",
    "#### 1. Import NumPy under the name np."
   ]
  },
  {
   "cell_type": "code",
   "execution_count": 203,
   "metadata": {},
   "outputs": [],
   "source": [
    "# your code here\n",
    "import numpy as np"
   ]
  },
  {
   "cell_type": "markdown",
   "metadata": {},
   "source": [
    "#### 2. Print your NumPy version."
   ]
  },
  {
   "cell_type": "code",
   "execution_count": 204,
   "metadata": {},
   "outputs": [
    {
     "data": {
      "text/plain": [
       "'1.18.5'"
      ]
     },
     "execution_count": 204,
     "metadata": {},
     "output_type": "execute_result"
    }
   ],
   "source": [
    "# your code here\n",
    "np.version.version"
   ]
  },
  {
   "cell_type": "markdown",
   "metadata": {},
   "source": [
    "#### 3. Generate a 2x3x5 3-dimensional array with random values. Assign the array to variable *a*.\n",
    "**Challenge**: there are at least three easy ways that use numpy to generate random arrays. How many ways can you find?"
   ]
  },
  {
   "cell_type": "code",
   "execution_count": 205,
   "metadata": {},
   "outputs": [],
   "source": [
    "# Method 1\n",
    "a = np.random.random([2,3,5])\n"
   ]
  },
  {
   "cell_type": "code",
   "execution_count": 206,
   "metadata": {},
   "outputs": [
    {
     "name": "stdout",
     "output_type": "stream",
     "text": [
      "[0 1 1 1 0 1 1 1 1 0]\n"
     ]
    }
   ],
   "source": [
    "# Method 2\n",
    "x = np.random.randint(2, size = 10) \n",
    "# Where 2 is the array containing numbers from o to 2(exclusive) 10 is number of elements\n",
    "print(x)"
   ]
  },
  {
   "cell_type": "code",
   "execution_count": 207,
   "metadata": {},
   "outputs": [
    {
     "name": "stdout",
     "output_type": "stream",
     "text": [
      "[0.3412633  0.75993752 0.38234826 0.47618756 0.0393545 ]\n"
     ]
    }
   ],
   "source": [
    "# Method 3\n",
    "y = np.random.rand(5)\n",
    "print(y)"
   ]
  },
  {
   "cell_type": "markdown",
   "metadata": {},
   "source": [
    "#### 4. Print *a*.\n"
   ]
  },
  {
   "cell_type": "code",
   "execution_count": 208,
   "metadata": {},
   "outputs": [
    {
     "name": "stdout",
     "output_type": "stream",
     "text": [
      "[[[0.27959475 0.82453611 0.47636447 0.84810259 0.40464419]\n",
      "  [0.04301657 0.20476887 0.26170486 0.81248602 0.18507218]\n",
      "  [0.53107343 0.42563256 0.36981829 0.88489807 0.93290809]]\n",
      "\n",
      " [[0.5596549  0.30406488 0.01522594 0.79652824 0.59883922]\n",
      "  [0.43557659 0.33651523 0.8394954  0.66879798 0.1025996 ]\n",
      "  [0.83972438 0.67726315 0.02767422 0.76621966 0.90353668]]]\n"
     ]
    }
   ],
   "source": [
    "# your code here\n",
    "print(a)"
   ]
  },
  {
   "cell_type": "markdown",
   "metadata": {},
   "source": [
    "#### 5. Create a 5x2x3 3-dimensional array with all values equaling 1. Assign the array to variable *b*."
   ]
  },
  {
   "cell_type": "code",
   "execution_count": 209,
   "metadata": {},
   "outputs": [],
   "source": [
    "# your code here\n",
    "b = np.ones((5,2,3))"
   ]
  },
  {
   "cell_type": "markdown",
   "metadata": {},
   "source": [
    "#### 6. Print *b*.\n"
   ]
  },
  {
   "cell_type": "code",
   "execution_count": 210,
   "metadata": {},
   "outputs": [
    {
     "name": "stdout",
     "output_type": "stream",
     "text": [
      "[[[1. 1. 1.]\n",
      "  [1. 1. 1.]]\n",
      "\n",
      " [[1. 1. 1.]\n",
      "  [1. 1. 1.]]\n",
      "\n",
      " [[1. 1. 1.]\n",
      "  [1. 1. 1.]]\n",
      "\n",
      " [[1. 1. 1.]\n",
      "  [1. 1. 1.]]\n",
      "\n",
      " [[1. 1. 1.]\n",
      "  [1. 1. 1.]]]\n"
     ]
    }
   ],
   "source": [
    "# your code here\n",
    "print(b)"
   ]
  },
  {
   "cell_type": "markdown",
   "metadata": {},
   "source": [
    "#### 7. Do *a* and *b* have the same size? How do you prove that in Python code?"
   ]
  },
  {
   "cell_type": "code",
   "execution_count": 211,
   "metadata": {},
   "outputs": [
    {
     "name": "stdout",
     "output_type": "stream",
     "text": [
      "30\n",
      "30\n"
     ]
    },
    {
     "data": {
      "text/plain": [
       "\"Yes, Both 'a' and 'b' have same sizes. Size is the number of elements in each array.\""
      ]
     },
     "execution_count": 211,
     "metadata": {},
     "output_type": "execute_result"
    }
   ],
   "source": [
    "# your code here\n",
    "print(a.size)\n",
    "print(b.size)\n",
    "# print(b.shape)\n",
    "\"\"\"Yes, Both 'a' and 'b' have same sizes. Size is the number of elements in each array.\"\"\""
   ]
  },
  {
   "cell_type": "markdown",
   "metadata": {},
   "source": [
    "#### 8. Are you able to add *a* and *b*? Why or why not?\n"
   ]
  },
  {
   "cell_type": "code",
   "execution_count": 212,
   "metadata": {},
   "outputs": [
    {
     "ename": "ValueError",
     "evalue": "operands could not be broadcast together with shapes (2,3,5) (5,2,3) ",
     "output_type": "error",
     "traceback": [
      "\u001b[0;31m---------------------------------------------------------------------------\u001b[0m",
      "\u001b[0;31mValueError\u001b[0m                                Traceback (most recent call last)",
      "\u001b[0;32m<ipython-input-212-c3386f4830df>\u001b[0m in \u001b[0;36m<module>\u001b[0;34m\u001b[0m\n\u001b[1;32m      1\u001b[0m \u001b[0;31m# your answer here\u001b[0m\u001b[0;34m\u001b[0m\u001b[0;34m\u001b[0m\u001b[0;34m\u001b[0m\u001b[0m\n\u001b[0;32m----> 2\u001b[0;31m \u001b[0mprint\u001b[0m\u001b[0;34m(\u001b[0m\u001b[0mnp\u001b[0m\u001b[0;34m.\u001b[0m\u001b[0madd\u001b[0m\u001b[0;34m(\u001b[0m\u001b[0ma\u001b[0m\u001b[0;34m,\u001b[0m\u001b[0mb\u001b[0m\u001b[0;34m)\u001b[0m\u001b[0;34m)\u001b[0m\u001b[0;34m\u001b[0m\u001b[0;34m\u001b[0m\u001b[0m\n\u001b[0m\u001b[1;32m      3\u001b[0m \u001b[0;34m\u001b[0m\u001b[0m\n\u001b[1;32m      4\u001b[0m \"\"\"No, we cannot add a,b as the shapes of them are different because 'a' is a 3-Dimensional with 2 subgroups with \n\u001b[1;32m      5\u001b[0m \u001b[0;36m3\u001b[0m \u001b[0mrows\u001b[0m \u001b[0;32mand\u001b[0m \u001b[0;36m5\u001b[0m \u001b[0melements\u001b[0m \u001b[0mwhereas\u001b[0m \u001b[0;34m'b'\u001b[0m \u001b[0;32mis\u001b[0m \u001b[0ma\u001b[0m \u001b[0;36m3\u001b[0m\u001b[0;34m-\u001b[0m\u001b[0mDimensional\u001b[0m \u001b[0marray\u001b[0m \u001b[0;32mwith\u001b[0m \u001b[0;36m5\u001b[0m \u001b[0msubgroups\u001b[0m \u001b[0;36m2\u001b[0m \u001b[0mrows\u001b[0m \u001b[0;32mand\u001b[0m \u001b[0;36m3\u001b[0m \u001b[0melements\u001b[0m\u001b[0;34m.\u001b[0m\u001b[0;34m\u001b[0m\u001b[0;34m\u001b[0m\u001b[0m\n",
      "\u001b[0;31mValueError\u001b[0m: operands could not be broadcast together with shapes (2,3,5) (5,2,3) "
     ]
    }
   ],
   "source": [
    "# your answer here\n",
    "print(np.add(a,b))\n",
    "\n",
    "\"\"\"No, we cannot add a,b as the shapes of them are different because 'a' is a 3-Dimensional with 2 subgroups with \n",
    "3 rows and 5 elements whereas 'b' is a 3-Dimensional array with 5 subgroups 2 rows and 3 elements.\n",
    "\"\"\""
   ]
  },
  {
   "cell_type": "markdown",
   "metadata": {},
   "source": [
    "#### 9. Transpose *b* so that it has the same structure of *a* (i.e. become a 2x3x5 array). Assign the transposed array to variable *c*."
   ]
  },
  {
   "cell_type": "code",
   "execution_count": 213,
   "metadata": {},
   "outputs": [
    {
     "data": {
      "text/plain": [
       "(2, 3, 5)"
      ]
     },
     "execution_count": 213,
     "metadata": {},
     "output_type": "execute_result"
    }
   ],
   "source": [
    "# your code here\n",
    "c = np.transpose(b,(1,2,0))\n",
    "c.shape"
   ]
  },
  {
   "cell_type": "markdown",
   "metadata": {},
   "source": [
    "#### 10. Try to add *a* and *c*. Now it should work. Assign the sum to variable *d*. But why does it work now?"
   ]
  },
  {
   "cell_type": "code",
   "execution_count": 214,
   "metadata": {},
   "outputs": [
    {
     "data": {
      "text/plain": [
       "(2, 3, 5)"
      ]
     },
     "execution_count": 214,
     "metadata": {},
     "output_type": "execute_result"
    }
   ],
   "source": [
    "# your code/answer here\n",
    "d = np.add(a,c)\n",
    "d.shape"
   ]
  },
  {
   "cell_type": "markdown",
   "metadata": {},
   "source": [
    "#### 11. Print *a* and *d*. Notice the difference and relation of the two array in terms of the values? Explain."
   ]
  },
  {
   "cell_type": "code",
   "execution_count": 215,
   "metadata": {},
   "outputs": [
    {
     "name": "stdout",
     "output_type": "stream",
     "text": [
      "[[[0.27959475 0.82453611 0.47636447 0.84810259 0.40464419]\n",
      "  [0.04301657 0.20476887 0.26170486 0.81248602 0.18507218]\n",
      "  [0.53107343 0.42563256 0.36981829 0.88489807 0.93290809]]\n",
      "\n",
      " [[0.5596549  0.30406488 0.01522594 0.79652824 0.59883922]\n",
      "  [0.43557659 0.33651523 0.8394954  0.66879798 0.1025996 ]\n",
      "  [0.83972438 0.67726315 0.02767422 0.76621966 0.90353668]]]\n",
      "\n",
      "[[[1.27959475 1.82453611 1.47636447 1.84810259 1.40464419]\n",
      "  [1.04301657 1.20476887 1.26170486 1.81248602 1.18507218]\n",
      "  [1.53107343 1.42563256 1.36981829 1.88489807 1.93290809]]\n",
      "\n",
      " [[1.5596549  1.30406488 1.01522594 1.79652824 1.59883922]\n",
      "  [1.43557659 1.33651523 1.8394954  1.66879798 1.1025996 ]\n",
      "  [1.83972438 1.67726315 1.02767422 1.76621966 1.90353668]]]\n"
     ]
    },
    {
     "data": {
      "text/plain": [
       "\" The difference between 'a' and 'd' in terms of values are 1. So, the relation is each element(d) = each element(a)\\n+ 1. We assigned array 'b' which consists of elements of 1's(ones) to c.  \""
      ]
     },
     "execution_count": 215,
     "metadata": {},
     "output_type": "execute_result"
    }
   ],
   "source": [
    "# your code/answer here\n",
    "print(a)\n",
    "print()\n",
    "print(d)\n",
    "\n",
    "\"\"\" The difference between 'a' and 'd' in terms of values are 1. So, the relation is each element(d) = each element(a)\n",
    "+ 1. We assigned array 'b' which consists of elements of 1's(ones) to c.  \"\"\""
   ]
  },
  {
   "cell_type": "markdown",
   "metadata": {},
   "source": [
    "#### 12. Multiply *a* and *c*. Assign the result to *e*."
   ]
  },
  {
   "cell_type": "code",
   "execution_count": 216,
   "metadata": {},
   "outputs": [],
   "source": [
    "# your code here\n",
    "e = np.multiply(a, c)\n"
   ]
  },
  {
   "cell_type": "markdown",
   "metadata": {},
   "source": [
    "#### 13. Does *e* equal to *a*? Why or why not?\n"
   ]
  },
  {
   "cell_type": "code",
   "execution_count": 217,
   "metadata": {},
   "outputs": [
    {
     "name": "stdout",
     "output_type": "stream",
     "text": [
      "[[[0.27959475 0.82453611 0.47636447 0.84810259 0.40464419]\n",
      "  [0.04301657 0.20476887 0.26170486 0.81248602 0.18507218]\n",
      "  [0.53107343 0.42563256 0.36981829 0.88489807 0.93290809]]\n",
      "\n",
      " [[0.5596549  0.30406488 0.01522594 0.79652824 0.59883922]\n",
      "  [0.43557659 0.33651523 0.8394954  0.66879798 0.1025996 ]\n",
      "  [0.83972438 0.67726315 0.02767422 0.76621966 0.90353668]]]\n",
      "\n",
      "[[[0.27959475 0.82453611 0.47636447 0.84810259 0.40464419]\n",
      "  [0.04301657 0.20476887 0.26170486 0.81248602 0.18507218]\n",
      "  [0.53107343 0.42563256 0.36981829 0.88489807 0.93290809]]\n",
      "\n",
      " [[0.5596549  0.30406488 0.01522594 0.79652824 0.59883922]\n",
      "  [0.43557659 0.33651523 0.8394954  0.66879798 0.1025996 ]\n",
      "  [0.83972438 0.67726315 0.02767422 0.76621966 0.90353668]]]\n"
     ]
    },
    {
     "data": {
      "text/plain": [
       "\" \\nYes, Both 'e' and 'a' produces same result. We assigned array 'b' which consists of elements of 1's(ones) to c. So, \\nwe then multiplied every element of 'a' with 1's producing same result of e.\\n\""
      ]
     },
     "execution_count": 217,
     "metadata": {},
     "output_type": "execute_result"
    }
   ],
   "source": [
    "# your code/answer here\n",
    "print(e)\n",
    "print()\n",
    "print(a)\n",
    "\n",
    "\"\"\" \n",
    "Yes, Both 'e' and 'a' produces same result. We assigned array 'b' which consists of elements of 1's(ones) to c. So, \n",
    "we then multiplied every element of 'a' with 1's producing same result of e.\n",
    "\"\"\""
   ]
  },
  {
   "cell_type": "markdown",
   "metadata": {},
   "source": [
    "#### 14. Identify the max, min, and mean values in *d*. Assign those values to variables *d_max*, *d_min* and *d_mean*."
   ]
  },
  {
   "cell_type": "code",
   "execution_count": 218,
   "metadata": {},
   "outputs": [],
   "source": [
    "# your code here\n",
    "d_max = np.amax(d)\n",
    "d_min = np.amin(d)\n",
    "d_mean = np.mean(d)"
   ]
  },
  {
   "cell_type": "markdown",
   "metadata": {},
   "source": [
    "#### 15. Now we want to label the values in *d*. First create an empty array *f* with the same shape (i.e. 2x3x5) as *d* using `np.empty`.\n"
   ]
  },
  {
   "cell_type": "code",
   "execution_count": 219,
   "metadata": {},
   "outputs": [
    {
     "name": "stdout",
     "output_type": "stream",
     "text": [
      "[[[0.27959475 0.82453611 0.47636447 0.84810259 0.40464419]\n",
      "  [0.04301657 0.20476887 0.26170486 0.81248602 0.18507218]\n",
      "  [0.53107343 0.42563256 0.36981829 0.88489807 0.93290809]]\n",
      "\n",
      " [[0.5596549  0.30406488 0.01522594 0.79652824 0.59883922]\n",
      "  [0.43557659 0.33651523 0.8394954  0.66879798 0.1025996 ]\n",
      "  [0.83972438 0.67726315 0.02767422 0.76621966 0.90353668]]]\n"
     ]
    }
   ],
   "source": [
    "# your code here\n",
    "f = np.empty((2,3,5))\n",
    "print(f)"
   ]
  },
  {
   "cell_type": "markdown",
   "metadata": {},
   "source": [
    "#### 16. Populate the values in *f*. \n",
    "\n",
    "For each value in *d*, if it's larger than *d_min* but smaller than *d_mean*, assign 25 to the corresponding value in *f*. If a value in *d* is larger than *d_mean* but smaller than *d_max*, assign 75 to the corresponding value in *f*. If a value equals to *d_mean*, assign 50 to the corresponding value in *f*. Assign 0 to the corresponding value(s) in *f* for *d_min* in *d*. Assign 100 to the corresponding value(s) in *f* for *d_max* in *d*. In the end, f should have only the following values: 0, 25, 50, 75, and 100.\n",
    "\n",
    "**Note**: you don't have to use Numpy in this question."
   ]
  },
  {
   "cell_type": "code",
   "execution_count": 220,
   "metadata": {},
   "outputs": [],
   "source": [
    "# your code here\n",
    "# d = [[[element for element in row] for row in subgroup for subgroup in d]]\n",
    "# f = [[[element for element in row] for row in subgroup for subgroup in f]] \n",
    "\n",
    "\n",
    "for i in range(d.shape[0]):\n",
    "    for j in range(d.shape[1]):\n",
    "        for k in range(d.shape[2]):\n",
    "            element = d[i,j,k]\n",
    "            if (element > d_min) and (element < d_mean):\n",
    "                f[i,j,k] = 25\n",
    "            elif (element > d_mean) and (element < d_max):\n",
    "                f[i,j,k]= 75\n",
    "            elif (element == d_mean):\n",
    "                f[i,j,k] = 50\n",
    "            elif (element == d_min):\n",
    "                f[i,j,k]= 0\n",
    "            else:\n",
    "                f[i,j,k]= 100\n",
    "\n",
    "\n",
    "                "
   ]
  },
  {
   "cell_type": "markdown",
   "metadata": {},
   "source": [
    "#### 17. Print *d* and *f*. Do you have your expected *f*?\n",
    "For instance, if your *d* is:\n",
    "```python\n",
    "[[[1.85836099, 1.67064465, 1.62576044, 1.40243961, 1.88454931],\n",
    "[1.75354326, 1.69403643, 1.36729252, 1.61415071, 1.12104981],\n",
    "[1.72201435, 1.1862918 , 1.87078449, 1.7726778 , 1.88180042]],\n",
    "[[1.44747908, 1.31673383, 1.02000951, 1.52218947, 1.97066381],\n",
    "[1.79129243, 1.74983003, 1.96028037, 1.85166831, 1.65450881],\n",
    "[1.18068344, 1.9587381 , 1.00656599, 1.93402165, 1.73514584]]]\n",
    "```\n",
    "Your *f* should be:\n",
    "```python\n",
    "[[[ 75.,  75.,  75.,  25.,  75.],\n",
    "[ 75.,  75.,  25.,  25.,  25.],\n",
    "[ 75.,  25.,  75.,  75.,  75.]],\n",
    "[[ 25.,  25.,  25.,  25., 100.],\n",
    "[ 75.,  75.,  75.,  75.,  75.],\n",
    "[ 25.,  75.,   0.,  75.,  75.]]]\n",
    "```"
   ]
  },
  {
   "cell_type": "code",
   "execution_count": 221,
   "metadata": {},
   "outputs": [
    {
     "name": "stdout",
     "output_type": "stream",
     "text": [
      "[[[1.27959475 1.82453611 1.47636447 1.84810259 1.40464419]\n",
      "  [1.04301657 1.20476887 1.26170486 1.81248602 1.18507218]\n",
      "  [1.53107343 1.42563256 1.36981829 1.88489807 1.93290809]]\n",
      "\n",
      " [[1.5596549  1.30406488 1.01522594 1.79652824 1.59883922]\n",
      "  [1.43557659 1.33651523 1.8394954  1.66879798 1.1025996 ]\n",
      "  [1.83972438 1.67726315 1.02767422 1.76621966 1.90353668]]]\n",
      "[[[ 25.  75.  25.  75.  25.]\n",
      "  [ 25.  25.  25.  75.  25.]\n",
      "  [ 75.  25.  25.  75. 100.]]\n",
      "\n",
      " [[ 75.  25.   0.  75.  75.]\n",
      "  [ 25.  25.  75.  75.  25.]\n",
      "  [ 75.  75.  25.  75.  75.]]]\n"
     ]
    }
   ],
   "source": [
    "# your code here\n",
    "print(d)\n",
    "print(f)"
   ]
  },
  {
   "cell_type": "markdown",
   "metadata": {},
   "source": [
    "#### 18. Bonus question: instead of using numbers (i.e. 0, 25, 50, 75, and 100), use string values  (\"A\", \"B\", \"C\", \"D\", and \"E\") to label the array elements. For the example above, the expected result is:\n",
    "\n",
    "```python\n",
    "[[[ 'D',  'D',  'D',  'B',  'D'],\n",
    "[ 'D',  'D',  'B',  'B',  'B'],\n",
    "[ 'D',  'B',  'D',  'D',  'D']],\n",
    "[[ 'B',  'B',  'B',  'B',  'E'],\n",
    "[ 'D',  'D',  'D',  'D',  'D'],\n",
    "[ 'B',  'D',   'A',  'D', 'D']]]\n",
    "```\n",
    "**Note**: you don't have to use Numpy in this question."
   ]
  },
  {
   "cell_type": "code",
   "execution_count": 222,
   "metadata": {},
   "outputs": [
    {
     "name": "stdout",
     "output_type": "stream",
     "text": [
      "[[['B' 'D' 'B' 'D' 'B']\n",
      "  ['B' 'B' 'B' 'D' 'B']\n",
      "  ['D' 'B' 'B' 'D' 'E']]\n",
      "\n",
      " [['D' 'B' 'A' 'D' 'D']\n",
      "  ['B' 'B' 'D' 'D' 'B']\n",
      "  ['D' 'D' 'B' 'D' 'D']]]\n"
     ]
    }
   ],
   "source": [
    "# your code here\n",
    "g = np.empty(f.shape, dtype=\"object\")\n",
    "\n",
    "\n",
    "for i in range(f.shape[0]):\n",
    "    for j in range(f.shape[1]):\n",
    "        for k in range(f.shape[2]):\n",
    "            element = f[i,j,k]\n",
    "            if element == 0:\n",
    "                g[i,j,k] = \"A\"\n",
    "            elif element == 25:\n",
    "                g[i,j,k] = \"B\"\n",
    "            elif element == 50:\n",
    "                g[i,j,k] = \"C\"\n",
    "            elif element == 75:\n",
    "                g[i,j,k] = \"D\"\n",
    "            else:\n",
    "                g[i,j,k] = \"E\"\n",
    "\n",
    "print(g)"
   ]
  },
  {
   "cell_type": "code",
   "execution_count": null,
   "metadata": {},
   "outputs": [],
   "source": []
  },
  {
   "cell_type": "code",
   "execution_count": null,
   "metadata": {},
   "outputs": [],
   "source": []
  }
 ],
 "metadata": {
  "kernelspec": {
   "display_name": "Python 3",
   "language": "python",
   "name": "python3"
  },
  "language_info": {
   "codemirror_mode": {
    "name": "ipython",
    "version": 3
   },
   "file_extension": ".py",
   "mimetype": "text/x-python",
   "name": "python",
   "nbconvert_exporter": "python",
   "pygments_lexer": "ipython3",
   "version": "3.8.3"
  }
 },
 "nbformat": 4,
 "nbformat_minor": 2
}
