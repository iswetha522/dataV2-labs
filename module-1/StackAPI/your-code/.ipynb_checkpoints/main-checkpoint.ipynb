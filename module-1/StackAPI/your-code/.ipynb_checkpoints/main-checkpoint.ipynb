{
 "cells": [
  {
   "cell_type": "markdown",
   "metadata": {},
   "source": [
    "# StackAPI\n",
    "\n",
    "#### Import the necessary libraries here:"
   ]
  },
  {
   "cell_type": "code",
   "execution_count": 1,
   "metadata": {},
   "outputs": [
    {
     "name": "stdout",
     "output_type": "stream",
     "text": [
      "Requirement already satisfied: stackapi in /opt/anaconda3/lib/python3.8/site-packages (0.1.12)\n",
      "Requirement already satisfied: requests in /opt/anaconda3/lib/python3.8/site-packages (from stackapi) (2.24.0)\n",
      "Requirement already satisfied: certifi>=2017.4.17 in /opt/anaconda3/lib/python3.8/site-packages (from requests->stackapi) (2020.6.20)\n",
      "Requirement already satisfied: urllib3!=1.25.0,!=1.25.1,<1.26,>=1.21.1 in /opt/anaconda3/lib/python3.8/site-packages (from requests->stackapi) (1.25.9)\n",
      "Requirement already satisfied: idna<3,>=2.5 in /opt/anaconda3/lib/python3.8/site-packages (from requests->stackapi) (2.10)\n",
      "Requirement already satisfied: chardet<4,>=3.0.2 in /opt/anaconda3/lib/python3.8/site-packages (from requests->stackapi) (3.0.4)\n"
     ]
    },
    {
     "data": {
      "text/plain": [
       "<Stack Overflow> v:<2.2> endpoint: sites  Last URL: https://api.stackexchange.com/2.2/sites/?pagesize=1000&page=1&filter=%21%2AL1%2AAY-85YllAr2%29"
      ]
     },
     "execution_count": 1,
     "metadata": {},
     "output_type": "execute_result"
    }
   ],
   "source": [
    "# your code here\n",
    "import sys\n",
    "!{sys.executable} -m pip install stackapi\n",
    "from stackapi import StackAPI\n",
    "SITE = StackAPI('stackoverflow')\n",
    "SITE"
   ]
  },
  {
   "cell_type": "markdown",
   "metadata": {},
   "source": [
    "#### Question 1: Find the questions and answers of last month."
   ]
  },
  {
   "cell_type": "code",
   "execution_count": 4,
   "metadata": {},
   "outputs": [
    {
     "data": {
      "text/html": [
       "<div>\n",
       "<style scoped>\n",
       "    .dataframe tbody tr th:only-of-type {\n",
       "        vertical-align: middle;\n",
       "    }\n",
       "\n",
       "    .dataframe tbody tr th {\n",
       "        vertical-align: top;\n",
       "    }\n",
       "\n",
       "    .dataframe thead th {\n",
       "        text-align: right;\n",
       "    }\n",
       "</style>\n",
       "<table border=\"1\" class=\"dataframe\">\n",
       "  <thead>\n",
       "    <tr style=\"text-align: right;\">\n",
       "      <th></th>\n",
       "      <th>backoff</th>\n",
       "      <th>has_more</th>\n",
       "      <th>page</th>\n",
       "      <th>quota_max</th>\n",
       "      <th>quota_remaining</th>\n",
       "      <th>total</th>\n",
       "      <th>items</th>\n",
       "    </tr>\n",
       "  </thead>\n",
       "  <tbody>\n",
       "    <tr>\n",
       "      <th>0</th>\n",
       "      <td>0</td>\n",
       "      <td>True</td>\n",
       "      <td>5</td>\n",
       "      <td>300</td>\n",
       "      <td>300</td>\n",
       "      <td>0</td>\n",
       "      <td>{'tags': ['c', 'algorithm'], 'owner': {'reputa...</td>\n",
       "    </tr>\n",
       "    <tr>\n",
       "      <th>1</th>\n",
       "      <td>0</td>\n",
       "      <td>True</td>\n",
       "      <td>5</td>\n",
       "      <td>300</td>\n",
       "      <td>300</td>\n",
       "      <td>0</td>\n",
       "      <td>{'tags': ['vba', 'outlook'], 'owner': {'reputa...</td>\n",
       "    </tr>\n",
       "    <tr>\n",
       "      <th>2</th>\n",
       "      <td>0</td>\n",
       "      <td>True</td>\n",
       "      <td>5</td>\n",
       "      <td>300</td>\n",
       "      <td>300</td>\n",
       "      <td>0</td>\n",
       "      <td>{'tags': ['c#', 'html', 'css', 'asp.net', 'dro...</td>\n",
       "    </tr>\n",
       "    <tr>\n",
       "      <th>3</th>\n",
       "      <td>0</td>\n",
       "      <td>True</td>\n",
       "      <td>5</td>\n",
       "      <td>300</td>\n",
       "      <td>300</td>\n",
       "      <td>0</td>\n",
       "      <td>{'tags': ['vue.js', 'vuejs2', 'vuex', 'nuxt.js...</td>\n",
       "    </tr>\n",
       "    <tr>\n",
       "      <th>4</th>\n",
       "      <td>0</td>\n",
       "      <td>True</td>\n",
       "      <td>5</td>\n",
       "      <td>300</td>\n",
       "      <td>300</td>\n",
       "      <td>0</td>\n",
       "      <td>{'tags': ['php', 'wordpress', 'woocommerce', '...</td>\n",
       "    </tr>\n",
       "  </tbody>\n",
       "</table>\n",
       "</div>"
      ],
      "text/plain": [
       "   backoff  has_more  page  quota_max  quota_remaining  total  \\\n",
       "0        0      True     5        300              300      0   \n",
       "1        0      True     5        300              300      0   \n",
       "2        0      True     5        300              300      0   \n",
       "3        0      True     5        300              300      0   \n",
       "4        0      True     5        300              300      0   \n",
       "\n",
       "                                               items  \n",
       "0  {'tags': ['c', 'algorithm'], 'owner': {'reputa...  \n",
       "1  {'tags': ['vba', 'outlook'], 'owner': {'reputa...  \n",
       "2  {'tags': ['c#', 'html', 'css', 'asp.net', 'dro...  \n",
       "3  {'tags': ['vue.js', 'vuejs2', 'vuex', 'nuxt.js...  \n",
       "4  {'tags': ['php', 'wordpress', 'woocommerce', '...  "
      ]
     },
     "execution_count": 4,
     "metadata": {},
     "output_type": "execute_result"
    }
   ],
   "source": [
    "# your code here\n",
    "# fromdate - 2020-09-01\n",
    "# todate - 2020-09-30\n",
    "\n",
    "import pandas as pd\n",
    "questions = SITE.fetch('questions', fromdate=1598959393, todate=1601464993)\n",
    "data = pd.DataFrame(questions)\n",
    "data.head()"
   ]
  },
  {
   "cell_type": "markdown",
   "metadata": {},
   "source": [
    "#### Question 2: Find the most voted question today with at least a score of 5 and tagged with 'python'. "
   ]
  },
  {
   "cell_type": "code",
   "execution_count": 27,
   "metadata": {},
   "outputs": [
    {
     "data": {
      "text/plain": [
       "{'backoff': 0,\n",
       " 'has_more': False,\n",
       " 'page': 1,\n",
       " 'quota_max': 300,\n",
       " 'quota_remaining': 300,\n",
       " 'total': 0,\n",
       " 'items': [{'tags': ['python', 'dictionary'],\n",
       "   'owner': {'reputation': 43,\n",
       "    'user_id': 14533111,\n",
       "    'user_type': 'registered',\n",
       "    'profile_image': 'https://lh3.googleusercontent.com/-nHFh1VkZG70/AAAAAAAAAAI/AAAAAAAAAAA/AMZuucm1sUGDi09y8o32UzyGK1dwZvcuIw/s96-c/photo.jpg?sz=128',\n",
       "    'display_name': 'Gokulnath Thangavel',\n",
       "    'link': 'https://stackoverflow.com/users/14533111/gokulnath-thangavel'},\n",
       "   'is_answered': True,\n",
       "   'view_count': 34,\n",
       "   'accepted_answer_id': 64566706,\n",
       "   'answer_count': 1,\n",
       "   'score': 4,\n",
       "   'last_activity_date': 1603862847,\n",
       "   'creation_date': 1603859700,\n",
       "   'last_edit_date': 1603862847,\n",
       "   'question_id': 64566502,\n",
       "   'content_license': 'CC BY-SA 4.0',\n",
       "   'link': 'https://stackoverflow.com/questions/64566502/how-to-read-nested-dictionary-from-csv-file-for-the-given-file-structure',\n",
       "   'title': 'How to read nested dictionary from CSV file for the given file structure?'}]}"
      ]
     },
     "execution_count": 27,
     "metadata": {},
     "output_type": "execute_result"
    }
   ],
   "source": [
    "# your code here\n",
    "# fromdate - 2020-10-28-01-23-13\n",
    "# todate - 2020-10-28-12-23-45\n",
    "# min=5 giving no results for the score, So I changed the minimum value to 4 to get the results.\n",
    "\n",
    "questions = SITE.fetch('questions',tagged = 'python', fromdate = 1603848193, todate = 1603884193, min=4, sort='votes')\n",
    "questions"
   ]
  },
  {
   "cell_type": "markdown",
   "metadata": {},
   "source": [
    "#### Question 3: Find the answers with id 6784 and 6473."
   ]
  },
  {
   "cell_type": "code",
   "execution_count": 21,
   "metadata": {},
   "outputs": [
    {
     "data": {
      "text/plain": [
       "{'backoff': 0,\n",
       " 'has_more': False,\n",
       " 'page': 1,\n",
       " 'quota_max': 300,\n",
       " 'quota_remaining': 300,\n",
       " 'total': 0,\n",
       " 'items': [{'owner': {'reputation': 29133,\n",
       "    'user_id': 758,\n",
       "    'user_type': 'registered',\n",
       "    'accept_rate': 77,\n",
       "    'profile_image': 'https://www.gravatar.com/avatar/0b4adc19284ed0751844d610555dc6b2?s=128&d=identicon&r=PG',\n",
       "    'display_name': 'Mark Renouf',\n",
       "    'link': 'https://stackoverflow.com/users/758/mark-renouf'},\n",
       "   'is_accepted': False,\n",
       "   'score': 0,\n",
       "   'last_activity_date': 1218291583,\n",
       "   'creation_date': 1218291583,\n",
       "   'answer_id': 6784,\n",
       "   'question_id': 6778,\n",
       "   'content_license': 'CC BY-SA 2.5'}]}"
      ]
     },
     "execution_count": 21,
     "metadata": {},
     "output_type": "execute_result"
    }
   ],
   "source": [
    "# your code here\n",
    "# answer_id = 6473 is not there in the answers fetch request so we are getting only the result for 6784 answer_id.\n",
    "answers_with_ids = SITE.fetch('answers/{ids}', ids = [6784, 6473])\n",
    "answers_with_ids"
   ]
  },
  {
   "cell_type": "raw",
   "metadata": {},
   "source": []
  }
 ],
 "metadata": {
  "kernelspec": {
   "display_name": "Python 3",
   "language": "python",
   "name": "python3"
  },
  "language_info": {
   "codemirror_mode": {
    "name": "ipython",
    "version": 3
   },
   "file_extension": ".py",
   "mimetype": "text/x-python",
   "name": "python",
   "nbconvert_exporter": "python",
   "pygments_lexer": "ipython3",
   "version": "3.8.3"
  }
 },
 "nbformat": 4,
 "nbformat_minor": 2
}
