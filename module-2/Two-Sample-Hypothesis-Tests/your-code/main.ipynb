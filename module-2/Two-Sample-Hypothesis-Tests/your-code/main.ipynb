{
 "cells": [
  {
   "cell_type": "markdown",
   "metadata": {},
   "source": [
    "# Before your start:\n",
    "- Read the README.md file\n",
    "- Comment as much as you can and use the resources (README.md file)\n",
    "- Happy learning!"
   ]
  },
  {
   "cell_type": "code",
   "execution_count": 1,
   "metadata": {},
   "outputs": [],
   "source": [
    "# import numpy and pandas\n",
    "import pandas as pd\n",
    "import numpy as np\n"
   ]
  },
  {
   "cell_type": "markdown",
   "metadata": {},
   "source": [
    "# Challenge 1 - Independent Sample T-tests\n",
    "\n",
    "In this challenge, we will be using the Pokemon dataset. Before applying statistical methods to this data, let's first examine the data.\n",
    "\n",
    "To load the data, run the code below."
   ]
  },
  {
   "cell_type": "code",
   "execution_count": 2,
   "metadata": {},
   "outputs": [],
   "source": [
    "# Run this code:\n",
    "\n",
    "pokemon = pd.read_csv('../pokemon.csv')"
   ]
  },
  {
   "cell_type": "markdown",
   "metadata": {},
   "source": [
    "Let's start off by looking at the `head` function in the cell below."
   ]
  },
  {
   "cell_type": "code",
   "execution_count": 3,
   "metadata": {},
   "outputs": [
    {
     "data": {
      "text/html": [
       "<div>\n",
       "<style scoped>\n",
       "    .dataframe tbody tr th:only-of-type {\n",
       "        vertical-align: middle;\n",
       "    }\n",
       "\n",
       "    .dataframe tbody tr th {\n",
       "        vertical-align: top;\n",
       "    }\n",
       "\n",
       "    .dataframe thead th {\n",
       "        text-align: right;\n",
       "    }\n",
       "</style>\n",
       "<table border=\"1\" class=\"dataframe\">\n",
       "  <thead>\n",
       "    <tr style=\"text-align: right;\">\n",
       "      <th></th>\n",
       "      <th>#</th>\n",
       "      <th>Name</th>\n",
       "      <th>Type 1</th>\n",
       "      <th>Type 2</th>\n",
       "      <th>Total</th>\n",
       "      <th>HP</th>\n",
       "      <th>Attack</th>\n",
       "      <th>Defense</th>\n",
       "      <th>Sp. Atk</th>\n",
       "      <th>Sp. Def</th>\n",
       "      <th>Speed</th>\n",
       "      <th>Generation</th>\n",
       "      <th>Legendary</th>\n",
       "    </tr>\n",
       "  </thead>\n",
       "  <tbody>\n",
       "    <tr>\n",
       "      <th>0</th>\n",
       "      <td>1</td>\n",
       "      <td>Bulbasaur</td>\n",
       "      <td>Grass</td>\n",
       "      <td>Poison</td>\n",
       "      <td>318</td>\n",
       "      <td>45</td>\n",
       "      <td>49</td>\n",
       "      <td>49</td>\n",
       "      <td>65</td>\n",
       "      <td>65</td>\n",
       "      <td>45</td>\n",
       "      <td>1</td>\n",
       "      <td>False</td>\n",
       "    </tr>\n",
       "    <tr>\n",
       "      <th>1</th>\n",
       "      <td>2</td>\n",
       "      <td>Ivysaur</td>\n",
       "      <td>Grass</td>\n",
       "      <td>Poison</td>\n",
       "      <td>405</td>\n",
       "      <td>60</td>\n",
       "      <td>62</td>\n",
       "      <td>63</td>\n",
       "      <td>80</td>\n",
       "      <td>80</td>\n",
       "      <td>60</td>\n",
       "      <td>1</td>\n",
       "      <td>False</td>\n",
       "    </tr>\n",
       "    <tr>\n",
       "      <th>2</th>\n",
       "      <td>3</td>\n",
       "      <td>Venusaur</td>\n",
       "      <td>Grass</td>\n",
       "      <td>Poison</td>\n",
       "      <td>525</td>\n",
       "      <td>80</td>\n",
       "      <td>82</td>\n",
       "      <td>83</td>\n",
       "      <td>100</td>\n",
       "      <td>100</td>\n",
       "      <td>80</td>\n",
       "      <td>1</td>\n",
       "      <td>False</td>\n",
       "    </tr>\n",
       "    <tr>\n",
       "      <th>3</th>\n",
       "      <td>3</td>\n",
       "      <td>VenusaurMega Venusaur</td>\n",
       "      <td>Grass</td>\n",
       "      <td>Poison</td>\n",
       "      <td>625</td>\n",
       "      <td>80</td>\n",
       "      <td>100</td>\n",
       "      <td>123</td>\n",
       "      <td>122</td>\n",
       "      <td>120</td>\n",
       "      <td>80</td>\n",
       "      <td>1</td>\n",
       "      <td>False</td>\n",
       "    </tr>\n",
       "    <tr>\n",
       "      <th>4</th>\n",
       "      <td>4</td>\n",
       "      <td>Charmander</td>\n",
       "      <td>Fire</td>\n",
       "      <td>NaN</td>\n",
       "      <td>309</td>\n",
       "      <td>39</td>\n",
       "      <td>52</td>\n",
       "      <td>43</td>\n",
       "      <td>60</td>\n",
       "      <td>50</td>\n",
       "      <td>65</td>\n",
       "      <td>1</td>\n",
       "      <td>False</td>\n",
       "    </tr>\n",
       "  </tbody>\n",
       "</table>\n",
       "</div>"
      ],
      "text/plain": [
       "   #                   Name Type 1  Type 2  Total  HP  Attack  Defense  \\\n",
       "0  1              Bulbasaur  Grass  Poison    318  45      49       49   \n",
       "1  2                Ivysaur  Grass  Poison    405  60      62       63   \n",
       "2  3               Venusaur  Grass  Poison    525  80      82       83   \n",
       "3  3  VenusaurMega Venusaur  Grass  Poison    625  80     100      123   \n",
       "4  4             Charmander   Fire     NaN    309  39      52       43   \n",
       "\n",
       "   Sp. Atk  Sp. Def  Speed  Generation  Legendary  \n",
       "0       65       65     45           1      False  \n",
       "1       80       80     60           1      False  \n",
       "2      100      100     80           1      False  \n",
       "3      122      120     80           1      False  \n",
       "4       60       50     65           1      False  "
      ]
     },
     "execution_count": 3,
     "metadata": {},
     "output_type": "execute_result"
    }
   ],
   "source": [
    "# Your code here:\n",
    "\n",
    "pokemon.head()"
   ]
  },
  {
   "cell_type": "code",
   "execution_count": 4,
   "metadata": {},
   "outputs": [
    {
     "data": {
      "text/plain": [
       "(800, 13)"
      ]
     },
     "execution_count": 4,
     "metadata": {},
     "output_type": "execute_result"
    }
   ],
   "source": [
    "pokemon.shape"
   ]
  },
  {
   "cell_type": "markdown",
   "metadata": {},
   "source": [
    "The first thing we would like to do is compare the legendary Pokemon to the regular Pokemon. To do this, we should examine the data further. What is the count of legendary vs. non legendary Pokemons?"
   ]
  },
  {
   "cell_type": "code",
   "execution_count": 5,
   "metadata": {},
   "outputs": [
    {
     "name": "stdout",
     "output_type": "stream",
     "text": [
      "Total number of Lengenary Pokemon are: 65\n",
      "Total number of Non Lengenary Pokemon are: 735\n"
     ]
    }
   ],
   "source": [
    "# Your code here:\n",
    "legendary_pokemon = pokemon.loc[pokemon['Legendary'] == True]\n",
    "non_legendary_pokemon = pokemon.loc[pokemon['Legendary'] == False]\n",
    "print(f\"Total number of Lengenary Pokemon are: {len(legendary_pokemon)}\")\n",
    "print(f\"Total number of Non Lengenary Pokemon are: {len(non_legendary_pokemon)}\")"
   ]
  },
  {
   "cell_type": "markdown",
   "metadata": {},
   "source": [
    "Compute the mean and standard deviation of the total points for both legendary and non-legendary Pokemon."
   ]
  },
  {
   "cell_type": "code",
   "execution_count": 6,
   "metadata": {},
   "outputs": [
    {
     "name": "stdout",
     "output_type": "stream",
     "text": [
      "Mean value for Legendary: 637.3846153846154\n",
      "Standard deviation value for Legendary: 60.93738905315346\n",
      "\n",
      "\n",
      "Mean value for Non Legendary: 417.21360544217686\n",
      "Standard deviation value for Non Legendary: 106.76041745713022\n"
     ]
    }
   ],
   "source": [
    "# Your code here:\n",
    "mean_of_legendary = legendary_pokemon['Total'].mean()\n",
    "print(f\"Mean value for Legendary: {mean_of_legendary}\")\n",
    "std_dev_of_legendary = legendary_pokemon['Total'].std()\n",
    "print(f\"Standard deviation value for Legendary: {std_dev_of_legendary}\")\n",
    "print('\\n')\n",
    "mean_of_non_legendary = non_legendary_pokemon['Total'].mean()\n",
    "print(f\"Mean value for Non Legendary: {mean_of_non_legendary}\")\n",
    "std_dev_of_non_legendary = non_legendary_pokemon['Total'].std()\n",
    "print(f\"Standard deviation value for Non Legendary: {std_dev_of_non_legendary}\")"
   ]
  },
  {
   "cell_type": "markdown",
   "metadata": {},
   "source": [
    "The computation of the mean might give us a clue regarding how the statistical test may turn out; However, it certainly does not prove whether there is a significant difference between the two groups.\n",
    "\n",
    "In the cell below, use the `ttest_ind` function in `scipy.stats` to compare the the total points for legendary and non-legendary Pokemon. Since we do not have any information about the population, assume the variances are not equal."
   ]
  },
  {
   "cell_type": "code",
   "execution_count": 7,
   "metadata": {},
   "outputs": [
    {
     "data": {
      "text/plain": [
       "Ttest_indResult(statistic=25.8335743895517, pvalue=9.357954335957446e-47)"
      ]
     },
     "execution_count": 7,
     "metadata": {},
     "output_type": "execute_result"
    }
   ],
   "source": [
    "# Your code here:\n",
    "from scipy.stats import ttest_ind\n",
    "ttest_ind(legendary_pokemon.Total,non_legendary_pokemon.Total, equal_var=False)"
   ]
  },
  {
   "cell_type": "markdown",
   "metadata": {},
   "source": [
    "What do you conclude from this test? Write your conclusions below."
   ]
  },
  {
   "cell_type": "code",
   "execution_count": 8,
   "metadata": {},
   "outputs": [
    {
     "data": {
      "text/plain": [
       "'\\nH0 - There is no difference in the means of the Total in both legendary and non- legendary pokemon.\\nH1 - There would be a difference in the means of the Total in both legendary and non- legendary pokemon.\\n\\nFrom the test we conclude that there is a difference in both the means because the p value is nearly 0 which is less \\nthan 0.05.\\nWe can reject the null hypothesis\\n'"
      ]
     },
     "execution_count": 8,
     "metadata": {},
     "output_type": "execute_result"
    }
   ],
   "source": [
    "# Your conclusions here:\n",
    "\"\"\"\n",
    "H0 - There is no difference in the means of the Total in both legendary and non- legendary pokemon.\n",
    "H1 - There would be a difference in the means of the Total in both legendary and non- legendary pokemon.\n",
    "\n",
    "From the test we conclude that there is a difference in both the means because the p value is nearly 0 which is less \n",
    "than 0.05.\n",
    "We can reject the null hypothesis\n",
    "\"\"\"\n"
   ]
  },
  {
   "cell_type": "markdown",
   "metadata": {},
   "source": [
    "How about we try to compare the different types of pokemon? In the cell below, list the types of Pokemon from column `Type 1` and the count of each type."
   ]
  },
  {
   "cell_type": "code",
   "execution_count": 9,
   "metadata": {},
   "outputs": [
    {
     "data": {
      "text/plain": [
       "{'Fairy': 17,\n",
       " 'Fighting': 27,\n",
       " 'Fire': 52,\n",
       " 'Ice': 24,\n",
       " 'Psychic': 57,\n",
       " 'Normal': 98,\n",
       " 'Water': 112,\n",
       " 'Ground': 32,\n",
       " 'Electric': 44,\n",
       " 'Grass': 70,\n",
       " 'Ghost': 32,\n",
       " 'Poison': 28,\n",
       " 'Dragon': 32,\n",
       " 'Dark': 31,\n",
       " 'Flying': 4,\n",
       " 'Bug': 69,\n",
       " 'Rock': 44,\n",
       " 'Steel': 27}"
      ]
     },
     "execution_count": 9,
     "metadata": {},
     "output_type": "execute_result"
    }
   ],
   "source": [
    "# Your code here:\n",
    "type_1_pokemon = set(pokemon['Type 1'])\n",
    "lst = list(type_1_pokemon)\n",
    "lst\n",
    "\n",
    "occurences = {}\n",
    "for element in lst:\n",
    "    occurences[element] = list(pokemon['Type 1']).count(element)\n",
    "    \n",
    "occurences"
   ]
  },
  {
   "cell_type": "markdown",
   "metadata": {},
   "source": [
    "Since water is the largest group of Pokemon, compare the mean and standard deviation of water Pokemon to all other Pokemon."
   ]
  },
  {
   "cell_type": "code",
   "execution_count": 10,
   "metadata": {},
   "outputs": [
    {
     "name": "stdout",
     "output_type": "stream",
     "text": [
      "Mean value for water_pokemon: #             303.089286\n",
      "Total         430.455357\n",
      "HP             72.062500\n",
      "Attack         74.151786\n",
      "Defense        72.946429\n",
      "Sp. Atk        74.812500\n",
      "Sp. Def        70.517857\n",
      "Speed          65.964286\n",
      "Generation      2.857143\n",
      "Legendary       0.035714\n",
      "dtype: float64\n",
      "Standard deviation value for water_pokemon: #             188.440807\n",
      "Total         113.188266\n",
      "HP             27.487026\n",
      "Attack         28.377192\n",
      "Defense        27.773809\n",
      "Sp. Atk        29.030128\n",
      "Sp. Def        28.460493\n",
      "Speed          23.019353\n",
      "Generation      1.558800\n",
      "Legendary       0.186411\n",
      "dtype: float64\n",
      "Mean value for remaining_pokemon: #             372.536337\n",
      "Total         435.859012\n",
      "HP             68.802326\n",
      "Attack         79.790698\n",
      "Defense        73.988372\n",
      "Sp. Atk        72.495640\n",
      "Sp. Def        72.127907\n",
      "Speed          68.654070\n",
      "Generation      3.399709\n",
      "Legendary       0.088663\n",
      "dtype: float64\n",
      "Standard deviation value for remaining_pokemon: #             209.928799\n",
      "Total         121.091682\n",
      "HP             25.194299\n",
      "Attack         33.025152\n",
      "Defense        31.719933\n",
      "Sp. Atk        33.292537\n",
      "Sp. Def        27.739292\n",
      "Speed          29.925907\n",
      "Generation      1.666119\n",
      "Legendary       0.284463\n",
      "dtype: float64\n"
     ]
    }
   ],
   "source": [
    "# Your code here:\n",
    "\n",
    "water_pokemon = pokemon.loc[pokemon['Type 1'] == 'Water']\n",
    "water_pokemon # 112 rows\n",
    "\n",
    "mean_of_water_pokemon = water_pokemon.mean()\n",
    "print(f\"Mean value for water_pokemon: {mean_of_water_pokemon}\")\n",
    "std_dev_of_water_pokemon = water_pokemon.std()\n",
    "print(f\"Standard deviation value for water_pokemon: {std_dev_of_water_pokemon}\")\n",
    "\n",
    "remaining_pokemon = pokemon.loc[pokemon['Type 1'] != 'Water']\n",
    "remaining_pokemon # 688 rows\n",
    "\n",
    "mean_of_remaining_pokemon = remaining_pokemon.mean()\n",
    "print(f\"Mean value for remaining_pokemon: {mean_of_remaining_pokemon}\")\n",
    "std_dev_of_remaining_pokemon = remaining_pokemon.std()\n",
    "print(f\"Standard deviation value for remaining_pokemon: {std_dev_of_remaining_pokemon}\")\n"
   ]
  },
  {
   "cell_type": "markdown",
   "metadata": {},
   "source": [
    "Perform a hypothesis test comparing the mean of total points for water Pokemon to all non-water Pokemon. Assume the variances are equal. "
   ]
  },
  {
   "cell_type": "code",
   "execution_count": 11,
   "metadata": {},
   "outputs": [
    {
     "data": {
      "text/plain": [
       "Ttest_indResult(statistic=-0.4418547448849676, pvalue=0.6587140317488793)"
      ]
     },
     "execution_count": 11,
     "metadata": {},
     "output_type": "execute_result"
    }
   ],
   "source": [
    "# Your code here:\n",
    "\n",
    "from scipy.stats import ttest_ind\n",
    "ttest_ind(water_pokemon.Total,remaining_pokemon.Total, equal_var=True)"
   ]
  },
  {
   "cell_type": "markdown",
   "metadata": {},
   "source": [
    "Write your conclusion below."
   ]
  },
  {
   "cell_type": "code",
   "execution_count": 12,
   "metadata": {},
   "outputs": [
    {
     "data": {
      "text/plain": [
       "'\\nH0 - There is no difference in the Mean of water pokemon total points and mean of remaining pokemon total points \\nH1 - There is a difference in the means of two total points\\n\\nThe null hypothesis is not rejected because there is actually no difference between them from the p value we can see \\nthat 0.65 > 0.05 so accept it.\\n\\nFrom the analysis I found out :\\nmean value for water pokemon total is 430.455357\\nmean value for remaining pokemon total is 435.859012\\n\\n'"
      ]
     },
     "execution_count": 12,
     "metadata": {},
     "output_type": "execute_result"
    }
   ],
   "source": [
    "# Your conclusions here:\n",
    "\"\"\"\n",
    "H0 - There is no difference in the Mean of water pokemon total points and mean of remaining pokemon total points \n",
    "H1 - There is a difference in the means of two total points\n",
    "\n",
    "The null hypothesis is not rejected because there is actually no difference between them from the p value we can see \n",
    "that 0.65 > 0.05 so accept it.\n",
    "\n",
    "From the analysis I found out :\n",
    "mean value for water pokemon total is 430.455357\n",
    "mean value for remaining pokemon total is 435.859012\n",
    "\n",
    "\"\"\""
   ]
  },
  {
   "cell_type": "markdown",
   "metadata": {},
   "source": [
    "# Challenge 2 - Matched Pairs Test\n",
    "\n",
    "In this challenge we will compare dependent samples of data describing our Pokemon. Our goal is to see whether there is a significant difference between each Pokemon's defense and attack scores. Our hypothesis is that the defense and attack scores are equal. In the cell below, import the `ttest_rel` function from `scipy.stats` and compare the two columns to see if there is a statistically significant difference between them."
   ]
  },
  {
   "cell_type": "code",
   "execution_count": 13,
   "metadata": {},
   "outputs": [
    {
     "data": {
      "text/plain": [
       "Ttest_relResult(statistic=-4.325566393330478, pvalue=1.7140303479358558e-05)"
      ]
     },
     "execution_count": 13,
     "metadata": {},
     "output_type": "execute_result"
    }
   ],
   "source": [
    "# Your code here:\n",
    "from scipy.stats import ttest_rel\n",
    "ttest_rel(pokemon.Defense, pokemon.Attack)"
   ]
  },
  {
   "cell_type": "markdown",
   "metadata": {},
   "source": [
    "Describe the results of the test in the cell below."
   ]
  },
  {
   "cell_type": "code",
   "execution_count": 14,
   "metadata": {},
   "outputs": [
    {
     "data": {
      "text/plain": [
       "'\\nH0 - The null hypothesis is that both defense and attack scores are equal\\nH1 - The alternative hypothesis is that both the scores are unequal.\\n\\nThe null hypothesis is rejected, because the p values(1.7140303479358558e-05) is less than 0.05 and the statistic is also negative which tells\\nus there is a difference between them.\\n'"
      ]
     },
     "execution_count": 14,
     "metadata": {},
     "output_type": "execute_result"
    }
   ],
   "source": [
    "# Your conclusions here:\n",
    "\"\"\"\n",
    "H0 - The null hypothesis is that both defense and attack scores are equal\n",
    "H1 - The alternative hypothesis is that both the scores are unequal.\n",
    "\n",
    "The null hypothesis is rejected, because the p values(1.7140303479358558e-05) is less than 0.05 and the statistic is also negative which tells\n",
    "us there is a difference between them.\n",
    "\"\"\"\n"
   ]
  },
  {
   "cell_type": "markdown",
   "metadata": {},
   "source": [
    "We are also curious about whether therer is a significant difference between the mean of special defense and the mean of special attack. Perform the hypothesis test in the cell below. "
   ]
  },
  {
   "cell_type": "code",
   "execution_count": 15,
   "metadata": {},
   "outputs": [
    {
     "name": "stdout",
     "output_type": "stream",
     "text": [
      "Mean value for special_defence: 71.9025\n",
      "Mean value for special_attack: 72.82\n"
     ]
    }
   ],
   "source": [
    "# For reference I have used it to compare them\n",
    "mean_of_special_defence = pokemon['Sp. Def'].mean()\n",
    "print(f\"Mean value for special_defence: {mean_of_special_defence}\")\n",
    "\n",
    "mean_of_special_attack = pokemon['Sp. Atk'].mean()\n",
    "print(f\"Mean value for special_attack: {mean_of_special_attack}\")"
   ]
  },
  {
   "cell_type": "code",
   "execution_count": 16,
   "metadata": {},
   "outputs": [
    {
     "data": {
      "text/plain": [
       "Ttest_relResult(statistic=-0.853986188453353, pvalue=0.3933685997548122)"
      ]
     },
     "execution_count": 16,
     "metadata": {},
     "output_type": "execute_result"
    }
   ],
   "source": [
    "# Your code here:\n",
    "ttest_rel(pokemon['Sp. Def'],pokemon['Sp. Atk'])"
   ]
  },
  {
   "cell_type": "markdown",
   "metadata": {},
   "source": [
    "Describe the results of the test in the cell below."
   ]
  },
  {
   "cell_type": "code",
   "execution_count": 17,
   "metadata": {},
   "outputs": [
    {
     "data": {
      "text/plain": [
       "'\\nH0 -  There is no difference at the mean of differences\\nH1 -  There is a difference at the mean of differences\\n\\nBut, in this case the null hypothesis is accepted because the p values(0.39) is greater than 0.05, and from the analysis\\nI can see very small difference between them.\\n'"
      ]
     },
     "execution_count": 17,
     "metadata": {},
     "output_type": "execute_result"
    }
   ],
   "source": [
    "# Your conclusions here:\n",
    "\"\"\"\n",
    "H0 -  There is no difference at the mean of differences\n",
    "H1 -  There is a difference at the mean of differences\n",
    "\n",
    "But, in this case the null hypothesis is accepted because the p values(0.39) is greater than 0.05, and from the analysis\n",
    "I can see very small difference between them.\n",
    "\"\"\""
   ]
  },
  {
   "cell_type": "markdown",
   "metadata": {},
   "source": [
    "As you may recall, a two sample matched pairs test can also be expressed as a one sample test of the difference between the two dependent columns.\n",
    "\n",
    "Import the `ttest_1samp` function and perform a one sample t-test of the difference between defense and attack. Test the hypothesis that the difference between the means is zero. Confirm that the results of the test are the same."
   ]
  },
  {
   "cell_type": "code",
   "execution_count": 18,
   "metadata": {},
   "outputs": [
    {
     "data": {
      "text/plain": [
       "'The results for both the cases using ttest_rel and ttest_lsamp gives the same result'"
      ]
     },
     "execution_count": 18,
     "metadata": {},
     "output_type": "execute_result"
    }
   ],
   "source": [
    "# Your code here:\n",
    "from scipy.stats import ttest_1samp\n",
    "ttest_1samp(pokemon['Sp. Def'] - pokemon['Sp. Atk'], 0)\n",
    "   \n",
    "\"\"\"The results for both the cases using ttest_rel and ttest_lsamp gives the same result\"\"\""
   ]
  },
  {
   "cell_type": "markdown",
   "metadata": {},
   "source": [
    "# Bonus Challenge - The Chi-Square Test\n",
    "\n",
    "The Chi-Square test is used to determine whether there is a statistically significant difference in frequencies. In other words, we are testing whether there is a relationship between categorical variables or rather when the variables are independent. This test is an alternative to Fisher's exact test and is used in scenarios where sample sizes are larger. However, with a large enough sample size, both tests produce similar results. Read more about the Chi Squared test [here](https://en.wikipedia.org/wiki/Chi-squared_test).\n",
    "\n",
    "In the cell below, create a contingency table using `pd.crosstab` comparing whether a Pokemon is legenadary or not and whether the Type 1 of a Pokemon is water or not."
   ]
  },
  {
   "cell_type": "code",
   "execution_count": 28,
   "metadata": {},
   "outputs": [
    {
     "data": {
      "text/html": [
       "<div>\n",
       "<style scoped>\n",
       "    .dataframe tbody tr th:only-of-type {\n",
       "        vertical-align: middle;\n",
       "    }\n",
       "\n",
       "    .dataframe tbody tr th {\n",
       "        vertical-align: top;\n",
       "    }\n",
       "\n",
       "    .dataframe thead th {\n",
       "        text-align: right;\n",
       "    }\n",
       "</style>\n",
       "<table border=\"1\" class=\"dataframe\">\n",
       "  <thead>\n",
       "    <tr style=\"text-align: right;\">\n",
       "      <th>col_0</th>\n",
       "      <th>remaining_pokemon.Type 1</th>\n",
       "      <th>water_pokemon.Type 1</th>\n",
       "    </tr>\n",
       "    <tr>\n",
       "      <th>row_0</th>\n",
       "      <th></th>\n",
       "      <th></th>\n",
       "    </tr>\n",
       "  </thead>\n",
       "  <tbody>\n",
       "    <tr>\n",
       "      <th>legendary_pokemon.Legendary</th>\n",
       "      <td>0</td>\n",
       "      <td>1</td>\n",
       "    </tr>\n",
       "    <tr>\n",
       "      <th>non_legendary_pokemon.Legendary</th>\n",
       "      <td>1</td>\n",
       "      <td>0</td>\n",
       "    </tr>\n",
       "  </tbody>\n",
       "</table>\n",
       "</div>"
      ],
      "text/plain": [
       "col_0                            remaining_pokemon.Type 1  \\\n",
       "row_0                                                       \n",
       "legendary_pokemon.Legendary                             0   \n",
       "non_legendary_pokemon.Legendary                         1   \n",
       "\n",
       "col_0                            water_pokemon.Type 1  \n",
       "row_0                                                  \n",
       "legendary_pokemon.Legendary                         1  \n",
       "non_legendary_pokemon.Legendary                     0  "
      ]
     },
     "execution_count": 28,
     "metadata": {},
     "output_type": "execute_result"
    }
   ],
   "source": [
    "# Your code here:\n",
    "legendary_or_not = pd.Categorical(['legendary_pokemon.Legendary', 'non_legendary_pokemon.Legendary'])\n",
    "water_or_not = pd.Categorical(['water_pokemon.Type 1', 'remaining_pokemon.Type 1'])\n",
    "\n",
    "contingency_table = pd.crosstab(legendary_or_not, water_or_not)\n",
    "contingency_table"
   ]
  },
  {
   "cell_type": "markdown",
   "metadata": {},
   "source": [
    "Perform a chi-squared test using the `chi2_contingency` function in `scipy.stats`. You can read the documentation of the function [here](https://docs.scipy.org/doc/scipy-0.15.1/reference/generated/scipy.stats.chi2_contingency.html)."
   ]
  },
  {
   "cell_type": "code",
   "execution_count": 25,
   "metadata": {},
   "outputs": [
    {
     "name": "stdout",
     "output_type": "stream",
     "text": [
      "2.0\n",
      "0.15729920705028105\n",
      "1\n",
      "[[0.5 0.5]\n",
      " [0.5 0.5]]\n"
     ]
    }
   ],
   "source": [
    "# Your code here:\n",
    "import scipy\n",
    "chi2, p, dof, ex = scipy.stats.chi2_contingency(contingency_table, correction=False)\n",
    "print(chi2)\n",
    "print(p)\n",
    "print(dof)\n",
    "print(ex)"
   ]
  },
  {
   "cell_type": "markdown",
   "metadata": {},
   "source": [
    "Based on a 95% confidence, should we reject the null hypothesis?"
   ]
  },
  {
   "cell_type": "code",
   "execution_count": 21,
   "metadata": {},
   "outputs": [],
   "source": [
    "# Your answer here:\n",
    "\"\"\"Based on the 95% confidence we don't reject the null hypothesis as the p value is greater than 0.05\"\"\"\n"
   ]
  },
  {
   "cell_type": "code",
   "execution_count": null,
   "metadata": {},
   "outputs": [],
   "source": []
  }
 ],
 "metadata": {
  "kernelspec": {
   "display_name": "Python 3",
   "language": "python",
   "name": "python3"
  },
  "language_info": {
   "codemirror_mode": {
    "name": "ipython",
    "version": 3
   },
   "file_extension": ".py",
   "mimetype": "text/x-python",
   "name": "python",
   "nbconvert_exporter": "python",
   "pygments_lexer": "ipython3",
   "version": "3.8.3"
  }
 },
 "nbformat": 4,
 "nbformat_minor": 2
}
