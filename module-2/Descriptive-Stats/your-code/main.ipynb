{
 "cells": [
  {
   "cell_type": "markdown",
   "metadata": {},
   "source": [
    "# Understanding Descriptive Statistics\n",
    "\n",
    "Import the necessary libraries here:"
   ]
  },
  {
   "cell_type": "code",
   "execution_count": 149,
   "metadata": {},
   "outputs": [],
   "source": [
    "# Libraries\n",
    "import pandas as pd\n",
    "import numpy as np\n",
    "import random"
   ]
  },
  {
   "cell_type": "markdown",
   "metadata": {},
   "source": [
    "## Challenge 1\n",
    "#### 1.- Define a function that simulates rolling a dice 10 times. Save the information in a dataframe.\n",
    "**Hint**: you can use the *choices* function from module *random* to help you with the simulation."
   ]
  },
  {
   "cell_type": "code",
   "execution_count": 150,
   "metadata": {},
   "outputs": [
    {
     "data": {
      "text/html": [
       "<div>\n",
       "<style scoped>\n",
       "    .dataframe tbody tr th:only-of-type {\n",
       "        vertical-align: middle;\n",
       "    }\n",
       "\n",
       "    .dataframe tbody tr th {\n",
       "        vertical-align: top;\n",
       "    }\n",
       "\n",
       "    .dataframe thead th {\n",
       "        text-align: right;\n",
       "    }\n",
       "</style>\n",
       "<table border=\"1\" class=\"dataframe\">\n",
       "  <thead>\n",
       "    <tr style=\"text-align: right;\">\n",
       "      <th></th>\n",
       "      <th>Dice Rolled</th>\n",
       "    </tr>\n",
       "  </thead>\n",
       "  <tbody>\n",
       "    <tr>\n",
       "      <th>0</th>\n",
       "      <td>2</td>\n",
       "    </tr>\n",
       "    <tr>\n",
       "      <th>1</th>\n",
       "      <td>3</td>\n",
       "    </tr>\n",
       "    <tr>\n",
       "      <th>2</th>\n",
       "      <td>4</td>\n",
       "    </tr>\n",
       "    <tr>\n",
       "      <th>3</th>\n",
       "      <td>6</td>\n",
       "    </tr>\n",
       "    <tr>\n",
       "      <th>4</th>\n",
       "      <td>6</td>\n",
       "    </tr>\n",
       "    <tr>\n",
       "      <th>5</th>\n",
       "      <td>5</td>\n",
       "    </tr>\n",
       "    <tr>\n",
       "      <th>6</th>\n",
       "      <td>2</td>\n",
       "    </tr>\n",
       "    <tr>\n",
       "      <th>7</th>\n",
       "      <td>5</td>\n",
       "    </tr>\n",
       "    <tr>\n",
       "      <th>8</th>\n",
       "      <td>6</td>\n",
       "    </tr>\n",
       "    <tr>\n",
       "      <th>9</th>\n",
       "      <td>6</td>\n",
       "    </tr>\n",
       "  </tbody>\n",
       "</table>\n",
       "</div>"
      ],
      "text/plain": [
       "   Dice Rolled\n",
       "0            2\n",
       "1            3\n",
       "2            4\n",
       "3            6\n",
       "4            6\n",
       "5            5\n",
       "6            2\n",
       "7            5\n",
       "8            6\n",
       "9            6"
      ]
     },
     "execution_count": 150,
     "metadata": {},
     "output_type": "execute_result"
    }
   ],
   "source": [
    "# your code here\n",
    "def rolling_dice(number):\n",
    "    dice = [1, 2, 3, 4, 5, 6]\n",
    "    sample = random.choices(dice, k=number)\n",
    "    return sample\n",
    "\n",
    "# print(rolling_dice(10))\n",
    "dice_rolled = rolling_dice(10)\n",
    "colname = ['Dice Rolled']\n",
    "df = pd.DataFrame(dice_rolled, columns = colname)\n",
    "df"
   ]
  },
  {
   "cell_type": "markdown",
   "metadata": {},
   "source": [
    "#### 2.- Plot the results sorted by value."
   ]
  },
  {
   "cell_type": "code",
   "execution_count": 151,
   "metadata": {},
   "outputs": [
    {
     "data": {
      "text/plain": [
       "array([[<matplotlib.axes._subplots.AxesSubplot object at 0x7fcde2ec6580>]],\n",
       "      dtype=object)"
      ]
     },
     "execution_count": 151,
     "metadata": {},
     "output_type": "execute_result"
    },
    {
     "data": {
      "image/png": "[encoded data removed]",
      "text/plain": [
       "<Figure size 432x288 with 1 Axes>"
      ]
     },
     "metadata": {
      "needs_background": "light"
     },
     "output_type": "display_data"
    }
   ],
   "source": [
    "# your code here\n",
    "import matplotlib\n",
    "\n",
    "%matplotlib inline\n",
    "\n",
    "sorted_values = df.sort_values(by = colname, ascending = False)\n",
    "sorted_values.hist()\n",
    "# sorted_values.describe()"
   ]
  },
  {
   "cell_type": "markdown",
   "metadata": {},
   "source": [
    "#### 3.- Calculate the frequency distribution and plot it. What is the relation between this plot and the plot above? Describe it with words."
   ]
  },
  {
   "cell_type": "code",
   "execution_count": 220,
   "metadata": {},
   "outputs": [
    {
     "name": "stdout",
     "output_type": "stream",
     "text": [
      "{2: 2, 3: 1, 4: 1, 5: 2, 6: 4}\n"
     ]
    },
    {
     "data": {
      "image/png": "[encoded data removed]",
      "text/plain": [
       "<Figure size 432x288 with 1 Axes>"
      ]
     },
     "metadata": {
      "needs_background": "light"
     },
     "output_type": "display_data"
    }
   ],
   "source": [
    "# your code here\n",
    "import matplotlib.pyplot as plt\n",
    "def occurences(lst):\n",
    "    occurences = {}\n",
    "    for element in lst:\n",
    "        occurences[element] = lst.count(element)\n",
    "    return occurences\n",
    "\n",
    "print(occurences(dice_rolled))\n",
    "occur = occurences(dice_rolled)\n",
    "plt.bar(occur.keys(), occur.values())\n",
    "plt.show()\n",
    "    "
   ]
  },
  {
   "cell_type": "code",
   "execution_count": 157,
   "metadata": {},
   "outputs": [
    {
     "data": {
      "text/plain": [
       "'\\nyour comments here\\nBoth The histograms looks the same, They test for number of occurences of each key in the dictionary.\\nIn both the plots:\\n6 occured 4 times,\\n5 occured twice\\n4 occured once\\n3 occured once\\n2 occured twice\\n'"
      ]
     },
     "execution_count": 157,
     "metadata": {},
     "output_type": "execute_result"
    }
   ],
   "source": [
    "\"\"\"\n",
    "your comments here\n",
    "Both The histograms looks the same, They test for number of occurences of each key in the dictionary.\n",
    "In both the plots:\n",
    "6 occured 4 times,\n",
    "5 occured twice\n",
    "4 occured once\n",
    "3 occured once\n",
    "2 occured twice\n",
    "\"\"\""
   ]
  },
  {
   "cell_type": "markdown",
   "metadata": {},
   "source": [
    "## Challenge 2\n",
    "Now, using the dice results obtained in *challenge 1*, your are going to define some functions that will help you calculate the mean of your data in two different ways, the median and the four quartiles. \n",
    "\n",
    "#### 1.- Define a function that computes the mean by summing all the observations and dividing by the total number of observations. You are not allowed to use any methods or functions that directly calculate the mean value. "
   ]
  },
  {
   "cell_type": "code",
   "execution_count": 260,
   "metadata": {},
   "outputs": [
    {
     "data": {
      "text/plain": [
       "4.5"
      ]
     },
     "execution_count": 260,
     "metadata": {},
     "output_type": "execute_result"
    }
   ],
   "source": [
    "# your code here\n",
    "def mean_func(lst):\n",
    "#     print(f\"The List is {lst}\")\n",
    "    total_elements = len(lst)\n",
    "#     print(f\"Total elements in the list are: {total_elements}\")\n",
    "    sum_of_elements = 0\n",
    "    for element in lst:\n",
    "#         print(element)\n",
    "        sum_of_elements += element\n",
    "#     print(f\"Sum of elements are: {sum_of_elements}\")\n",
    "    mean = (sum_of_elements / total_elements)\n",
    "    return mean\n",
    "mean_func(dice_rolled)"
   ]
  },
  {
   "cell_type": "markdown",
   "metadata": {},
   "source": [
    "#### 2.- First, calculate the frequency distribution. Then, calculate the mean using the values of the frequency distribution you've just computed. You are not allowed to use any methods or functions that directly calculate the mean value. "
   ]
  },
  {
   "cell_type": "code",
   "execution_count": 261,
   "metadata": {},
   "outputs": [
    {
     "data": {
      "text/plain": [
       "4.0"
      ]
     },
     "execution_count": 261,
     "metadata": {},
     "output_type": "execute_result"
    }
   ],
   "source": [
    "# your code here\n",
    "mean_func(occurences(dice_rolled))"
   ]
  },
  {
   "cell_type": "markdown",
   "metadata": {},
   "source": [
    "#### 3.- Define a function to calculate the median. You are not allowed to use any methods or functions that directly calculate the median value. \n",
    "**Hint**: you might need to define two computation cases depending on the number of observations used to calculate the median."
   ]
  },
  {
   "cell_type": "code",
   "execution_count": 262,
   "metadata": {},
   "outputs": [
    {
     "data": {
      "text/plain": [
       "5"
      ]
     },
     "execution_count": 262,
     "metadata": {},
     "output_type": "execute_result"
    }
   ],
   "source": [
    "# your code here\n",
    "import math\n",
    "def median_func(lst):\n",
    "    list_length = len(lst)\n",
    "    if list_length % 2 != 0:\n",
    "        element = math.floor(list_length / 2)\n",
    "        median = lst[element]\n",
    "    else:\n",
    "        element = math.floor(((list_length / 2) + ((list_length / 2)+1))/2)\n",
    "        median = lst[element]\n",
    "    return median\n",
    "median_func(dice_rolled)"
   ]
  },
  {
   "cell_type": "markdown",
   "metadata": {},
   "source": [
    "#### 4.- Define a function to calculate the four quartiles. You can use the function you defined above to compute the median but you are not allowed to use any methods or functions that directly calculate the quartiles. "
   ]
  },
  {
   "cell_type": "code",
   "execution_count": 269,
   "metadata": {},
   "outputs": [
    {
     "data": {
      "text/plain": [
       "(3, 5, 6)"
      ]
     },
     "execution_count": 269,
     "metadata": {},
     "output_type": "execute_result"
    }
   ],
   "source": [
    "# your code here\n",
    "def quartiles(lst):\n",
    "    lst.sort()\n",
    "#     print(lst)\n",
    "    \n",
    "    list_length = len(lst)\n",
    "    Q2 = int(median_func(lst))\n",
    "    if (list_length % 2 == 0):\n",
    "   # even\n",
    "       Q1 = median_func(lst[:Q2])\n",
    "       Q3 = median_func(lst[Q2:])\n",
    "    else:\n",
    "   # odd\n",
    "       Q1 = median_func(lst[:Q2])  # same as even\n",
    "       Q3 = median_func(lst[Q2+1:])\n",
    "    \n",
    "    return (Q1,Q2,Q3)\n",
    "\n",
    "quartiles(dice_rolled)\n"
   ]
  },
  {
   "cell_type": "markdown",
   "metadata": {},
   "source": [
    "## Challenge 3\n",
    "Read the csv `roll_the_dice_hundred.csv` from the `data` folder.\n",
    "#### 1.- Sort the values and plot them. What do you see?"
   ]
  },
  {
   "cell_type": "code",
   "execution_count": 163,
   "metadata": {},
   "outputs": [
    {
     "data": {
      "text/plain": [
       "array([[<matplotlib.axes._subplots.AxesSubplot object at 0x7fcde27e7f70>]],\n",
       "      dtype=object)"
      ]
     },
     "execution_count": 163,
     "metadata": {},
     "output_type": "execute_result"
    },
    {
     "data": {
      "image/png": "[encoded data removed]",
      "text/plain": [
       "<Figure size 432x288 with 1 Axes>"
      ]
     },
     "metadata": {
      "needs_background": "light"
     },
     "output_type": "display_data"
    }
   ],
   "source": [
    "# your code here\n",
    "dice_rolled_100 = rolling_dice(100)\n",
    "dice_rolled_100\n",
    "colname = ['Dice Rolled']\n",
    "df_100 = pd.DataFrame(dice_rolled_100, columns = colname)\n",
    "df_100\n",
    "import matplotlib\n",
    "\n",
    "%matplotlib inline\n",
    "\n",
    "sorted_values = df_100.sort_values(by = colname, ascending = False)\n",
    "sorted_values.hist()"
   ]
  },
  {
   "cell_type": "code",
   "execution_count": 166,
   "metadata": {},
   "outputs": [
    {
     "data": {
      "text/plain": [
       "'\\nyour comments here\\nThe histogram contains all the numbers from 1 to 6 where \\n1 as occured 19 times in the list\\n2 as occured 21 times\\n3 as occured 13 times\\n4 as occured 14 times\\n5 has occured nearly 20 times which is the highest in our list and\\nfinally 6 has occured 13 times in the list\\n'"
      ]
     },
     "execution_count": 166,
     "metadata": {},
     "output_type": "execute_result"
    }
   ],
   "source": [
    "\"\"\"\n",
    "your comments here\n",
    "The histogram contains all the numbers from 1 to 6 where \n",
    "1 as occured 19 times in the list\n",
    "2 as occured 21 times\n",
    "3 as occured 13 times\n",
    "4 as occured 14 times\n",
    "5 has occured nearly 20 times which is the highest in our list and\n",
    "finally 6 has occured 13 times in the list\n",
    "\"\"\""
   ]
  },
  {
   "cell_type": "markdown",
   "metadata": {},
   "source": [
    "#### 2.- Using the functions you defined in *challenge 2*, calculate the mean value of the hundred dice rolls."
   ]
  },
  {
   "cell_type": "code",
   "execution_count": 167,
   "metadata": {},
   "outputs": [
    {
     "name": "stdout",
     "output_type": "stream",
     "text": [
      "The List is [4, 1, 3, 2, 1, 3, 4, 6, 4, 2, 5, 4, 3, 5, 1, 1, 4, 5, 5, 2, 1, 5, 5, 1, 4, 6, 1, 4, 2, 1, 5, 4, 2, 4, 1, 2, 2, 3, 3, 2, 5, 2, 5, 6, 6, 1, 4, 5, 2, 2, 3, 5, 6, 6, 2, 1, 3, 5, 2, 1, 6, 2, 5, 3, 1, 2, 1, 6, 2, 3, 2, 6, 4, 5, 2, 2, 4, 2, 2, 6, 1, 5, 6, 4, 1, 5, 5, 3, 1, 5, 6, 6, 3, 4, 3, 1, 3, 1, 5, 5]\n",
      "Total elements in the list are: 100\n",
      "Sum of elements are: 334\n"
     ]
    },
    {
     "data": {
      "text/plain": [
       "3.34"
      ]
     },
     "execution_count": 167,
     "metadata": {},
     "output_type": "execute_result"
    }
   ],
   "source": [
    "# your code here\n",
    "mean_func(dice_rolled_100)"
   ]
  },
  {
   "cell_type": "markdown",
   "metadata": {},
   "source": [
    "#### 3.- Now, calculate the frequency distribution.\n"
   ]
  },
  {
   "cell_type": "code",
   "execution_count": 168,
   "metadata": {},
   "outputs": [
    {
     "data": {
      "text/plain": [
       "{4: 14, 1: 19, 3: 13, 2: 21, 6: 13, 5: 20}"
      ]
     },
     "execution_count": 168,
     "metadata": {},
     "output_type": "execute_result"
    }
   ],
   "source": [
    "# your code here\n",
    "occurences(dice_rolled_100)"
   ]
  },
  {
   "cell_type": "markdown",
   "metadata": {},
   "source": [
    "#### 4.- Plot the histogram. What do you see (shape, values...) ? How can you connect the mean value to the histogram? "
   ]
  },
  {
   "cell_type": "code",
   "execution_count": 185,
   "metadata": {},
   "outputs": [
    {
     "name": "stdout",
     "output_type": "stream",
     "text": [
      "Frequecy distribution: {4: 14, 1: 19, 3: 13, 2: 21, 6: 13, 5: 20}\n",
      "The List is {4: 14, 1: 19, 3: 13, 2: 21, 6: 13, 5: 20}\n",
      "Total elements in the list are: 6\n",
      "Sum of elements are: 21\n",
      "3.5\n"
     ]
    },
    {
     "data": {
      "image/png": "[encoded data removed]",
      "text/plain": [
       "<Figure size 432x288 with 1 Axes>"
      ]
     },
     "metadata": {
      "needs_background": "light"
     },
     "output_type": "display_data"
    }
   ],
   "source": [
    "# your code here\n",
    "print(f\"Frequecy distribution: {occurences(dice_rolled_100)}\")\n",
    "occur_100 = occurences(dice_rolled_100)\n",
    "mean = mean_func(occur_100)\n",
    "print(mean)\n",
    "plt.bar(occur_100.keys(), occur_100.values())\n",
    "plt.show()\n"
   ]
  },
  {
   "cell_type": "code",
   "execution_count": null,
   "metadata": {},
   "outputs": [],
   "source": [
    "\"\"\"\n",
    "your comments here\n",
    "From the data I found out the mean value  is 3.5. So the mean value can be plotted at 3.5 in the histogram.\n",
    "\"\"\""
   ]
  },
  {
   "cell_type": "markdown",
   "metadata": {},
   "source": [
    "#### 5.- Read the `roll_the_dice_thousand.csv` from the `data` folder. Plot the frequency distribution as you did before. Has anything changed? Why do you think it changed?"
   ]
  },
  {
   "cell_type": "code",
   "execution_count": 186,
   "metadata": {},
   "outputs": [
    {
     "name": "stdout",
     "output_type": "stream",
     "text": [
      "Frequecy distribution: {3: 170, 5: 175, 2: 167, 4: 170, 6: 166, 1: 152}\n"
     ]
    },
    {
     "data": {
      "image/png": "[encoded data removed]",
      "text/plain": [
       "<Figure size 432x288 with 1 Axes>"
      ]
     },
     "metadata": {
      "needs_background": "light"
     },
     "output_type": "display_data"
    }
   ],
   "source": [
    "# your code here\n",
    "dice_rolled_1000 = rolling_dice(1000)\n",
    "dice_rolled_1000\n",
    "\n",
    "print(f\"Frequecy distribution: {occurences(dice_rolled_1000)}\")\n",
    "occur_1000 = occurences(dice_rolled_1000)\n",
    "plt.bar(occur_1000.keys(), occur_1000.values())\n",
    "plt.show()"
   ]
  },
  {
   "cell_type": "code",
   "execution_count": null,
   "metadata": {},
   "outputs": [],
   "source": [
    "\"\"\"\n",
    "your comments here\n",
    "In the previous histogram we took random values for 100 times but in this histogram we took 1000 times, so the number\n",
    "of occurences increases.\n",
    "\"\"\""
   ]
  },
  {
   "cell_type": "markdown",
   "metadata": {},
   "source": [
    "## Challenge 4\n",
    "In the `data` folder of this repository you will find three different files with the prefix `ages_population`. These files contain information about a poll answered by a thousand people regarding their age. Each file corresponds to the poll answers in different neighbourhoods of Barcelona.\n",
    "\n",
    "#### 1.- Read the file `ages_population.csv`. Calculate the frequency distribution and plot it as we did during the lesson. Try to guess the range in which the mean and the standard deviation will be by looking at the plot. "
   ]
  },
  {
   "cell_type": "code",
   "execution_count": 225,
   "metadata": {},
   "outputs": [
    {
     "data": {
      "image/png": "[encoded data removed]",
      "text/plain": [
       "<Figure size 432x288 with 1 Axes>"
      ]
     },
     "metadata": {
      "needs_background": "light"
     },
     "output_type": "display_data"
    }
   ],
   "source": [
    "# your code here\n",
    "age_population = pd.read_csv('/Users/iswetha/ironhack/dataV2-labs/module-2/Descriptive-Stats/data/ages_population.csv')\n",
    "\n",
    "population_occurence = occurences(age_population['observation'].tolist())\n",
    "plt.bar(population_occurence.keys(), population_occurence.values())\n",
    "plt.show()"
   ]
  },
  {
   "cell_type": "markdown",
   "metadata": {},
   "source": [
    "#### 2.- Calculate the exact mean and standard deviation and compare them with your guesses. Do they fall inside the ranges you guessed?"
   ]
  },
  {
   "cell_type": "code",
   "execution_count": 240,
   "metadata": {},
   "outputs": [
    {
     "name": "stdout",
     "output_type": "stream",
     "text": [
      "mean value is 36.56\n"
     ]
    },
    {
     "data": {
      "text/plain": [
       "12.816499625976762"
      ]
     },
     "execution_count": 240,
     "metadata": {},
     "output_type": "execute_result"
    }
   ],
   "source": [
    "# your code here\n",
    "import math\n",
    "def std_deviation(lst):\n",
    "    mean = mean_func(lst)\n",
    "    print(f\"mean value is {mean}\")\n",
    "    differences = []\n",
    "    sum_of_squared_differnces = 0\n",
    "    number_of_elements = len(lst)\n",
    "    square_of_differences = []\n",
    "    \n",
    "    for element in lst:\n",
    "        diff = (element - mean)\n",
    "        differences.append(diff)\n",
    "        \n",
    "    for element in differences:\n",
    "        diff = element ** 2\n",
    "        square_of_differences.append(diff)\n",
    "        \n",
    "    for element in square_of_differences:\n",
    "        sum_of_squared_differnces += element\n",
    "    \n",
    "    variance = (sum_of_squared_differnces) / (number_of_elements - 1)\n",
    "    std_dev =  math.sqrt(variance)\n",
    "    \n",
    "    return std_dev\n",
    "    \n",
    "std_deviation(age_population['observation'].tolist())"
   ]
  },
  {
   "cell_type": "code",
   "execution_count": 241,
   "metadata": {},
   "outputs": [
    {
     "data": {
      "text/plain": [
       "'\\nyour comments here\\nI guessed the mean value as 38 but the actual value was 36.56\\nI guessed the standard deviation as 27 but the actual was 12.81\\n\\n'"
      ]
     },
     "execution_count": 241,
     "metadata": {},
     "output_type": "execute_result"
    }
   ],
   "source": [
    "\"\"\"\n",
    "your comments here\n",
    "I guessed the mean value as 38 but the actual value was 36.56\n",
    "I guessed the standard deviation as 27 but the actual was 12.81\n",
    "\n",
    "\"\"\""
   ]
  },
  {
   "cell_type": "markdown",
   "metadata": {},
   "source": [
    "#### 3.- Now read the file `ages_population2.csv` . Calculate the frequency distribution and plot it."
   ]
  },
  {
   "cell_type": "code",
   "execution_count": 243,
   "metadata": {},
   "outputs": [
    {
     "data": {
      "image/png": "[encoded data removed]",
      "text/plain": [
       "<Figure size 432x288 with 1 Axes>"
      ]
     },
     "metadata": {
      "needs_background": "light"
     },
     "output_type": "display_data"
    }
   ],
   "source": [
    "# your code here\n",
    "age_population2 = pd.read_csv('/Users/iswetha/ironhack/dataV2-labs/module-2/Descriptive-Stats/data/ages_population2.csv')\n",
    "age_population2\n",
    "\n",
    "population_occurence2 = occurences(age_population2['observation'].tolist())\n",
    "plt.bar(population_occurence2.keys(), population_occurence2.values())\n",
    "plt.show()"
   ]
  },
  {
   "cell_type": "markdown",
   "metadata": {},
   "source": [
    "####  4.- What do you see? Is there any difference with the frequency distribution in step 1?"
   ]
  },
  {
   "cell_type": "code",
   "execution_count": null,
   "metadata": {},
   "outputs": [],
   "source": [
    "\"\"\"\n",
    "your comments here\n",
    "In step1 the range of values are from 0 to 80 whereas in this the range of values are from 20 to 35.\n",
    "\n",
    "\"\"\""
   ]
  },
  {
   "cell_type": "markdown",
   "metadata": {},
   "source": [
    "#### 5.- Calculate the mean and standard deviation. Compare the results with the mean and standard deviation in step 2. What do you think?"
   ]
  },
  {
   "cell_type": "code",
   "execution_count": 244,
   "metadata": {},
   "outputs": [
    {
     "name": "stdout",
     "output_type": "stream",
     "text": [
      "mean value is 27.155\n"
     ]
    },
    {
     "data": {
      "text/plain": [
       "2.969813932689186"
      ]
     },
     "execution_count": 244,
     "metadata": {},
     "output_type": "execute_result"
    }
   ],
   "source": [
    "# your code here\n",
    "std_deviation(age_population2['observation'].tolist())"
   ]
  },
  {
   "cell_type": "code",
   "execution_count": null,
   "metadata": {},
   "outputs": [],
   "source": [
    "\"\"\"\n",
    "your comments here\n",
    "The mean value in step 2 was 36.56 and standard deviation was 12.81 whereas the mean value in this is 27.155 and \n",
    "standard deviation is 2.96\n",
    "\"\"\""
   ]
  },
  {
   "cell_type": "markdown",
   "metadata": {},
   "source": [
    "## Challenge 5\n",
    "Now is the turn of `ages_population3.csv`.\n",
    "\n",
    "#### 1.- Read the file `ages_population3.csv`. Calculate the frequency distribution and plot it."
   ]
  },
  {
   "cell_type": "code",
   "execution_count": 264,
   "metadata": {},
   "outputs": [
    {
     "data": {
      "image/png": "[encoded data removed]",
      "text/plain": [
       "<Figure size 432x288 with 1 Axes>"
      ]
     },
     "metadata": {
      "needs_background": "light"
     },
     "output_type": "display_data"
    }
   ],
   "source": [
    "# your code here\n",
    "age_population3 = pd.read_csv('/Users/iswetha/ironhack/dataV2-labs/module-2/Descriptive-Stats/data/ages_population3.csv')\n",
    "\n",
    "population_occurence3 = occurences(age_population3['observation'].tolist())\n",
    "plt.bar(population_occurence3.keys(), population_occurence3.values())\n",
    "plt.show()"
   ]
  },
  {
   "cell_type": "markdown",
   "metadata": {},
   "source": [
    "#### 2.- Calculate the mean and standard deviation. Compare the results with the plot in step 1. What is happening?"
   ]
  },
  {
   "cell_type": "code",
   "execution_count": 265,
   "metadata": {},
   "outputs": [
    {
     "name": "stdout",
     "output_type": "stream",
     "text": [
      "mean value is 41.989\n"
     ]
    },
    {
     "data": {
      "text/plain": [
       "16.144705959865934"
      ]
     },
     "execution_count": 265,
     "metadata": {},
     "output_type": "execute_result"
    }
   ],
   "source": [
    "# your code here\n",
    "std_deviation(age_population3['observation'].tolist())"
   ]
  },
  {
   "cell_type": "code",
   "execution_count": 266,
   "metadata": {},
   "outputs": [
    {
     "data": {
      "text/plain": [
       "'\\nyour comments here\\n\\n'"
      ]
     },
     "execution_count": 266,
     "metadata": {},
     "output_type": "execute_result"
    }
   ],
   "source": [
    "\"\"\"\n",
    "your comments here\n",
    "the range of values are from 0 to 80 in the plot, \n",
    "\n",
    "\"\"\""
   ]
  },
  {
   "cell_type": "markdown",
   "metadata": {},
   "source": [
    "#### 3.- Calculate the four quartiles. Use the results to explain your reasoning for question in step 2. How much of a difference is there between the median and the mean?"
   ]
  },
  {
   "cell_type": "code",
   "execution_count": 273,
   "metadata": {},
   "outputs": [
    {
     "data": {
      "text/plain": [
       "(14.0, 40, 41.0)"
      ]
     },
     "execution_count": 273,
     "metadata": {},
     "output_type": "execute_result"
    }
   ],
   "source": [
    "# your code here\n",
    "# median_func(age_population3['observation'].tolist()) # 32\n",
    "quartiles(age_population3['observation'].tolist())"
   ]
  },
  {
   "cell_type": "code",
   "execution_count": null,
   "metadata": {},
   "outputs": [],
   "source": [
    "\"\"\"\n",
    "your comments here\n",
    "The mean value for the data is 41.98 whereas the median value for the data is 32 which is a unsorted list \n",
    "but for the sorted list the median value is 40.\n",
    "\n",
    "the difference between mean and median of unsorted list is 9.89\n",
    "the difference between mean and median of sorted list is 1.89\n",
    "\"\"\""
   ]
  },
  {
   "cell_type": "markdown",
   "metadata": {},
   "source": [
    "#### 4.- Calculate other percentiles that might be useful to give more arguments to your reasoning."
   ]
  },
  {
   "cell_type": "code",
   "execution_count": 282,
   "metadata": {},
   "outputs": [
    {
     "data": {
      "text/plain": [
       "(58.0, 20.0)"
      ]
     },
     "execution_count": 282,
     "metadata": {},
     "output_type": "execute_result"
    }
   ],
   "source": [
    "# your code here\n",
    "# min+(max-min)*percentile\n",
    "def percentile(lst):\n",
    "    min_value = min(lst)\n",
    "#     print(min_value)\n",
    "    max_value = max(lst)\n",
    "#     print(max_value)\n",
    "    res_25 = min_value+((max_value-min_value)*(3/4))\n",
    "    res_75 = min_value+((max_value-min_value)*(1/4))\n",
    "    return res_25, res_75\n",
    "\n",
    "percentile(age_population3['observation'].tolist())\n",
    "\n",
    "# age_population3.describe()\n"
   ]
  },
  {
   "cell_type": "code",
   "execution_count": null,
   "metadata": {},
   "outputs": [],
   "source": [
    "\"\"\"\n",
    "your comments here\n",
    "There are 58 values that are in the range of 25 percentile\n",
    "Ther are 20 values that are in the 75 percentile\n",
    "\"\"\""
   ]
  },
  {
   "cell_type": "markdown",
   "metadata": {},
   "source": [
    "## Bonus challenge\n",
    "Compare the information about the three neighbourhoods. Prepare a report about the three of them. Remember to find out which are their similarities and their differences backing your arguments in basic statistics."
   ]
  },
  {
   "cell_type": "code",
   "execution_count": null,
   "metadata": {},
   "outputs": [],
   "source": [
    "# your code here"
   ]
  },
  {
   "cell_type": "code",
   "execution_count": null,
   "metadata": {},
   "outputs": [],
   "source": [
    "\"\"\"\n",
    "your comments here\n",
    "\"\"\""
   ]
  }
 ],
 "metadata": {
  "kernelspec": {
   "display_name": "Python 3",
   "language": "python",
   "name": "python3"
  },
  "language_info": {
   "codemirror_mode": {
    "name": "ipython",
    "version": 3
   },
   "file_extension": ".py",
   "mimetype": "text/x-python",
   "name": "python",
   "nbconvert_exporter": "python",
   "pygments_lexer": "ipython3",
   "version": "3.8.3"
  }
 },
 "nbformat": 4,
 "nbformat_minor": 2
}
