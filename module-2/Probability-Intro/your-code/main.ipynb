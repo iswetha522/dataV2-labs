{
 "cells": [
  {
   "cell_type": "markdown",
   "metadata": {},
   "source": [
    "# Introduction To Probability\n",
    "## Challenge 1\n",
    "\n",
    "A and B are events of a probability space with $(\\omega, \\sigma, P)$ such that $P(A) = 0.3$, $P(B) = 0.6$ and $P(A \\cap B) = 0.1$\n",
    "\n",
    "Which of the following statements are false?\n",
    "* $P(A \\cup B) = 0.6$\n",
    "* $P(A \\cap B^{C}) = 0.2$\n",
    "* $P(A \\cap (B \\cup B^{C})) = 0.4$\n",
    "* $P(A^{C} \\cap B^{C}) = 0.3$\n",
    "* $P((A \\cap B)^{C}) = 0.9$"
   ]
  },
  {
   "cell_type": "code",
   "execution_count": 1,
   "metadata": {},
   "outputs": [
    {
     "data": {
      "text/plain": [
       "'\\nyour solution here\\nP(A U B) = P(A) + P(B) - P(𝐴∩𝐵)\\nP(A U B) = 0.3 + 0.6 - 0.1\\n0.6 != 0.8 (FALSE)\\n\\n\\nP(𝐴∩𝐵^C) = P(A) * P(B^C)\\n         = P(A) * (1-P(B))\\n         = P(A) - P(A)P(B)\\n         = 0.3 - (0.3 * 0.6)\\n         = 0.3 - (0.18)\\n         = 0.12 (FALSE)\\n         \\n         \\n𝑃(𝐴∩(𝐵∪𝐵^C)) = P(A∩(P(B) + P(B^C)))\\n              = P(A∩(P(B)+1 - P(B)))\\n              = P(A ∩ 1)\\n              = P(A)\\n              = 0.3(FALSE)\\n              \\n              \\n𝑃(𝐴^𝐶∩𝐵^𝐶) = P(A^C)* P(B^C)\\n            = (1 - P(A)) * (1 - P(B))\\n            = 1 - P(A) - P(B) + P(A)*P(B)\\n            = 1 - 0.3 - 0.6 + 0.18\\n            = 0.28(FALSE)\\n            \\n            \\n𝑃((𝐴∩𝐵)^𝐶) = 1 - 𝑃(𝐴∩𝐵)\\n            = 1 - 0.1\\n            = 0.9(TRUE)\\n              \\n'"
      ]
     },
     "execution_count": 1,
     "metadata": {},
     "output_type": "execute_result"
    }
   ],
   "source": [
    "\"\"\"\n",
    "your solution here\n",
    "P(A U B) = P(A) + P(B) - P(𝐴∩𝐵)\n",
    "P(A U B) = 0.3 + 0.6 - 0.1\n",
    "0.6 != 0.8 (FALSE)\n",
    "\n",
    "\n",
    "P(𝐴∩𝐵^C) = P(A) * P(B^C)\n",
    "         = P(A) * (1-P(B))\n",
    "         = P(A) - P(A)P(B)\n",
    "         = 0.3 - (0.3 * 0.6)\n",
    "         = 0.3 - (0.18)\n",
    "         = 0.12 (FALSE)\n",
    "         \n",
    "         \n",
    "𝑃(𝐴∩(𝐵∪𝐵^C)) = P(A∩(P(B) + P(B^C)))\n",
    "              = P(A∩(P(B)+1 - P(B)))\n",
    "              = P(A ∩ 1)\n",
    "              = P(A)\n",
    "              = 0.3(FALSE)\n",
    "              \n",
    "              \n",
    "𝑃(𝐴^𝐶∩𝐵^𝐶) = P(A^C)* P(B^C)\n",
    "            = (1 - P(A)) * (1 - P(B))\n",
    "            = 1 - P(A) - P(B) + P(A)*P(B)\n",
    "            = 1 - 0.3 - 0.6 + 0.18\n",
    "            = 0.28(FALSE)\n",
    "            \n",
    "            \n",
    "𝑃((𝐴∩𝐵)^𝐶) = 1 - 𝑃(𝐴∩𝐵)\n",
    "            = 1 - 0.1\n",
    "            = 0.9(TRUE)\n",
    "              \n",
    "\"\"\""
   ]
  },
  {
   "cell_type": "markdown",
   "metadata": {},
   "source": [
    "## Challenge 2\n",
    "There is a box with 10 white balls, 12 red balls and 8 black balls. Calculate the probability of:\n",
    "* Taking a white ball out.\n",
    "* Taking a white ball out after taking a black ball out.\n",
    "* Taking a red ball out after taking a black and a red ball out.\n",
    "* Taking a red ball out after taking a black and a red ball out with reposition.\n",
    "\n",
    "**Hint**: Reposition means putting back the ball into the box after taking it out."
   ]
  },
  {
   "cell_type": "code",
   "execution_count": 2,
   "metadata": {},
   "outputs": [
    {
     "data": {
      "text/plain": [
       "'\\nyour solution here\\n\\nTotal outcomes = 10 + 12 + 8 = 30 balls\\n\\nTaking a white ball out - 10 / 30 = 1/3\\n\\nTaking a white ball out after taking a black ball out. - (8/30)*(10/29)\\n\\nTaking a red ball out after taking a black and a red ball out.(8/30)*(12/29)*(11/28)\\n\\nTaking a red ball out after taking a black and a red ball out with reposition.(8/30)*(12/30)*(12/30)\\n\\n'"
      ]
     },
     "execution_count": 2,
     "metadata": {},
     "output_type": "execute_result"
    }
   ],
   "source": [
    "\"\"\"\n",
    "your solution here\n",
    "\n",
    "Total outcomes = 10 + 12 + 8 = 30 balls\n",
    "\n",
    "Taking a white ball out - 10 / 30 = 1/3\n",
    "\n",
    "Taking a white ball out after taking a black ball out. - (8/30)*(10/29)\n",
    "\n",
    "Taking a red ball out after taking a black and a red ball out.(8/30)*(12/29)*(11/28)\n",
    "\n",
    "Taking a red ball out after taking a black and a red ball out with reposition.(8/30)*(12/30)*(12/30)\n",
    "\n",
    "\"\"\""
   ]
  },
  {
   "cell_type": "markdown",
   "metadata": {},
   "source": [
    "## Challenge 3\n",
    "\n",
    "You are planning to go on a picnic today but the morning is cloudy. You hate rain so you don't know whether to go out or stay home! To help you make a decision, you gather the following data about rainy days:\n",
    "\n",
    "* 50% of all rainy days start off cloudy!\n",
    "* Cloudy mornings are common. About 40% of days start cloudy. \n",
    "* This month is usually dry so only 3 of 30 days (10%) tend to be rainy. \n",
    "\n",
    "What is the chance of rain during the day?"
   ]
  },
  {
   "cell_type": "code",
   "execution_count": 3,
   "metadata": {},
   "outputs": [
    {
     "data": {
      "text/plain": [
       "'\\nyour solution here\\nFrom Bayes Theorem\\np(A/B) = (P(A) * P(B/A)) / P(B)\\nP(Rain) is Probability of Rain = 10%\\nP(Cloud) is Probability of Cloud = 40%\\nP(Cloud|Rain) is Probability of Cloud, given that Rain happens = 50%\\nP(Rain|Cloud) = (P(Rain) P(Cloud|Rain)) / P(Cloud)\\n              = (0.1 * 0.5) / (0.4)\\n              = 0.125\\nTherefore, there is 12.5% chance of rain.\\n'"
      ]
     },
     "execution_count": 3,
     "metadata": {},
     "output_type": "execute_result"
    }
   ],
   "source": [
    "\"\"\"\n",
    "your solution here\n",
    "From Bayes Theorem\n",
    "p(A/B) = (P(A) * P(B/A)) / P(B)\n",
    "P(Rain) is Probability of Rain = 10%\n",
    "P(Cloud) is Probability of Cloud = 40%\n",
    "P(Cloud|Rain) is Probability of Cloud, given that Rain happens = 50%\n",
    "P(Rain|Cloud) = (P(Rain) P(Cloud|Rain)) / P(Cloud)\n",
    "              = (0.1 * 0.5) / (0.4)\n",
    "              = 0.125\n",
    "Therefore, there is 12.5% chance of rain.\n",
    "\"\"\""
   ]
  },
  {
   "cell_type": "markdown",
   "metadata": {},
   "source": [
    "## Challenge 4\n",
    "\n",
    "One thousand people were asked through a telephone survey whether they thought more street lighting is needed at night or not.\n",
    "\n",
    "Out of the 480 men that answered the survey, 324 said yes and 156 said no. On the other hand, out of the 520 women that answered, 351 said yes and 169 said no. \n",
    "\n",
    "We wonder if men and women have a different opinions about the street lighting matter. Is gender relevant or irrelevant to the question?\n",
    "\n",
    "Consider the following events:\n",
    "- The answer is yes, so the person that answered thinks that more street lighting is needed.\n",
    "- The person who answered is a man.\n",
    "\n",
    "We want to know if these events are independent, that is, if the fact of wanting more light depends on whether one is male or female. Are these events independent or not?\n",
    "\n",
    "**Hint**: To clearly compare the answers by gender, it is best to place the data in a table."
   ]
  },
  {
   "cell_type": "code",
   "execution_count": 4,
   "metadata": {},
   "outputs": [
    {
     "data": {
      "text/html": [
       "<div>\n",
       "<style scoped>\n",
       "    .dataframe tbody tr th:only-of-type {\n",
       "        vertical-align: middle;\n",
       "    }\n",
       "\n",
       "    .dataframe tbody tr th {\n",
       "        vertical-align: top;\n",
       "    }\n",
       "\n",
       "    .dataframe thead th {\n",
       "        text-align: right;\n",
       "    }\n",
       "</style>\n",
       "<table border=\"1\" class=\"dataframe\">\n",
       "  <thead>\n",
       "    <tr style=\"text-align: right;\">\n",
       "      <th></th>\n",
       "      <th>Yes</th>\n",
       "      <th>No</th>\n",
       "    </tr>\n",
       "    <tr>\n",
       "      <th>Gender</th>\n",
       "      <th></th>\n",
       "      <th></th>\n",
       "    </tr>\n",
       "  </thead>\n",
       "  <tbody>\n",
       "    <tr>\n",
       "      <th>Male</th>\n",
       "      <td>0.675</td>\n",
       "      <td>0.325</td>\n",
       "    </tr>\n",
       "    <tr>\n",
       "      <th>Female</th>\n",
       "      <td>0.675</td>\n",
       "      <td>0.325</td>\n",
       "    </tr>\n",
       "  </tbody>\n",
       "</table>\n",
       "</div>"
      ],
      "text/plain": [
       "          Yes     No\n",
       "Gender              \n",
       "Male    0.675  0.325\n",
       "Female  0.675  0.325"
      ]
     },
     "execution_count": 4,
     "metadata": {},
     "output_type": "execute_result"
    }
   ],
   "source": [
    "# your code here\n",
    "import pandas as pd\n",
    "import numpy as np\n",
    "\n",
    "yes = [324/480, 351/520]\n",
    "no = [156/480, 169/520]\n",
    "gender = ['Male', 'Female']\n",
    "colnames = ['Yes', 'No', 'Gender']\n",
    "data = pd.DataFrame()\n",
    "data['Yes'] = yes\n",
    "data['No'] = no\n",
    "data['Gender'] = gender\n",
    "data.set_index('Gender')"
   ]
  },
  {
   "cell_type": "code",
   "execution_count": 5,
   "metadata": {},
   "outputs": [
    {
     "data": {
      "text/plain": [
       "'\\nyour solution here\\nIn this case both male and female have the same probability of yes with 0.675. \\nThe answer is yes, so the person that answered thinks that more street lighting is needed - This condition is true.\\nThe person who answered is a man. - This condition fails as there are both male and female who answered this survey.\\nSo, in two events if one of the condition is true then these events are said to be independent. So, in our case the\\nevents are independent.\\n'"
      ]
     },
     "execution_count": 5,
     "metadata": {},
     "output_type": "execute_result"
    }
   ],
   "source": [
    "\"\"\"\n",
    "your solution here\n",
    "In this case both male and female have the same probability of yes with 0.675. \n",
    "The answer is yes, so the person that answered thinks that more street lighting is needed - This condition is true.\n",
    "The person who answered is a man. - This condition fails as there are both male and female who answered this survey.\n",
    "So, in two events if one of the condition is true then these events are said to be independent. So, in our case the\n",
    "events are independent.\n",
    "\"\"\""
   ]
  }
 ],
 "metadata": {
  "kernelspec": {
   "display_name": "Python 3",
   "language": "python",
   "name": "python3"
  },
  "language_info": {
   "codemirror_mode": {
    "name": "ipython",
    "version": 3
   },
   "file_extension": ".py",
   "mimetype": "text/x-python",
   "name": "python",
   "nbconvert_exporter": "python",
   "pygments_lexer": "ipython3",
   "version": "3.8.3"
  }
 },
 "nbformat": 4,
 "nbformat_minor": 2
}
